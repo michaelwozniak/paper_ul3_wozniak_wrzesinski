{
 "cells": [
  {
   "cell_type": "code",
   "execution_count": 6,
   "metadata": {
    "ExecuteTime": {
     "end_time": "2019-12-26T17:16:20.353826Z",
     "start_time": "2019-12-26T17:16:15.049Z"
    }
   },
   "outputs": [
    {
     "name": "stderr",
     "output_type": "stream",
     "text": [
      "Warning message:\n",
      "\"package 'arules' was built under R version 3.6.2\"Loading required package: Matrix\n",
      "\n",
      "Attaching package: 'arules'\n",
      "\n",
      "The following objects are masked from 'package:base':\n",
      "\n",
      "    abbreviate, write\n",
      "\n"
     ]
    }
   ],
   "source": [
    "library(arules)"
   ]
  },
  {
   "cell_type": "code",
   "execution_count": 11,
   "metadata": {
    "ExecuteTime": {
     "end_time": "2019-12-26T17:23:37.088885Z",
     "start_time": "2019-12-26T17:23:36.133Z"
    }
   },
   "outputs": [
    {
     "name": "stderr",
     "output_type": "stream",
     "text": [
      "Warning message in scan(text = l, what = \"character\", sep = sep, quote = quote, :\n",
      "\"Koniec pliku wewnątrz cudzysłowia\"Warning message in scan(text = l, what = \"character\", sep = sep, quote = quote, :\n",
      "\"Koniec pliku wewnątrz cudzysłowia\"Warning message in scan(text = l, what = \"character\", sep = sep, quote = quote, :\n",
      "\"Koniec pliku wewnątrz cudzysłowia\"Warning message in scan(text = l, what = \"character\", sep = sep, quote = quote, :\n",
      "\"Koniec pliku wewnątrz cudzysłowia\"Warning message in scan(text = l, what = \"character\", sep = sep, quote = quote, :\n",
      "\"Koniec pliku wewnątrz cudzysłowia\"Warning message in asMethod(object):\n",
      "\"removing duplicated items in transactions\""
     ]
    }
   ],
   "source": [
    "df <-read.transactions(\"datasets/dataset.csv\", format=\"basket\", sep=\",\", skip=0)"
   ]
  },
  {
   "cell_type": "code",
   "execution_count": 12,
   "metadata": {
    "ExecuteTime": {
     "end_time": "2019-12-26T17:23:37.841757Z",
     "start_time": "2019-12-26T17:23:37.811Z"
    },
    "scrolled": true
   },
   "outputs": [
    {
     "data": {
      "text/plain": [
       "transactions in sparse format with\n",
       " 570 transactions (rows) and\n",
       " 11659 items (columns)"
      ]
     },
     "metadata": {},
     "output_type": "display_data"
    }
   ],
   "source": [
    "df"
   ]
  },
  {
   "cell_type": "code",
   "execution_count": 14,
   "metadata": {
    "ExecuteTime": {
     "end_time": "2019-12-26T17:24:51.817020Z",
     "start_time": "2019-12-26T17:24:51.781Z"
    }
   },
   "outputs": [
    {
     "data": {
      "text/plain": [
       "transactions as itemMatrix in sparse format with\n",
       " 570 rows (elements/itemsets/transactions) and\n",
       " 11659 columns (items) and a density of 0.0029949 \n",
       "\n",
       "most frequent items:\n",
       "    Janusz_Chabior     Piotr_Głowacki      Łukasz_Simlat   Marian_Dziędziel \n",
       "                45                 41                 35                 33 \n",
       "Przemysław_Bluszcz            (Other) \n",
       "                32              19717 \n",
       "\n",
       "element (itemset/transaction) length distribution:\n",
       "sizes\n",
       "  1   2   3   4   5   6   7   8   9  10  11  12  13  14  15  16  17  18  19  20 \n",
       " 22  14  14  10  11  15   7  10   9   9   6   6   9  10  15  16  12   5  12  15 \n",
       " 21  22  23  24  25  26  27  28  29  30  31  32  33  34  35  36  37  38  39  40 \n",
       "  7  12   7  11   5  10   5   7   6   9   3  10   6   5   7   4   5  10   8   5 \n",
       " 41  42  43  44  45  46  47  48  49  50  51  52  53  54  55  56  57  58  59  60 \n",
       " 11   5   6  12   5  12   2   8   2   2   7   4   2   4   6   1   4   5   2   3 \n",
       " 61  62  63  64  65  67  68  69  70  71  72  73  74  75  76  77  78  79  81  82 \n",
       "  3   4   2   6   5   6   3   3   3   5   3   2   5   3   1   1   2   2   1   1 \n",
       " 83  84  86  88  89  90  91  94  97  98 101 105 108 109 110 120 121 122 130 136 \n",
       "  2   2   1   2   1   3   2   1   1   1   1   1   3   1   2   1   1   1   2   1 \n",
       "140 147 148 172 195 \n",
       "  1   2   1   2   1 \n",
       "\n",
       "   Min. 1st Qu.  Median    Mean 3rd Qu.    Max. \n",
       "   1.00   14.00   28.00   34.92   48.00  195.00 \n",
       "\n",
       "includes extended item information - examples:\n",
       "                      labels\n",
       "1        ?orleifur_Einarsson\n",
       "2         ?orsteinn_Bachmann\n",
       "3 ?orsteinn_Gunnar_Bjarnason"
      ]
     },
     "metadata": {},
     "output_type": "display_data"
    }
   ],
   "source": [
    "summary(df)"
   ]
  },
  {
   "cell_type": "code",
   "execution_count": null,
   "metadata": {},
   "outputs": [],
   "source": []
  }
 ],
 "metadata": {
  "kernelspec": {
   "display_name": "R",
   "language": "R",
   "name": "ir"
  },
  "language_info": {
   "codemirror_mode": "r",
   "file_extension": ".r",
   "mimetype": "text/x-r-source",
   "name": "R",
   "pygments_lexer": "r",
   "version": "3.6.1"
  }
 },
 "nbformat": 4,
 "nbformat_minor": 2
}
