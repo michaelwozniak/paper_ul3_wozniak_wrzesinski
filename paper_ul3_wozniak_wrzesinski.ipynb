{
 "cells": [
  {
   "cell_type": "code",
   "execution_count": 1,
   "metadata": {
    "ExecuteTime": {
     "end_time": "2019-12-26T21:28:23.908253Z",
     "start_time": "2019-12-26T21:28:21.237Z"
    }
   },
   "outputs": [
    {
     "name": "stderr",
     "output_type": "stream",
     "text": [
      "Warning message:\n",
      "\"package 'arules' was built under R version 3.6.2\"Loading required package: Matrix\n",
      "\n",
      "Attaching package: 'arules'\n",
      "\n",
      "The following objects are masked from 'package:base':\n",
      "\n",
      "    abbreviate, write\n",
      "\n",
      "Warning message:\n",
      "\"package 'arulesViz' was built under R version 3.6.2\"Loading required package: grid\n",
      "Registered S3 methods overwritten by 'ggplot2':\n",
      "  method         from \n",
      "  [.quosures     rlang\n",
      "  c.quosures     rlang\n",
      "  print.quosures rlang\n",
      "Registered S3 method overwritten by 'seriation':\n",
      "  method         from \n",
      "  reorder.hclust gclus\n"
     ]
    }
   ],
   "source": [
    "library(arules)\n",
    "library(arulesViz)"
   ]
  },
  {
   "cell_type": "code",
   "execution_count": 2,
   "metadata": {
    "ExecuteTime": {
     "end_time": "2019-12-26T21:28:25.662738Z",
     "start_time": "2019-12-26T21:28:24.602Z"
    }
   },
   "outputs": [
    {
     "name": "stderr",
     "output_type": "stream",
     "text": [
      "Warning message in scan(text = l, what = \"character\", sep = sep, quote = quote, :\n",
      "\"Koniec pliku wewnątrz cudzysłowia\"Warning message in scan(text = l, what = \"character\", sep = sep, quote = quote, :\n",
      "\"Koniec pliku wewnątrz cudzysłowia\"Warning message in scan(text = l, what = \"character\", sep = sep, quote = quote, :\n",
      "\"Koniec pliku wewnątrz cudzysłowia\"Warning message in scan(text = l, what = \"character\", sep = sep, quote = quote, :\n",
      "\"Koniec pliku wewnątrz cudzysłowia\"Warning message in scan(text = l, what = \"character\", sep = sep, quote = quote, :\n",
      "\"Koniec pliku wewnątrz cudzysłowia\"Warning message in asMethod(object):\n",
      "\"removing duplicated items in transactions\""
     ]
    }
   ],
   "source": [
    "df <-read.transactions(\"datasets/dataset.csv\", format=\"basket\", sep=\",\", skip=0)"
   ]
  },
  {
   "cell_type": "code",
   "execution_count": 3,
   "metadata": {
    "ExecuteTime": {
     "end_time": "2019-12-26T21:28:27.103034Z",
     "start_time": "2019-12-26T21:28:27.077Z"
    },
    "scrolled": true
   },
   "outputs": [
    {
     "data": {
      "text/plain": [
       "transactions in sparse format with\n",
       " 570 transactions (rows) and\n",
       " 11659 items (columns)"
      ]
     },
     "metadata": {},
     "output_type": "display_data"
    }
   ],
   "source": [
    "df"
   ]
  },
  {
   "cell_type": "code",
   "execution_count": 28,
   "metadata": {
    "ExecuteTime": {
     "end_time": "2019-12-26T17:48:06.878135Z",
     "start_time": "2019-12-26T17:48:06.847Z"
    }
   },
   "outputs": [
    {
     "data": {
      "text/plain": [
       "transactions as itemMatrix in sparse format with\n",
       " 570 rows (elements/itemsets/transactions) and\n",
       " 11659 columns (items) and a density of 0.0029949 \n",
       "\n",
       "most frequent items:\n",
       "    Janusz_Chabior     Piotr_Głowacki      Łukasz_Simlat   Marian_Dziędziel \n",
       "                45                 41                 35                 33 \n",
       "Przemysław_Bluszcz            (Other) \n",
       "                32              19717 \n",
       "\n",
       "element (itemset/transaction) length distribution:\n",
       "sizes\n",
       "  1   2   3   4   5   6   7   8   9  10  11  12  13  14  15  16  17  18  19  20 \n",
       " 22  14  14  10  11  15   7  10   9   9   6   6   9  10  15  16  12   5  12  15 \n",
       " 21  22  23  24  25  26  27  28  29  30  31  32  33  34  35  36  37  38  39  40 \n",
       "  7  12   7  11   5  10   5   7   6   9   3  10   6   5   7   4   5  10   8   5 \n",
       " 41  42  43  44  45  46  47  48  49  50  51  52  53  54  55  56  57  58  59  60 \n",
       " 11   5   6  12   5  12   2   8   2   2   7   4   2   4   6   1   4   5   2   3 \n",
       " 61  62  63  64  65  67  68  69  70  71  72  73  74  75  76  77  78  79  81  82 \n",
       "  3   4   2   6   5   6   3   3   3   5   3   2   5   3   1   1   2   2   1   1 \n",
       " 83  84  86  88  89  90  91  94  97  98 101 105 108 109 110 120 121 122 130 136 \n",
       "  2   2   1   2   1   3   2   1   1   1   1   1   3   1   2   1   1   1   2   1 \n",
       "140 147 148 172 195 \n",
       "  1   2   1   2   1 \n",
       "\n",
       "   Min. 1st Qu.  Median    Mean 3rd Qu.    Max. \n",
       "   1.00   14.00   28.00   34.92   48.00  195.00 \n",
       "\n",
       "includes extended item information - examples:\n",
       "                      labels\n",
       "1        ?orleifur_Einarsson\n",
       "2         ?orsteinn_Bachmann\n",
       "3 ?orsteinn_Gunnar_Bjarnason"
      ]
     },
     "metadata": {},
     "output_type": "display_data"
    }
   ],
   "source": [
    "summary(df)"
   ]
  },
  {
   "cell_type": "code",
   "execution_count": 116,
   "metadata": {
    "ExecuteTime": {
     "end_time": "2019-12-26T18:47:51.822970Z",
     "start_time": "2019-12-26T18:47:51.779Z"
    }
   },
   "outputs": [
    {
     "data": {
      "text/html": [
       "<ol>\n",
       "\t<li><ol class=list-inline>\n",
       "\t<li>'Aleksander_Mikołajczak'</li>\n",
       "\t<li>'Sławomir_Śmiałek'</li>\n",
       "</ol>\n",
       "</li>\n",
       "\t<li><ol class=list-inline>\n",
       "\t<li>'Agnar_Jeger_Holst'</li>\n",
       "\t<li>'Benjamin_Helstad'</li>\n",
       "\t<li>'Daniel_Berg'</li>\n",
       "\t<li>'Ellen_Dorrit_Petersen'</li>\n",
       "\t<li>'Frank_Thomas_Andersen'</li>\n",
       "\t<li>'Julian_Karlsson'</li>\n",
       "\t<li>'Kimmo_Rajala'</li>\n",
       "\t<li>'Kirsti_Asskildt'</li>\n",
       "\t<li>'Kristoffer_Joner'</li>\n",
       "\t<li>'Magnar_Botten'</li>\n",
       "\t<li>'Magnus_Langlete'</li>\n",
       "\t<li>'Markus_Brustad'</li>\n",
       "\t<li>'Martin_Slaatto'</li>\n",
       "\t<li>'Morten_L?vstad'</li>\n",
       "\t<li>'Nils_Fredrik_Tveter'</li>\n",
       "\t<li>'Odin_Gineson_Br?derud'</li>\n",
       "\t<li>'Per_G?rvell'</li>\n",
       "\t<li>'Ragnhild_Vannebo'</li>\n",
       "\t<li>'Richard_Safin'</li>\n",
       "\t<li>'Stellan_Skarsg?rd'</li>\n",
       "\t<li>'Tommy_Jakob_H?land'</li>\n",
       "\t<li>'Trond_Nilssen'</li>\n",
       "</ol>\n",
       "</li>\n",
       "\t<li>'Natalia_Brożyńska'</li>\n",
       "</ol>\n"
      ],
      "text/latex": [
       "\\begin{enumerate}\n",
       "\\item \\begin{enumerate*}\n",
       "\\item 'Aleksander\\_Mikołajczak'\n",
       "\\item 'Sławomir\\_Śmiałek'\n",
       "\\end{enumerate*}\n",
       "\n",
       "\\item \\begin{enumerate*}\n",
       "\\item 'Agnar\\_Jeger\\_Holst'\n",
       "\\item 'Benjamin\\_Helstad'\n",
       "\\item 'Daniel\\_Berg'\n",
       "\\item 'Ellen\\_Dorrit\\_Petersen'\n",
       "\\item 'Frank\\_Thomas\\_Andersen'\n",
       "\\item 'Julian\\_Karlsson'\n",
       "\\item 'Kimmo\\_Rajala'\n",
       "\\item 'Kirsti\\_Asskildt'\n",
       "\\item 'Kristoffer\\_Joner'\n",
       "\\item 'Magnar\\_Botten'\n",
       "\\item 'Magnus\\_Langlete'\n",
       "\\item 'Markus\\_Brustad'\n",
       "\\item 'Martin\\_Slaatto'\n",
       "\\item 'Morten\\_L?vstad'\n",
       "\\item 'Nils\\_Fredrik\\_Tveter'\n",
       "\\item 'Odin\\_Gineson\\_Br?derud'\n",
       "\\item 'Per\\_G?rvell'\n",
       "\\item 'Ragnhild\\_Vannebo'\n",
       "\\item 'Richard\\_Safin'\n",
       "\\item 'Stellan\\_Skarsg?rd'\n",
       "\\item 'Tommy\\_Jakob\\_H?land'\n",
       "\\item 'Trond\\_Nilssen'\n",
       "\\end{enumerate*}\n",
       "\n",
       "\\item 'Natalia\\_Brożyńska'\n",
       "\\end{enumerate}\n"
      ],
      "text/markdown": [
       "1. 1. 'Aleksander_Mikołajczak'\n",
       "2. 'Sławomir_Śmiałek'\n",
       "\n",
       "\n",
       "\n",
       "2. 1. 'Agnar_Jeger_Holst'\n",
       "2. 'Benjamin_Helstad'\n",
       "3. 'Daniel_Berg'\n",
       "4. 'Ellen_Dorrit_Petersen'\n",
       "5. 'Frank_Thomas_Andersen'\n",
       "6. 'Julian_Karlsson'\n",
       "7. 'Kimmo_Rajala'\n",
       "8. 'Kirsti_Asskildt'\n",
       "9. 'Kristoffer_Joner'\n",
       "10. 'Magnar_Botten'\n",
       "11. 'Magnus_Langlete'\n",
       "12. 'Markus_Brustad'\n",
       "13. 'Martin_Slaatto'\n",
       "14. 'Morten_L?vstad'\n",
       "15. 'Nils_Fredrik_Tveter'\n",
       "16. 'Odin_Gineson_Br?derud'\n",
       "17. 'Per_G?rvell'\n",
       "18. 'Ragnhild_Vannebo'\n",
       "19. 'Richard_Safin'\n",
       "20. 'Stellan_Skarsg?rd'\n",
       "21. 'Tommy_Jakob_H?land'\n",
       "22. 'Trond_Nilssen'\n",
       "\n",
       "\n",
       "\n",
       "3. 'Natalia_Brożyńska'\n",
       "\n",
       "\n"
      ],
      "text/plain": [
       "[[1]]\n",
       "[1] \"Aleksander_Mikołajczak\" \"Sławomir_Śmiałek\"      \n",
       "\n",
       "[[2]]\n",
       " [1] \"Agnar_Jeger_Holst\"     \"Benjamin_Helstad\"      \"Daniel_Berg\"          \n",
       " [4] \"Ellen_Dorrit_Petersen\" \"Frank_Thomas_Andersen\" \"Julian_Karlsson\"      \n",
       " [7] \"Kimmo_Rajala\"          \"Kirsti_Asskildt\"       \"Kristoffer_Joner\"     \n",
       "[10] \"Magnar_Botten\"         \"Magnus_Langlete\"       \"Markus_Brustad\"       \n",
       "[13] \"Martin_Slaatto\"        \"Morten_L?vstad\"        \"Nils_Fredrik_Tveter\"  \n",
       "[16] \"Odin_Gineson_Br?derud\" \"Per_G?rvell\"           \"Ragnhild_Vannebo\"     \n",
       "[19] \"Richard_Safin\"         \"Stellan_Skarsg?rd\"     \"Tommy_Jakob_H?land\"   \n",
       "[22] \"Trond_Nilssen\"        \n",
       "\n",
       "[[3]]\n",
       "[1] \"Natalia_Brożyńska\"\n"
      ]
     },
     "metadata": {},
     "output_type": "display_data"
    }
   ],
   "source": [
    "LIST(head(df,3))"
   ]
  },
  {
   "cell_type": "code",
   "execution_count": 117,
   "metadata": {
    "ExecuteTime": {
     "end_time": "2019-12-26T18:48:04.235774Z",
     "start_time": "2019-12-26T18:48:04.193Z"
    }
   },
   "outputs": [
    {
     "data": {
      "text/html": [
       "<ol>\n",
       "\t<li><ol class=list-inline>\n",
       "\t<li>'Adam_Balski'</li>\n",
       "\t<li>'Adrian_Kłos'</li>\n",
       "\t<li>'Aleksandra_Szwed'</li>\n",
       "\t<li>'Andrzej_Fonfara'</li>\n",
       "\t<li>'Andrzej_Kostyra'</li>\n",
       "\t<li>'Anna_Adamska'</li>\n",
       "\t<li>'Anna_Karczmarczyk'</li>\n",
       "\t<li>'Antoni_Chmielewski'</li>\n",
       "\t<li>'Arkadiusz_Tańcula'</li>\n",
       "\t<li>'Arkadiusz_Wrzosek'</li>\n",
       "\t<li>'Bartłomiej_Kotschedoff'</li>\n",
       "\t<li>'Bartosz_Fabiański'</li>\n",
       "\t<li>'Daniel_Kuczaj'</li>\n",
       "\t<li>'Daniel_Szczypa'</li>\n",
       "\t<li>'Dariusz_Sęk'</li>\n",
       "\t<li>'Dariusz_Starczewski'</li>\n",
       "\t<li>'Dariusz_Włodarczyk'</li>\n",
       "\t<li>'Edward_Durda'</li>\n",
       "\t<li>'Gareth_Lawrence'</li>\n",
       "\t<li>'Grzegorz_Proksa'</li>\n",
       "\t<li>'Jarosław_Boberek'</li>\n",
       "\t<li>'Karol_Osentowski'</li>\n",
       "\t<li>'Katarzyna_Maciąg'</li>\n",
       "\t<li>'Krzysztof_Diablo_Włodarczyk'</li>\n",
       "\t<li>'Krzysztof_Kosedowski'</li>\n",
       "\t<li>'Krzysztof_Stelmaszyk'</li>\n",
       "\t<li>'Krzysztof_Szamałek'</li>\n",
       "\t<li>'Maciej_Nawrocki'</li>\n",
       "\t<li>'Marcin_Różalski'</li>\n",
       "\t<li>'Marzena_Kipiel_Sztuka'</li>\n",
       "\t<li>'Michał_Bobrowski'</li>\n",
       "\t<li>'Michał_Kita'</li>\n",
       "\t<li>'Mikołaj_Roznerski'</li>\n",
       "\t<li>'Monika_Pietrasińska'</li>\n",
       "\t<li>'Norbert_Dąbrowski'</li>\n",
       "\t<li>'Piotr_Stramowski'</li>\n",
       "\t<li>'Robert_Wabich'</li>\n",
       "\t<li>'Robert_Złotkowski'</li>\n",
       "\t<li>'Tomasz_Jakubiec'</li>\n",
       "\t<li>'Tomasz_Oświeciński'</li>\n",
       "\t<li>'Wiktoria_Nojszewska'</li>\n",
       "\t<li>'Wojciech_Jagielski'</li>\n",
       "\t<li>'Wojciech_Mecwaldowski'</li>\n",
       "</ol>\n",
       "</li>\n",
       "\t<li><ol class=list-inline>\n",
       "\t<li>'Adrian_Igielski'</li>\n",
       "\t<li>'Agata_Jackowska'</li>\n",
       "\t<li>'Agnieszka_Włodarczyk'</li>\n",
       "\t<li>'Aleksandra_Dziduch'</li>\n",
       "\t<li>'Aleksandra_Linda'</li>\n",
       "\t<li>'Aleksy_Komorowski'</li>\n",
       "\t<li>'Alex_Strong'</li>\n",
       "\t<li>'Bartłomiej_Krat'</li>\n",
       "\t<li>'Bogusław_Linda'</li>\n",
       "\t<li>'Cezary_Łukaszewicz'</li>\n",
       "\t<li>'Cezary_Pazura'</li>\n",
       "\t<li>'Cezary_Żak'</li>\n",
       "\t<li>'Damian_Kret'</li>\n",
       "\t<li>'Dominika_Kachlik'</li>\n",
       "\t<li>'Dominika_Krzemińska'</li>\n",
       "\t<li>'Jacek_Beler'</li>\n",
       "\t<li>'Jagoda_Judzińska'</li>\n",
       "\t<li>'Jędrzej_Wielecki'</li>\n",
       "\t<li>'Joanna_Majstrak'</li>\n",
       "\t<li>'Joanna_Opozda'</li>\n",
       "\t<li>'Kamil_Bończyk'</li>\n",
       "\t<li>'Kamila_Zwierzyńska'</li>\n",
       "\t<li>'Karolina_Pilarczyk'</li>\n",
       "\t<li>'Karolina_Szymczak'</li>\n",
       "\t<li>'Katarzyna_Figura'</li>\n",
       "\t<li>'Krzysztof_Piekarz'</li>\n",
       "\t<li>'Krzysztof_Pyziak'</li>\n",
       "\t<li>'Lena_Kołodziejczak'</li>\n",
       "\t<li>'Luiza_Matyba'</li>\n",
       "\t<li>'Magda_Ho'</li>\n",
       "\t<li>'Magdalena_Emilianowicz'</li>\n",
       "\t<li>'Marcin_Różalski'</li>\n",
       "\t<li>'Marek_Wadas'</li>\n",
       "\t<li>'Margo_Marlow'</li>\n",
       "\t<li>'Mateusz_Janusz'</li>\n",
       "\t<li>'Mikołaj_Roznerski'</li>\n",
       "\t<li>'Mirosław_Zbrojewicz'</li>\n",
       "\t<li>'Monika_Sikocińska'</li>\n",
       "\t<li>'Monika_Włoch'</li>\n",
       "\t<li>'Olga_Niedzielska'</li>\n",
       "\t<li>'Pamela_Stefanowicz'</li>\n",
       "\t<li>'Patricia_Kazadi'</li>\n",
       "\t<li>'Paweł_Orłowski'</li>\n",
       "\t<li>'Paweł_Siergiej'</li>\n",
       "\t<li>'Paweł_Staliński'</li>\n",
       "\t<li>'Piotr_Witkowski'</li>\n",
       "\t<li>'Przemysław_Wyszyński'</li>\n",
       "\t<li>'Rafał_Mohr'</li>\n",
       "\t<li>'Tomasz_Włosok'</li>\n",
       "\t<li>'Vanessa_Gazda'</li>\n",
       "\t<li>'Wojciech_Bocianowski'</li>\n",
       "</ol>\n",
       "</li>\n",
       "\t<li><ol class=list-inline>\n",
       "\t<li>'Adam_Fusik'</li>\n",
       "\t<li>'Adam_Narloch'</li>\n",
       "\t<li>'Adrian_Kłos'</li>\n",
       "\t<li>'Agnieszka_Maracewicz'</li>\n",
       "\t<li>'Agnieszka_Sztuk'</li>\n",
       "\t<li>'Aleksander_Janiszewski'</li>\n",
       "\t<li>'Aleksander_Mackiewicz'</li>\n",
       "\t<li>'Alessio_Palmerii'</li>\n",
       "\t<li>'Alicja_Szramke_Kłos'</li>\n",
       "\t<li>'Andrzej_Brydak'</li>\n",
       "\t<li>'Andrzej_Grabowski'</li>\n",
       "\t<li>'Andrzej_Olszewski'</li>\n",
       "\t<li>'Andrzej_Pieńko'</li>\n",
       "\t<li>'Andrzej_Rozmus'</li>\n",
       "\t<li>'Andrzej_Wejngold'</li>\n",
       "\t<li>'Anna_Karczmarczyk'</li>\n",
       "\t<li>'Anna_Kędziora'</li>\n",
       "\t<li>'Anna_Wicka'</li>\n",
       "\t<li>'Antoni_Królikowski'</li>\n",
       "\t<li>'Arkadiusz_Świetlik'</li>\n",
       "\t<li>'Bartłomiej_Górecki'</li>\n",
       "\t<li>'Bartłomiej_Zobek'</li>\n",
       "\t<li>'Bartosz_Obuchowicz'</li>\n",
       "\t<li>'Damian_Jankowski'</li>\n",
       "\t<li>'Daniel_Olbrychski'</li>\n",
       "\t<li>'Dariusz_Dłużewski'</li>\n",
       "\t<li>'Dariusz_Kowalczyk'</li>\n",
       "\t<li>'Eliza_Gwiazda'</li>\n",
       "\t<li>'Ewa_Kasprzyk'</li>\n",
       "\t<li>'Filip_Moroz'</li>\n",
       "\t<li>'Filip_Wałcerz'</li>\n",
       "\t<li>'Gizella_Bortel'</li>\n",
       "\t<li>'Grzegorz_Barłog'</li>\n",
       "\t<li>'Hanna_Różańska'</li>\n",
       "\t<li>'Hubert_Maj'</li>\n",
       "\t<li>'Iga_Górecka'</li>\n",
       "\t<li>'Iwona_Bielska'</li>\n",
       "\t<li>'Izabela_Jarosińska'</li>\n",
       "\t<li>'Jakub_Matysek'</li>\n",
       "\t<li>'Jakub_Orzechowski'</li>\n",
       "\t<li>'Jakub_Sporek'</li>\n",
       "\t<li>'Jakub_Zimowski'</li>\n",
       "\t<li>'Janusz_Chabior'</li>\n",
       "\t<li>'Janusz_Szpiglewski'</li>\n",
       "\t<li>'Jaropełk_Laskowski'</li>\n",
       "\t<li>'Jolanta_Niedźwiecka'</li>\n",
       "\t<li>'Karolina_Szymczak'</li>\n",
       "\t<li>'Katarzyna_Nowak'</li>\n",
       "\t<li>'Katarzyna_Rzemyszkiewicz'</li>\n",
       "\t<li>'Konrad_Makowski'</li>\n",
       "\t<li>'Kordian_Rekowski'</li>\n",
       "\t<li>'Krzysztof_Chawrona'</li>\n",
       "\t<li>'Krzysztof_Chromiński'</li>\n",
       "\t<li>'Krzysztof_Kalinowski'</li>\n",
       "\t<li>'Leszek_Abrahamowicz'</li>\n",
       "\t<li>'Luiza_Stankiewicz'</li>\n",
       "\t<li>'Maciej_Luśnia'</li>\n",
       "\t<li>'Maciej_Piwnicki'</li>\n",
       "\t<li>'Maciej_Stuhr'</li>\n",
       "\t<li>'Maciej_Szemiel'</li>\n",
       "\t<li>'Marcel_Wiercichowski'</li>\n",
       "\t<li>'Marcin_Bosak'</li>\n",
       "\t<li>'Marcin_Fabisiak'</li>\n",
       "\t<li>'Marcin_Gildner'</li>\n",
       "\t<li>'Marcin_Juchniewicz'</li>\n",
       "\t<li>'Marcin_Kaniewski'</li>\n",
       "\t<li>'Marek_Bera'</li>\n",
       "\t<li>'Margo_Marlow'</li>\n",
       "\t<li>'Mariusz_Binduła'</li>\n",
       "\t<li>'Mariusz_Chałat'</li>\n",
       "\t<li>'Mariusz_Krzemiński'</li>\n",
       "\t<li>'Mariusz_Ostrowski'</li>\n",
       "\t<li>'Marlena_Szmaja'</li>\n",
       "\t<li>'Marta_Adamus'</li>\n",
       "\t<li>'Michał_Jajkiewicz'</li>\n",
       "\t<li>'Mirosław_Węcławek'</li>\n",
       "\t<li>'Monika_Smolińska'</li>\n",
       "\t<li>'Patrycja_Kaszyńska'</li>\n",
       "\t<li>'Patrycja_Tylenda'</li>\n",
       "\t<li>'Paulina_Dulla'</li>\n",
       "\t<li>'Paweł_Koślik'</li>\n",
       "\t<li>'Paweł_Monsiel'</li>\n",
       "\t<li>'Piotr_Bulcewicz'</li>\n",
       "\t<li>'Piotr_Juźków'</li>\n",
       "\t<li>'Piotr_Miedzianowski'</li>\n",
       "\t<li>'Piotr_Skiba'</li>\n",
       "\t<li>'Piotr_Tymczak'</li>\n",
       "\t<li>'Radosław_Garncarek'</li>\n",
       "\t<li>'Radzisław_Woliński'</li>\n",
       "\t<li>'Rafał_Sadowski'</li>\n",
       "\t<li>'Rafał_Wichłacz'</li>\n",
       "\t<li>'Rafał_Żabiński'</li>\n",
       "\t<li>'Robert_Martyniak'</li>\n",
       "\t<li>'Roman_Szeblewski'</li>\n",
       "\t<li>'Sara_Gramowska'</li>\n",
       "\t<li>'Sebastian_Dziubiel'</li>\n",
       "\t<li>'Sławomir_Drygalski'</li>\n",
       "\t<li>'Tadeusz_Chudecki'</li>\n",
       "\t<li>'Tadeusz_Ledzion'</li>\n",
       "\t<li>'Tomasz_Olejnik'</li>\n",
       "\t<li>'Tomasz_Oświeciński'</li>\n",
       "\t<li>'Tomasz_Sapryk'</li>\n",
       "\t<li>'Włodzimierz_Jesionowski'</li>\n",
       "\t<li>'Wojciech_Kalinowski'</li>\n",
       "\t<li>'Zbigniew_Kozłowski'</li>\n",
       "\t<li>'Zbigniew_Suszyński'</li>\n",
       "\t<li>'Zbigniew_Ślusarczyk'</li>\n",
       "\t<li>'Zbigniew_Zamachowski'</li>\n",
       "\t<li>'Ziemowit_Wasielewski'</li>\n",
       "</ol>\n",
       "</li>\n",
       "</ol>\n"
      ],
      "text/latex": [
       "\\begin{enumerate}\n",
       "\\item \\begin{enumerate*}\n",
       "\\item 'Adam\\_Balski'\n",
       "\\item 'Adrian\\_Kłos'\n",
       "\\item 'Aleksandra\\_Szwed'\n",
       "\\item 'Andrzej\\_Fonfara'\n",
       "\\item 'Andrzej\\_Kostyra'\n",
       "\\item 'Anna\\_Adamska'\n",
       "\\item 'Anna\\_Karczmarczyk'\n",
       "\\item 'Antoni\\_Chmielewski'\n",
       "\\item 'Arkadiusz\\_Tańcula'\n",
       "\\item 'Arkadiusz\\_Wrzosek'\n",
       "\\item 'Bartłomiej\\_Kotschedoff'\n",
       "\\item 'Bartosz\\_Fabiański'\n",
       "\\item 'Daniel\\_Kuczaj'\n",
       "\\item 'Daniel\\_Szczypa'\n",
       "\\item 'Dariusz\\_Sęk'\n",
       "\\item 'Dariusz\\_Starczewski'\n",
       "\\item 'Dariusz\\_Włodarczyk'\n",
       "\\item 'Edward\\_Durda'\n",
       "\\item 'Gareth\\_Lawrence'\n",
       "\\item 'Grzegorz\\_Proksa'\n",
       "\\item 'Jarosław\\_Boberek'\n",
       "\\item 'Karol\\_Osentowski'\n",
       "\\item 'Katarzyna\\_Maciąg'\n",
       "\\item 'Krzysztof\\_Diablo\\_Włodarczyk'\n",
       "\\item 'Krzysztof\\_Kosedowski'\n",
       "\\item 'Krzysztof\\_Stelmaszyk'\n",
       "\\item 'Krzysztof\\_Szamałek'\n",
       "\\item 'Maciej\\_Nawrocki'\n",
       "\\item 'Marcin\\_Różalski'\n",
       "\\item 'Marzena\\_Kipiel\\_Sztuka'\n",
       "\\item 'Michał\\_Bobrowski'\n",
       "\\item 'Michał\\_Kita'\n",
       "\\item 'Mikołaj\\_Roznerski'\n",
       "\\item 'Monika\\_Pietrasińska'\n",
       "\\item 'Norbert\\_Dąbrowski'\n",
       "\\item 'Piotr\\_Stramowski'\n",
       "\\item 'Robert\\_Wabich'\n",
       "\\item 'Robert\\_Złotkowski'\n",
       "\\item 'Tomasz\\_Jakubiec'\n",
       "\\item 'Tomasz\\_Oświeciński'\n",
       "\\item 'Wiktoria\\_Nojszewska'\n",
       "\\item 'Wojciech\\_Jagielski'\n",
       "\\item 'Wojciech\\_Mecwaldowski'\n",
       "\\end{enumerate*}\n",
       "\n",
       "\\item \\begin{enumerate*}\n",
       "\\item 'Adrian\\_Igielski'\n",
       "\\item 'Agata\\_Jackowska'\n",
       "\\item 'Agnieszka\\_Włodarczyk'\n",
       "\\item 'Aleksandra\\_Dziduch'\n",
       "\\item 'Aleksandra\\_Linda'\n",
       "\\item 'Aleksy\\_Komorowski'\n",
       "\\item 'Alex\\_Strong'\n",
       "\\item 'Bartłomiej\\_Krat'\n",
       "\\item 'Bogusław\\_Linda'\n",
       "\\item 'Cezary\\_Łukaszewicz'\n",
       "\\item 'Cezary\\_Pazura'\n",
       "\\item 'Cezary\\_Żak'\n",
       "\\item 'Damian\\_Kret'\n",
       "\\item 'Dominika\\_Kachlik'\n",
       "\\item 'Dominika\\_Krzemińska'\n",
       "\\item 'Jacek\\_Beler'\n",
       "\\item 'Jagoda\\_Judzińska'\n",
       "\\item 'Jędrzej\\_Wielecki'\n",
       "\\item 'Joanna\\_Majstrak'\n",
       "\\item 'Joanna\\_Opozda'\n",
       "\\item 'Kamil\\_Bończyk'\n",
       "\\item 'Kamila\\_Zwierzyńska'\n",
       "\\item 'Karolina\\_Pilarczyk'\n",
       "\\item 'Karolina\\_Szymczak'\n",
       "\\item 'Katarzyna\\_Figura'\n",
       "\\item 'Krzysztof\\_Piekarz'\n",
       "\\item 'Krzysztof\\_Pyziak'\n",
       "\\item 'Lena\\_Kołodziejczak'\n",
       "\\item 'Luiza\\_Matyba'\n",
       "\\item 'Magda\\_Ho'\n",
       "\\item 'Magdalena\\_Emilianowicz'\n",
       "\\item 'Marcin\\_Różalski'\n",
       "\\item 'Marek\\_Wadas'\n",
       "\\item 'Margo\\_Marlow'\n",
       "\\item 'Mateusz\\_Janusz'\n",
       "\\item 'Mikołaj\\_Roznerski'\n",
       "\\item 'Mirosław\\_Zbrojewicz'\n",
       "\\item 'Monika\\_Sikocińska'\n",
       "\\item 'Monika\\_Włoch'\n",
       "\\item 'Olga\\_Niedzielska'\n",
       "\\item 'Pamela\\_Stefanowicz'\n",
       "\\item 'Patricia\\_Kazadi'\n",
       "\\item 'Paweł\\_Orłowski'\n",
       "\\item 'Paweł\\_Siergiej'\n",
       "\\item 'Paweł\\_Staliński'\n",
       "\\item 'Piotr\\_Witkowski'\n",
       "\\item 'Przemysław\\_Wyszyński'\n",
       "\\item 'Rafał\\_Mohr'\n",
       "\\item 'Tomasz\\_Włosok'\n",
       "\\item 'Vanessa\\_Gazda'\n",
       "\\item 'Wojciech\\_Bocianowski'\n",
       "\\end{enumerate*}\n",
       "\n",
       "\\item \\begin{enumerate*}\n",
       "\\item 'Adam\\_Fusik'\n",
       "\\item 'Adam\\_Narloch'\n",
       "\\item 'Adrian\\_Kłos'\n",
       "\\item 'Agnieszka\\_Maracewicz'\n",
       "\\item 'Agnieszka\\_Sztuk'\n",
       "\\item 'Aleksander\\_Janiszewski'\n",
       "\\item 'Aleksander\\_Mackiewicz'\n",
       "\\item 'Alessio\\_Palmerii'\n",
       "\\item 'Alicja\\_Szramke\\_Kłos'\n",
       "\\item 'Andrzej\\_Brydak'\n",
       "\\item 'Andrzej\\_Grabowski'\n",
       "\\item 'Andrzej\\_Olszewski'\n",
       "\\item 'Andrzej\\_Pieńko'\n",
       "\\item 'Andrzej\\_Rozmus'\n",
       "\\item 'Andrzej\\_Wejngold'\n",
       "\\item 'Anna\\_Karczmarczyk'\n",
       "\\item 'Anna\\_Kędziora'\n",
       "\\item 'Anna\\_Wicka'\n",
       "\\item 'Antoni\\_Królikowski'\n",
       "\\item 'Arkadiusz\\_Świetlik'\n",
       "\\item 'Bartłomiej\\_Górecki'\n",
       "\\item 'Bartłomiej\\_Zobek'\n",
       "\\item 'Bartosz\\_Obuchowicz'\n",
       "\\item 'Damian\\_Jankowski'\n",
       "\\item 'Daniel\\_Olbrychski'\n",
       "\\item 'Dariusz\\_Dłużewski'\n",
       "\\item 'Dariusz\\_Kowalczyk'\n",
       "\\item 'Eliza\\_Gwiazda'\n",
       "\\item 'Ewa\\_Kasprzyk'\n",
       "\\item 'Filip\\_Moroz'\n",
       "\\item 'Filip\\_Wałcerz'\n",
       "\\item 'Gizella\\_Bortel'\n",
       "\\item 'Grzegorz\\_Barłog'\n",
       "\\item 'Hanna\\_Różańska'\n",
       "\\item 'Hubert\\_Maj'\n",
       "\\item 'Iga\\_Górecka'\n",
       "\\item 'Iwona\\_Bielska'\n",
       "\\item 'Izabela\\_Jarosińska'\n",
       "\\item 'Jakub\\_Matysek'\n",
       "\\item 'Jakub\\_Orzechowski'\n",
       "\\item 'Jakub\\_Sporek'\n",
       "\\item 'Jakub\\_Zimowski'\n",
       "\\item 'Janusz\\_Chabior'\n",
       "\\item 'Janusz\\_Szpiglewski'\n",
       "\\item 'Jaropełk\\_Laskowski'\n",
       "\\item 'Jolanta\\_Niedźwiecka'\n",
       "\\item 'Karolina\\_Szymczak'\n",
       "\\item 'Katarzyna\\_Nowak'\n",
       "\\item 'Katarzyna\\_Rzemyszkiewicz'\n",
       "\\item 'Konrad\\_Makowski'\n",
       "\\item 'Kordian\\_Rekowski'\n",
       "\\item 'Krzysztof\\_Chawrona'\n",
       "\\item 'Krzysztof\\_Chromiński'\n",
       "\\item 'Krzysztof\\_Kalinowski'\n",
       "\\item 'Leszek\\_Abrahamowicz'\n",
       "\\item 'Luiza\\_Stankiewicz'\n",
       "\\item 'Maciej\\_Luśnia'\n",
       "\\item 'Maciej\\_Piwnicki'\n",
       "\\item 'Maciej\\_Stuhr'\n",
       "\\item 'Maciej\\_Szemiel'\n",
       "\\item 'Marcel\\_Wiercichowski'\n",
       "\\item 'Marcin\\_Bosak'\n",
       "\\item 'Marcin\\_Fabisiak'\n",
       "\\item 'Marcin\\_Gildner'\n",
       "\\item 'Marcin\\_Juchniewicz'\n",
       "\\item 'Marcin\\_Kaniewski'\n",
       "\\item 'Marek\\_Bera'\n",
       "\\item 'Margo\\_Marlow'\n",
       "\\item 'Mariusz\\_Binduła'\n",
       "\\item 'Mariusz\\_Chałat'\n",
       "\\item 'Mariusz\\_Krzemiński'\n",
       "\\item 'Mariusz\\_Ostrowski'\n",
       "\\item 'Marlena\\_Szmaja'\n",
       "\\item 'Marta\\_Adamus'\n",
       "\\item 'Michał\\_Jajkiewicz'\n",
       "\\item 'Mirosław\\_Węcławek'\n",
       "\\item 'Monika\\_Smolińska'\n",
       "\\item 'Patrycja\\_Kaszyńska'\n",
       "\\item 'Patrycja\\_Tylenda'\n",
       "\\item 'Paulina\\_Dulla'\n",
       "\\item 'Paweł\\_Koślik'\n",
       "\\item 'Paweł\\_Monsiel'\n",
       "\\item 'Piotr\\_Bulcewicz'\n",
       "\\item 'Piotr\\_Juźków'\n",
       "\\item 'Piotr\\_Miedzianowski'\n",
       "\\item 'Piotr\\_Skiba'\n",
       "\\item 'Piotr\\_Tymczak'\n",
       "\\item 'Radosław\\_Garncarek'\n",
       "\\item 'Radzisław\\_Woliński'\n",
       "\\item 'Rafał\\_Sadowski'\n",
       "\\item 'Rafał\\_Wichłacz'\n",
       "\\item 'Rafał\\_Żabiński'\n",
       "\\item 'Robert\\_Martyniak'\n",
       "\\item 'Roman\\_Szeblewski'\n",
       "\\item 'Sara\\_Gramowska'\n",
       "\\item 'Sebastian\\_Dziubiel'\n",
       "\\item 'Sławomir\\_Drygalski'\n",
       "\\item 'Tadeusz\\_Chudecki'\n",
       "\\item 'Tadeusz\\_Ledzion'\n",
       "\\item 'Tomasz\\_Olejnik'\n",
       "\\item 'Tomasz\\_Oświeciński'\n",
       "\\item 'Tomasz\\_Sapryk'\n",
       "\\item 'Włodzimierz\\_Jesionowski'\n",
       "\\item 'Wojciech\\_Kalinowski'\n",
       "\\item 'Zbigniew\\_Kozłowski'\n",
       "\\item 'Zbigniew\\_Suszyński'\n",
       "\\item 'Zbigniew\\_Ślusarczyk'\n",
       "\\item 'Zbigniew\\_Zamachowski'\n",
       "\\item 'Ziemowit\\_Wasielewski'\n",
       "\\end{enumerate*}\n",
       "\n",
       "\\end{enumerate}\n"
      ],
      "text/markdown": [
       "1. 1. 'Adam_Balski'\n",
       "2. 'Adrian_Kłos'\n",
       "3. 'Aleksandra_Szwed'\n",
       "4. 'Andrzej_Fonfara'\n",
       "5. 'Andrzej_Kostyra'\n",
       "6. 'Anna_Adamska'\n",
       "7. 'Anna_Karczmarczyk'\n",
       "8. 'Antoni_Chmielewski'\n",
       "9. 'Arkadiusz_Tańcula'\n",
       "10. 'Arkadiusz_Wrzosek'\n",
       "11. 'Bartłomiej_Kotschedoff'\n",
       "12. 'Bartosz_Fabiański'\n",
       "13. 'Daniel_Kuczaj'\n",
       "14. 'Daniel_Szczypa'\n",
       "15. 'Dariusz_Sęk'\n",
       "16. 'Dariusz_Starczewski'\n",
       "17. 'Dariusz_Włodarczyk'\n",
       "18. 'Edward_Durda'\n",
       "19. 'Gareth_Lawrence'\n",
       "20. 'Grzegorz_Proksa'\n",
       "21. 'Jarosław_Boberek'\n",
       "22. 'Karol_Osentowski'\n",
       "23. 'Katarzyna_Maciąg'\n",
       "24. 'Krzysztof_Diablo_Włodarczyk'\n",
       "25. 'Krzysztof_Kosedowski'\n",
       "26. 'Krzysztof_Stelmaszyk'\n",
       "27. 'Krzysztof_Szamałek'\n",
       "28. 'Maciej_Nawrocki'\n",
       "29. 'Marcin_Różalski'\n",
       "30. 'Marzena_Kipiel_Sztuka'\n",
       "31. 'Michał_Bobrowski'\n",
       "32. 'Michał_Kita'\n",
       "33. 'Mikołaj_Roznerski'\n",
       "34. 'Monika_Pietrasińska'\n",
       "35. 'Norbert_Dąbrowski'\n",
       "36. 'Piotr_Stramowski'\n",
       "37. 'Robert_Wabich'\n",
       "38. 'Robert_Złotkowski'\n",
       "39. 'Tomasz_Jakubiec'\n",
       "40. 'Tomasz_Oświeciński'\n",
       "41. 'Wiktoria_Nojszewska'\n",
       "42. 'Wojciech_Jagielski'\n",
       "43. 'Wojciech_Mecwaldowski'\n",
       "\n",
       "\n",
       "\n",
       "2. 1. 'Adrian_Igielski'\n",
       "2. 'Agata_Jackowska'\n",
       "3. 'Agnieszka_Włodarczyk'\n",
       "4. 'Aleksandra_Dziduch'\n",
       "5. 'Aleksandra_Linda'\n",
       "6. 'Aleksy_Komorowski'\n",
       "7. 'Alex_Strong'\n",
       "8. 'Bartłomiej_Krat'\n",
       "9. 'Bogusław_Linda'\n",
       "10. 'Cezary_Łukaszewicz'\n",
       "11. 'Cezary_Pazura'\n",
       "12. 'Cezary_Żak'\n",
       "13. 'Damian_Kret'\n",
       "14. 'Dominika_Kachlik'\n",
       "15. 'Dominika_Krzemińska'\n",
       "16. 'Jacek_Beler'\n",
       "17. 'Jagoda_Judzińska'\n",
       "18. 'Jędrzej_Wielecki'\n",
       "19. 'Joanna_Majstrak'\n",
       "20. 'Joanna_Opozda'\n",
       "21. 'Kamil_Bończyk'\n",
       "22. 'Kamila_Zwierzyńska'\n",
       "23. 'Karolina_Pilarczyk'\n",
       "24. 'Karolina_Szymczak'\n",
       "25. 'Katarzyna_Figura'\n",
       "26. 'Krzysztof_Piekarz'\n",
       "27. 'Krzysztof_Pyziak'\n",
       "28. 'Lena_Kołodziejczak'\n",
       "29. 'Luiza_Matyba'\n",
       "30. 'Magda_Ho'\n",
       "31. 'Magdalena_Emilianowicz'\n",
       "32. 'Marcin_Różalski'\n",
       "33. 'Marek_Wadas'\n",
       "34. 'Margo_Marlow'\n",
       "35. 'Mateusz_Janusz'\n",
       "36. 'Mikołaj_Roznerski'\n",
       "37. 'Mirosław_Zbrojewicz'\n",
       "38. 'Monika_Sikocińska'\n",
       "39. 'Monika_Włoch'\n",
       "40. 'Olga_Niedzielska'\n",
       "41. 'Pamela_Stefanowicz'\n",
       "42. 'Patricia_Kazadi'\n",
       "43. 'Paweł_Orłowski'\n",
       "44. 'Paweł_Siergiej'\n",
       "45. 'Paweł_Staliński'\n",
       "46. 'Piotr_Witkowski'\n",
       "47. 'Przemysław_Wyszyński'\n",
       "48. 'Rafał_Mohr'\n",
       "49. 'Tomasz_Włosok'\n",
       "50. 'Vanessa_Gazda'\n",
       "51. 'Wojciech_Bocianowski'\n",
       "\n",
       "\n",
       "\n",
       "3. 1. 'Adam_Fusik'\n",
       "2. 'Adam_Narloch'\n",
       "3. 'Adrian_Kłos'\n",
       "4. 'Agnieszka_Maracewicz'\n",
       "5. 'Agnieszka_Sztuk'\n",
       "6. 'Aleksander_Janiszewski'\n",
       "7. 'Aleksander_Mackiewicz'\n",
       "8. 'Alessio_Palmerii'\n",
       "9. 'Alicja_Szramke_Kłos'\n",
       "10. 'Andrzej_Brydak'\n",
       "11. 'Andrzej_Grabowski'\n",
       "12. 'Andrzej_Olszewski'\n",
       "13. 'Andrzej_Pieńko'\n",
       "14. 'Andrzej_Rozmus'\n",
       "15. 'Andrzej_Wejngold'\n",
       "16. 'Anna_Karczmarczyk'\n",
       "17. 'Anna_Kędziora'\n",
       "18. 'Anna_Wicka'\n",
       "19. 'Antoni_Królikowski'\n",
       "20. 'Arkadiusz_Świetlik'\n",
       "21. 'Bartłomiej_Górecki'\n",
       "22. 'Bartłomiej_Zobek'\n",
       "23. 'Bartosz_Obuchowicz'\n",
       "24. 'Damian_Jankowski'\n",
       "25. 'Daniel_Olbrychski'\n",
       "26. 'Dariusz_Dłużewski'\n",
       "27. 'Dariusz_Kowalczyk'\n",
       "28. 'Eliza_Gwiazda'\n",
       "29. 'Ewa_Kasprzyk'\n",
       "30. 'Filip_Moroz'\n",
       "31. 'Filip_Wałcerz'\n",
       "32. 'Gizella_Bortel'\n",
       "33. 'Grzegorz_Barłog'\n",
       "34. 'Hanna_Różańska'\n",
       "35. 'Hubert_Maj'\n",
       "36. 'Iga_Górecka'\n",
       "37. 'Iwona_Bielska'\n",
       "38. 'Izabela_Jarosińska'\n",
       "39. 'Jakub_Matysek'\n",
       "40. 'Jakub_Orzechowski'\n",
       "41. 'Jakub_Sporek'\n",
       "42. 'Jakub_Zimowski'\n",
       "43. 'Janusz_Chabior'\n",
       "44. 'Janusz_Szpiglewski'\n",
       "45. 'Jaropełk_Laskowski'\n",
       "46. 'Jolanta_Niedźwiecka'\n",
       "47. 'Karolina_Szymczak'\n",
       "48. 'Katarzyna_Nowak'\n",
       "49. 'Katarzyna_Rzemyszkiewicz'\n",
       "50. 'Konrad_Makowski'\n",
       "51. 'Kordian_Rekowski'\n",
       "52. 'Krzysztof_Chawrona'\n",
       "53. 'Krzysztof_Chromiński'\n",
       "54. 'Krzysztof_Kalinowski'\n",
       "55. 'Leszek_Abrahamowicz'\n",
       "56. 'Luiza_Stankiewicz'\n",
       "57. 'Maciej_Luśnia'\n",
       "58. 'Maciej_Piwnicki'\n",
       "59. 'Maciej_Stuhr'\n",
       "60. 'Maciej_Szemiel'\n",
       "61. 'Marcel_Wiercichowski'\n",
       "62. 'Marcin_Bosak'\n",
       "63. 'Marcin_Fabisiak'\n",
       "64. 'Marcin_Gildner'\n",
       "65. 'Marcin_Juchniewicz'\n",
       "66. 'Marcin_Kaniewski'\n",
       "67. 'Marek_Bera'\n",
       "68. 'Margo_Marlow'\n",
       "69. 'Mariusz_Binduła'\n",
       "70. 'Mariusz_Chałat'\n",
       "71. 'Mariusz_Krzemiński'\n",
       "72. 'Mariusz_Ostrowski'\n",
       "73. 'Marlena_Szmaja'\n",
       "74. 'Marta_Adamus'\n",
       "75. 'Michał_Jajkiewicz'\n",
       "76. 'Mirosław_Węcławek'\n",
       "77. 'Monika_Smolińska'\n",
       "78. 'Patrycja_Kaszyńska'\n",
       "79. 'Patrycja_Tylenda'\n",
       "80. 'Paulina_Dulla'\n",
       "81. 'Paweł_Koślik'\n",
       "82. 'Paweł_Monsiel'\n",
       "83. 'Piotr_Bulcewicz'\n",
       "84. 'Piotr_Juźków'\n",
       "85. 'Piotr_Miedzianowski'\n",
       "86. 'Piotr_Skiba'\n",
       "87. 'Piotr_Tymczak'\n",
       "88. 'Radosław_Garncarek'\n",
       "89. 'Radzisław_Woliński'\n",
       "90. 'Rafał_Sadowski'\n",
       "91. 'Rafał_Wichłacz'\n",
       "92. 'Rafał_Żabiński'\n",
       "93. 'Robert_Martyniak'\n",
       "94. 'Roman_Szeblewski'\n",
       "95. 'Sara_Gramowska'\n",
       "96. 'Sebastian_Dziubiel'\n",
       "97. 'Sławomir_Drygalski'\n",
       "98. 'Tadeusz_Chudecki'\n",
       "99. 'Tadeusz_Ledzion'\n",
       "100. 'Tomasz_Olejnik'\n",
       "101. 'Tomasz_Oświeciński'\n",
       "102. 'Tomasz_Sapryk'\n",
       "103. 'Włodzimierz_Jesionowski'\n",
       "104. 'Wojciech_Kalinowski'\n",
       "105. 'Zbigniew_Kozłowski'\n",
       "106. 'Zbigniew_Suszyński'\n",
       "107. 'Zbigniew_Ślusarczyk'\n",
       "108. 'Zbigniew_Zamachowski'\n",
       "109. 'Ziemowit_Wasielewski'\n",
       "\n",
       "\n",
       "\n",
       "\n",
       "\n"
      ],
      "text/plain": [
       "[[1]]\n",
       " [1] \"Adam_Balski\"                 \"Adrian_Kłos\"                \n",
       " [3] \"Aleksandra_Szwed\"            \"Andrzej_Fonfara\"            \n",
       " [5] \"Andrzej_Kostyra\"             \"Anna_Adamska\"               \n",
       " [7] \"Anna_Karczmarczyk\"           \"Antoni_Chmielewski\"         \n",
       " [9] \"Arkadiusz_Tańcula\"           \"Arkadiusz_Wrzosek\"          \n",
       "[11] \"Bartłomiej_Kotschedoff\"      \"Bartosz_Fabiański\"          \n",
       "[13] \"Daniel_Kuczaj\"               \"Daniel_Szczypa\"             \n",
       "[15] \"Dariusz_Sęk\"                 \"Dariusz_Starczewski\"        \n",
       "[17] \"Dariusz_Włodarczyk\"          \"Edward_Durda\"               \n",
       "[19] \"Gareth_Lawrence\"             \"Grzegorz_Proksa\"            \n",
       "[21] \"Jarosław_Boberek\"            \"Karol_Osentowski\"           \n",
       "[23] \"Katarzyna_Maciąg\"            \"Krzysztof_Diablo_Włodarczyk\"\n",
       "[25] \"Krzysztof_Kosedowski\"        \"Krzysztof_Stelmaszyk\"       \n",
       "[27] \"Krzysztof_Szamałek\"          \"Maciej_Nawrocki\"            \n",
       "[29] \"Marcin_Różalski\"             \"Marzena_Kipiel_Sztuka\"      \n",
       "[31] \"Michał_Bobrowski\"            \"Michał_Kita\"                \n",
       "[33] \"Mikołaj_Roznerski\"           \"Monika_Pietrasińska\"        \n",
       "[35] \"Norbert_Dąbrowski\"           \"Piotr_Stramowski\"           \n",
       "[37] \"Robert_Wabich\"               \"Robert_Złotkowski\"          \n",
       "[39] \"Tomasz_Jakubiec\"             \"Tomasz_Oświeciński\"         \n",
       "[41] \"Wiktoria_Nojszewska\"         \"Wojciech_Jagielski\"         \n",
       "[43] \"Wojciech_Mecwaldowski\"      \n",
       "\n",
       "[[2]]\n",
       " [1] \"Adrian_Igielski\"        \"Agata_Jackowska\"        \"Agnieszka_Włodarczyk\"  \n",
       " [4] \"Aleksandra_Dziduch\"     \"Aleksandra_Linda\"       \"Aleksy_Komorowski\"     \n",
       " [7] \"Alex_Strong\"            \"Bartłomiej_Krat\"        \"Bogusław_Linda\"        \n",
       "[10] \"Cezary_Łukaszewicz\"     \"Cezary_Pazura\"          \"Cezary_Żak\"            \n",
       "[13] \"Damian_Kret\"            \"Dominika_Kachlik\"       \"Dominika_Krzemińska\"   \n",
       "[16] \"Jacek_Beler\"            \"Jagoda_Judzińska\"       \"Jędrzej_Wielecki\"      \n",
       "[19] \"Joanna_Majstrak\"        \"Joanna_Opozda\"          \"Kamil_Bończyk\"         \n",
       "[22] \"Kamila_Zwierzyńska\"     \"Karolina_Pilarczyk\"     \"Karolina_Szymczak\"     \n",
       "[25] \"Katarzyna_Figura\"       \"Krzysztof_Piekarz\"      \"Krzysztof_Pyziak\"      \n",
       "[28] \"Lena_Kołodziejczak\"     \"Luiza_Matyba\"           \"Magda_Ho\"              \n",
       "[31] \"Magdalena_Emilianowicz\" \"Marcin_Różalski\"        \"Marek_Wadas\"           \n",
       "[34] \"Margo_Marlow\"           \"Mateusz_Janusz\"         \"Mikołaj_Roznerski\"     \n",
       "[37] \"Mirosław_Zbrojewicz\"    \"Monika_Sikocińska\"      \"Monika_Włoch\"          \n",
       "[40] \"Olga_Niedzielska\"       \"Pamela_Stefanowicz\"     \"Patricia_Kazadi\"       \n",
       "[43] \"Paweł_Orłowski\"         \"Paweł_Siergiej\"         \"Paweł_Staliński\"       \n",
       "[46] \"Piotr_Witkowski\"        \"Przemysław_Wyszyński\"   \"Rafał_Mohr\"            \n",
       "[49] \"Tomasz_Włosok\"          \"Vanessa_Gazda\"          \"Wojciech_Bocianowski\"  \n",
       "\n",
       "[[3]]\n",
       "  [1] \"Adam_Fusik\"               \"Adam_Narloch\"            \n",
       "  [3] \"Adrian_Kłos\"              \"Agnieszka_Maracewicz\"    \n",
       "  [5] \"Agnieszka_Sztuk\"          \"Aleksander_Janiszewski\"  \n",
       "  [7] \"Aleksander_Mackiewicz\"    \"Alessio_Palmerii\"        \n",
       "  [9] \"Alicja_Szramke_Kłos\"      \"Andrzej_Brydak\"          \n",
       " [11] \"Andrzej_Grabowski\"        \"Andrzej_Olszewski\"       \n",
       " [13] \"Andrzej_Pieńko\"           \"Andrzej_Rozmus\"          \n",
       " [15] \"Andrzej_Wejngold\"         \"Anna_Karczmarczyk\"       \n",
       " [17] \"Anna_Kędziora\"            \"Anna_Wicka\"              \n",
       " [19] \"Antoni_Królikowski\"       \"Arkadiusz_Świetlik\"      \n",
       " [21] \"Bartłomiej_Górecki\"       \"Bartłomiej_Zobek\"        \n",
       " [23] \"Bartosz_Obuchowicz\"       \"Damian_Jankowski\"        \n",
       " [25] \"Daniel_Olbrychski\"        \"Dariusz_Dłużewski\"       \n",
       " [27] \"Dariusz_Kowalczyk\"        \"Eliza_Gwiazda\"           \n",
       " [29] \"Ewa_Kasprzyk\"             \"Filip_Moroz\"             \n",
       " [31] \"Filip_Wałcerz\"            \"Gizella_Bortel\"          \n",
       " [33] \"Grzegorz_Barłog\"          \"Hanna_Różańska\"          \n",
       " [35] \"Hubert_Maj\"               \"Iga_Górecka\"             \n",
       " [37] \"Iwona_Bielska\"            \"Izabela_Jarosińska\"      \n",
       " [39] \"Jakub_Matysek\"            \"Jakub_Orzechowski\"       \n",
       " [41] \"Jakub_Sporek\"             \"Jakub_Zimowski\"          \n",
       " [43] \"Janusz_Chabior\"           \"Janusz_Szpiglewski\"      \n",
       " [45] \"Jaropełk_Laskowski\"       \"Jolanta_Niedźwiecka\"     \n",
       " [47] \"Karolina_Szymczak\"        \"Katarzyna_Nowak\"         \n",
       " [49] \"Katarzyna_Rzemyszkiewicz\" \"Konrad_Makowski\"         \n",
       " [51] \"Kordian_Rekowski\"         \"Krzysztof_Chawrona\"      \n",
       " [53] \"Krzysztof_Chromiński\"     \"Krzysztof_Kalinowski\"    \n",
       " [55] \"Leszek_Abrahamowicz\"      \"Luiza_Stankiewicz\"       \n",
       " [57] \"Maciej_Luśnia\"            \"Maciej_Piwnicki\"         \n",
       " [59] \"Maciej_Stuhr\"             \"Maciej_Szemiel\"          \n",
       " [61] \"Marcel_Wiercichowski\"     \"Marcin_Bosak\"            \n",
       " [63] \"Marcin_Fabisiak\"          \"Marcin_Gildner\"          \n",
       " [65] \"Marcin_Juchniewicz\"       \"Marcin_Kaniewski\"        \n",
       " [67] \"Marek_Bera\"               \"Margo_Marlow\"            \n",
       " [69] \"Mariusz_Binduła\"          \"Mariusz_Chałat\"          \n",
       " [71] \"Mariusz_Krzemiński\"       \"Mariusz_Ostrowski\"       \n",
       " [73] \"Marlena_Szmaja\"           \"Marta_Adamus\"            \n",
       " [75] \"Michał_Jajkiewicz\"        \"Mirosław_Węcławek\"       \n",
       " [77] \"Monika_Smolińska\"         \"Patrycja_Kaszyńska\"      \n",
       " [79] \"Patrycja_Tylenda\"         \"Paulina_Dulla\"           \n",
       " [81] \"Paweł_Koślik\"             \"Paweł_Monsiel\"           \n",
       " [83] \"Piotr_Bulcewicz\"          \"Piotr_Juźków\"            \n",
       " [85] \"Piotr_Miedzianowski\"      \"Piotr_Skiba\"             \n",
       " [87] \"Piotr_Tymczak\"            \"Radosław_Garncarek\"      \n",
       " [89] \"Radzisław_Woliński\"       \"Rafał_Sadowski\"          \n",
       " [91] \"Rafał_Wichłacz\"           \"Rafał_Żabiński\"          \n",
       " [93] \"Robert_Martyniak\"         \"Roman_Szeblewski\"        \n",
       " [95] \"Sara_Gramowska\"           \"Sebastian_Dziubiel\"      \n",
       " [97] \"Sławomir_Drygalski\"       \"Tadeusz_Chudecki\"        \n",
       " [99] \"Tadeusz_Ledzion\"          \"Tomasz_Olejnik\"          \n",
       "[101] \"Tomasz_Oświeciński\"       \"Tomasz_Sapryk\"           \n",
       "[103] \"Włodzimierz_Jesionowski\"  \"Wojciech_Kalinowski\"     \n",
       "[105] \"Zbigniew_Kozłowski\"       \"Zbigniew_Suszyński\"      \n",
       "[107] \"Zbigniew_Ślusarczyk\"      \"Zbigniew_Zamachowski\"    \n",
       "[109] \"Ziemowit_Wasielewski\"    \n"
      ]
     },
     "metadata": {},
     "output_type": "display_data"
    }
   ],
   "source": [
    "LIST(tail(df,3))"
   ]
  },
  {
   "cell_type": "code",
   "execution_count": 47,
   "metadata": {
    "ExecuteTime": {
     "end_time": "2019-12-26T18:08:17.110500Z",
     "start_time": "2019-12-26T18:08:16.983Z"
    }
   },
   "outputs": [
    {
     "data": {
      "image/png": "[encoded data removed]",
      "text/plain": [
       "Plot with title \"Items Frequency\""
      ]
     },
     "metadata": {},
     "output_type": "display_data"
    }
   ],
   "source": [
    "itemFrequencyPlot(df, topN=20, type=\"absolute\", main=\"Items Frequency\", cex.names=1) "
   ]
  },
  {
   "cell_type": "code",
   "execution_count": 46,
   "metadata": {
    "ExecuteTime": {
     "end_time": "2019-12-26T18:07:53.090166Z",
     "start_time": "2019-12-26T18:07:52.975Z"
    }
   },
   "outputs": [
    {
     "data": {
      "image/png": "[encoded data removed]",
      "text/plain": [
       "Plot with title \"Items Frequency\""
      ]
     },
     "metadata": {},
     "output_type": "display_data"
    }
   ],
   "source": [
    "itemFrequencyPlot(df, topN=20, type=\"relative\", main=\"Items Frequency\", cex.names=1) "
   ]
  },
  {
   "cell_type": "code",
   "execution_count": 42,
   "metadata": {
    "ExecuteTime": {
     "end_time": "2019-12-26T18:06:17.312816Z",
     "start_time": "2019-12-26T18:06:17.286Z"
    }
   },
   "outputs": [
    {
     "data": {
      "text/html": [
       "<dl class=dl-horizontal>\n",
       "\t<dt>Janusz_Chabior</dt>\n",
       "\t\t<dd>0.0789473684210526</dd>\n",
       "\t<dt>Piotr_Głowacki</dt>\n",
       "\t\t<dd>0.0719298245614035</dd>\n",
       "\t<dt>Łukasz_Simlat</dt>\n",
       "\t\t<dd>0.0614035087719298</dd>\n",
       "\t<dt>Marian_Dziędziel</dt>\n",
       "\t\t<dd>0.0578947368421053</dd>\n",
       "\t<dt>Przemysław_Bluszcz</dt>\n",
       "\t\t<dd>0.056140350877193</dd>\n",
       "\t<dt>Adam_Woronowicz</dt>\n",
       "\t\t<dd>0.0543859649122807</dd>\n",
       "\t<dt>Andrzej_Chyra</dt>\n",
       "\t\t<dd>0.0508771929824561</dd>\n",
       "\t<dt>Borys_Szyc</dt>\n",
       "\t\t<dd>0.0508771929824561</dd>\n",
       "\t<dt>Andrzej_Grabowski</dt>\n",
       "\t\t<dd>0.0491228070175439</dd>\n",
       "\t<dt>Andrzej_Konopka</dt>\n",
       "\t\t<dd>0.0473684210526316</dd>\n",
       "</dl>\n"
      ],
      "text/latex": [
       "\\begin{description*}\n",
       "\\item[Janusz\\textbackslash{}\\_Chabior] 0.0789473684210526\n",
       "\\item[Piotr\\textbackslash{}\\_Głowacki] 0.0719298245614035\n",
       "\\item[Łukasz\\textbackslash{}\\_Simlat] 0.0614035087719298\n",
       "\\item[Marian\\textbackslash{}\\_Dziędziel] 0.0578947368421053\n",
       "\\item[Przemysław\\textbackslash{}\\_Bluszcz] 0.056140350877193\n",
       "\\item[Adam\\textbackslash{}\\_Woronowicz] 0.0543859649122807\n",
       "\\item[Andrzej\\textbackslash{}\\_Chyra] 0.0508771929824561\n",
       "\\item[Borys\\textbackslash{}\\_Szyc] 0.0508771929824561\n",
       "\\item[Andrzej\\textbackslash{}\\_Grabowski] 0.0491228070175439\n",
       "\\item[Andrzej\\textbackslash{}\\_Konopka] 0.0473684210526316\n",
       "\\end{description*}\n"
      ],
      "text/markdown": [
       "Janusz_Chabior\n",
       ":   0.0789473684210526Piotr_Głowacki\n",
       ":   0.0719298245614035Łukasz_Simlat\n",
       ":   0.0614035087719298Marian_Dziędziel\n",
       ":   0.0578947368421053Przemysław_Bluszcz\n",
       ":   0.056140350877193Adam_Woronowicz\n",
       ":   0.0543859649122807Andrzej_Chyra\n",
       ":   0.0508771929824561Borys_Szyc\n",
       ":   0.0508771929824561Andrzej_Grabowski\n",
       ":   0.0491228070175439Andrzej_Konopka\n",
       ":   0.0473684210526316\n",
       "\n"
      ],
      "text/plain": [
       "    Janusz_Chabior     Piotr_Głowacki      Łukasz_Simlat   Marian_Dziędziel \n",
       "        0.07894737         0.07192982         0.06140351         0.05789474 \n",
       "Przemysław_Bluszcz    Adam_Woronowicz      Andrzej_Chyra         Borys_Szyc \n",
       "        0.05614035         0.05438596         0.05087719         0.05087719 \n",
       " Andrzej_Grabowski    Andrzej_Konopka \n",
       "        0.04912281         0.04736842 "
      ]
     },
     "metadata": {},
     "output_type": "display_data"
    }
   ],
   "source": [
    "head(sort(itemFrequency(df), decreasing=TRUE), n=10)"
   ]
  },
  {
   "cell_type": "code",
   "execution_count": 118,
   "metadata": {
    "ExecuteTime": {
     "end_time": "2019-12-26T18:49:24.560750Z",
     "start_time": "2019-12-26T18:49:22.734Z"
    }
   },
   "outputs": [
    {
     "data": {
      "text/html": [
       "<table>\n",
       "<thead><tr><th></th><th scope=col>Janusz_Chabior</th><th scope=col>Piotr_Głowacki</th><th scope=col>Łukasz_Simlat</th><th scope=col>Marian_Dziędziel</th><th scope=col>Przemysław_Bluszcz</th><th scope=col>Adam_Woronowicz</th><th scope=col>Andrzej_Chyra</th><th scope=col>Borys_Szyc</th><th scope=col>Andrzej_Grabowski</th><th scope=col>Andrzej_Konopka</th><th scope=col>Bartłomiej_Topa</th><th scope=col>Robert_Więckiewicz</th><th scope=col>Eryk_Lubos</th><th scope=col>Arkadiusz_Jakubik</th><th scope=col>Bartłomiej_Firlet</th></tr></thead>\n",
       "<tbody>\n",
       "\t<tr><th scope=row>Janusz_Chabior</th><td>45</td><td> 6</td><td> 5</td><td> 5</td><td> 5</td><td> 8</td><td> 3</td><td> 3</td><td> 6</td><td> 1</td><td> 2</td><td> 3</td><td> 8</td><td> 3</td><td> 4</td></tr>\n",
       "\t<tr><th scope=row>Piotr_Głowacki</th><td> 6</td><td>41</td><td> 5</td><td> 4</td><td> 4</td><td> 3</td><td> 2</td><td> 4</td><td> 2</td><td> 4</td><td> 3</td><td> 4</td><td> 3</td><td> 2</td><td> 2</td></tr>\n",
       "\t<tr><th scope=row>Łukasz_Simlat</th><td> 5</td><td> 5</td><td>35</td><td> 6</td><td> 4</td><td> 4</td><td> 5</td><td> 3</td><td> 2</td><td> 3</td><td> 5</td><td> 4</td><td> 3</td><td> 2</td><td> 1</td></tr>\n",
       "\t<tr><th scope=row>Marian_Dziędziel</th><td> 5</td><td> 4</td><td> 6</td><td>33</td><td> 4</td><td> 7</td><td> 2</td><td> 4</td><td> 5</td><td> 2</td><td> 6</td><td> 5</td><td> 6</td><td> 4</td><td> 2</td></tr>\n",
       "\t<tr><th scope=row>Przemysław_Bluszcz</th><td> 5</td><td> 4</td><td> 4</td><td> 4</td><td>32</td><td> 3</td><td> 0</td><td> 2</td><td> 2</td><td> 3</td><td> 4</td><td> 4</td><td> 3</td><td> 3</td><td> 2</td></tr>\n",
       "\t<tr><th scope=row>Adam_Woronowicz</th><td> 8</td><td> 3</td><td> 4</td><td> 7</td><td> 3</td><td>31</td><td> 1</td><td> 2</td><td> 3</td><td> 4</td><td> 3</td><td> 6</td><td> 4</td><td> 3</td><td> 1</td></tr>\n",
       "\t<tr><th scope=row>Andrzej_Chyra</th><td> 3</td><td> 2</td><td> 5</td><td> 2</td><td> 0</td><td> 1</td><td>29</td><td> 1</td><td> 3</td><td> 3</td><td> 2</td><td> 2</td><td> 2</td><td> 4</td><td> 1</td></tr>\n",
       "\t<tr><th scope=row>Borys_Szyc</th><td> 3</td><td> 4</td><td> 3</td><td> 4</td><td> 2</td><td> 2</td><td> 1</td><td>29</td><td> 5</td><td> 1</td><td> 2</td><td> 1</td><td> 1</td><td> 1</td><td> 4</td></tr>\n",
       "\t<tr><th scope=row>Andrzej_Grabowski</th><td> 6</td><td> 2</td><td> 2</td><td> 5</td><td> 2</td><td> 3</td><td> 3</td><td> 5</td><td>28</td><td> 1</td><td> 2</td><td> 2</td><td> 4</td><td> 3</td><td> 5</td></tr>\n",
       "\t<tr><th scope=row>Andrzej_Konopka</th><td> 1</td><td> 4</td><td> 3</td><td> 2</td><td> 3</td><td> 4</td><td> 3</td><td> 1</td><td> 1</td><td>27</td><td> 4</td><td> 3</td><td> 2</td><td> 3</td><td> 1</td></tr>\n",
       "\t<tr><th scope=row>Bartłomiej_Topa</th><td> 2</td><td> 3</td><td> 5</td><td> 6</td><td> 4</td><td> 3</td><td> 2</td><td> 2</td><td> 2</td><td> 4</td><td>26</td><td> 4</td><td> 4</td><td> 5</td><td> 1</td></tr>\n",
       "\t<tr><th scope=row>Robert_Więckiewicz</th><td> 3</td><td> 4</td><td> 4</td><td> 5</td><td> 4</td><td> 6</td><td> 2</td><td> 1</td><td> 2</td><td> 3</td><td> 4</td><td>26</td><td> 2</td><td> 3</td><td> 2</td></tr>\n",
       "\t<tr><th scope=row>Eryk_Lubos</th><td> 8</td><td> 3</td><td> 3</td><td> 6</td><td> 3</td><td> 4</td><td> 2</td><td> 1</td><td> 4</td><td> 2</td><td> 4</td><td> 2</td><td>25</td><td> 5</td><td> 3</td></tr>\n",
       "\t<tr><th scope=row>Arkadiusz_Jakubik</th><td> 3</td><td> 2</td><td> 2</td><td> 4</td><td> 3</td><td> 3</td><td> 4</td><td> 1</td><td> 3</td><td> 3</td><td> 5</td><td> 3</td><td> 5</td><td>24</td><td> 2</td></tr>\n",
       "\t<tr><th scope=row>Bartłomiej_Firlet</th><td> 4</td><td> 2</td><td> 1</td><td> 2</td><td> 2</td><td> 1</td><td> 1</td><td> 4</td><td> 5</td><td> 1</td><td> 1</td><td> 2</td><td> 3</td><td> 2</td><td>24</td></tr>\n",
       "</tbody>\n",
       "</table>\n"
      ],
      "text/latex": [
       "\\begin{tabular}{r|lllllllllllllll}\n",
       "  & Janusz\\_Chabior & Piotr\\_Głowacki & Łukasz\\_Simlat & Marian\\_Dziędziel & Przemysław\\_Bluszcz & Adam\\_Woronowicz & Andrzej\\_Chyra & Borys\\_Szyc & Andrzej\\_Grabowski & Andrzej\\_Konopka & Bartłomiej\\_Topa & Robert\\_Więckiewicz & Eryk\\_Lubos & Arkadiusz\\_Jakubik & Bartłomiej\\_Firlet\\\\\n",
       "\\hline\n",
       "\tJanusz\\_Chabior & 45 &  6 &  5 &  5 &  5 &  8 &  3 &  3 &  6 &  1 &  2 &  3 &  8 &  3 &  4\\\\\n",
       "\tPiotr\\_Głowacki &  6 & 41 &  5 &  4 &  4 &  3 &  2 &  4 &  2 &  4 &  3 &  4 &  3 &  2 &  2\\\\\n",
       "\tŁukasz\\_Simlat &  5 &  5 & 35 &  6 &  4 &  4 &  5 &  3 &  2 &  3 &  5 &  4 &  3 &  2 &  1\\\\\n",
       "\tMarian\\_Dziędziel &  5 &  4 &  6 & 33 &  4 &  7 &  2 &  4 &  5 &  2 &  6 &  5 &  6 &  4 &  2\\\\\n",
       "\tPrzemysław\\_Bluszcz &  5 &  4 &  4 &  4 & 32 &  3 &  0 &  2 &  2 &  3 &  4 &  4 &  3 &  3 &  2\\\\\n",
       "\tAdam\\_Woronowicz &  8 &  3 &  4 &  7 &  3 & 31 &  1 &  2 &  3 &  4 &  3 &  6 &  4 &  3 &  1\\\\\n",
       "\tAndrzej\\_Chyra &  3 &  2 &  5 &  2 &  0 &  1 & 29 &  1 &  3 &  3 &  2 &  2 &  2 &  4 &  1\\\\\n",
       "\tBorys\\_Szyc &  3 &  4 &  3 &  4 &  2 &  2 &  1 & 29 &  5 &  1 &  2 &  1 &  1 &  1 &  4\\\\\n",
       "\tAndrzej\\_Grabowski &  6 &  2 &  2 &  5 &  2 &  3 &  3 &  5 & 28 &  1 &  2 &  2 &  4 &  3 &  5\\\\\n",
       "\tAndrzej\\_Konopka &  1 &  4 &  3 &  2 &  3 &  4 &  3 &  1 &  1 & 27 &  4 &  3 &  2 &  3 &  1\\\\\n",
       "\tBartłomiej\\_Topa &  2 &  3 &  5 &  6 &  4 &  3 &  2 &  2 &  2 &  4 & 26 &  4 &  4 &  5 &  1\\\\\n",
       "\tRobert\\_Więckiewicz &  3 &  4 &  4 &  5 &  4 &  6 &  2 &  1 &  2 &  3 &  4 & 26 &  2 &  3 &  2\\\\\n",
       "\tEryk\\_Lubos &  8 &  3 &  3 &  6 &  3 &  4 &  2 &  1 &  4 &  2 &  4 &  2 & 25 &  5 &  3\\\\\n",
       "\tArkadiusz\\_Jakubik &  3 &  2 &  2 &  4 &  3 &  3 &  4 &  1 &  3 &  3 &  5 &  3 &  5 & 24 &  2\\\\\n",
       "\tBartłomiej\\_Firlet &  4 &  2 &  1 &  2 &  2 &  1 &  1 &  4 &  5 &  1 &  1 &  2 &  3 &  2 & 24\\\\\n",
       "\\end{tabular}\n"
      ],
      "text/markdown": [
       "\n",
       "| <!--/--> | Janusz_Chabior | Piotr_Głowacki | Łukasz_Simlat | Marian_Dziędziel | Przemysław_Bluszcz | Adam_Woronowicz | Andrzej_Chyra | Borys_Szyc | Andrzej_Grabowski | Andrzej_Konopka | Bartłomiej_Topa | Robert_Więckiewicz | Eryk_Lubos | Arkadiusz_Jakubik | Bartłomiej_Firlet |\n",
       "|---|---|---|---|---|---|---|---|---|---|---|---|---|---|---|---|\n",
       "| Janusz_Chabior | 45 |  6 |  5 |  5 |  5 |  8 |  3 |  3 |  6 |  1 |  2 |  3 |  8 |  3 |  4 |\n",
       "| Piotr_Głowacki |  6 | 41 |  5 |  4 |  4 |  3 |  2 |  4 |  2 |  4 |  3 |  4 |  3 |  2 |  2 |\n",
       "| Łukasz_Simlat |  5 |  5 | 35 |  6 |  4 |  4 |  5 |  3 |  2 |  3 |  5 |  4 |  3 |  2 |  1 |\n",
       "| Marian_Dziędziel |  5 |  4 |  6 | 33 |  4 |  7 |  2 |  4 |  5 |  2 |  6 |  5 |  6 |  4 |  2 |\n",
       "| Przemysław_Bluszcz |  5 |  4 |  4 |  4 | 32 |  3 |  0 |  2 |  2 |  3 |  4 |  4 |  3 |  3 |  2 |\n",
       "| Adam_Woronowicz |  8 |  3 |  4 |  7 |  3 | 31 |  1 |  2 |  3 |  4 |  3 |  6 |  4 |  3 |  1 |\n",
       "| Andrzej_Chyra |  3 |  2 |  5 |  2 |  0 |  1 | 29 |  1 |  3 |  3 |  2 |  2 |  2 |  4 |  1 |\n",
       "| Borys_Szyc |  3 |  4 |  3 |  4 |  2 |  2 |  1 | 29 |  5 |  1 |  2 |  1 |  1 |  1 |  4 |\n",
       "| Andrzej_Grabowski |  6 |  2 |  2 |  5 |  2 |  3 |  3 |  5 | 28 |  1 |  2 |  2 |  4 |  3 |  5 |\n",
       "| Andrzej_Konopka |  1 |  4 |  3 |  2 |  3 |  4 |  3 |  1 |  1 | 27 |  4 |  3 |  2 |  3 |  1 |\n",
       "| Bartłomiej_Topa |  2 |  3 |  5 |  6 |  4 |  3 |  2 |  2 |  2 |  4 | 26 |  4 |  4 |  5 |  1 |\n",
       "| Robert_Więckiewicz |  3 |  4 |  4 |  5 |  4 |  6 |  2 |  1 |  2 |  3 |  4 | 26 |  2 |  3 |  2 |\n",
       "| Eryk_Lubos |  8 |  3 |  3 |  6 |  3 |  4 |  2 |  1 |  4 |  2 |  4 |  2 | 25 |  5 |  3 |\n",
       "| Arkadiusz_Jakubik |  3 |  2 |  2 |  4 |  3 |  3 |  4 |  1 |  3 |  3 |  5 |  3 |  5 | 24 |  2 |\n",
       "| Bartłomiej_Firlet |  4 |  2 |  1 |  2 |  2 |  1 |  1 |  4 |  5 |  1 |  1 |  2 |  3 |  2 | 24 |\n",
       "\n"
      ],
      "text/plain": [
       "                   Janusz_Chabior Piotr_Głowacki Łukasz_Simlat Marian_Dziędziel\n",
       "Janusz_Chabior     45              6              5             5              \n",
       "Piotr_Głowacki      6             41              5             4              \n",
       "Łukasz_Simlat       5              5             35             6              \n",
       "Marian_Dziędziel    5              4              6            33              \n",
       "Przemysław_Bluszcz  5              4              4             4              \n",
       "Adam_Woronowicz     8              3              4             7              \n",
       "Andrzej_Chyra       3              2              5             2              \n",
       "Borys_Szyc          3              4              3             4              \n",
       "Andrzej_Grabowski   6              2              2             5              \n",
       "Andrzej_Konopka     1              4              3             2              \n",
       "Bartłomiej_Topa     2              3              5             6              \n",
       "Robert_Więckiewicz  3              4              4             5              \n",
       "Eryk_Lubos          8              3              3             6              \n",
       "Arkadiusz_Jakubik   3              2              2             4              \n",
       "Bartłomiej_Firlet   4              2              1             2              \n",
       "                   Przemysław_Bluszcz Adam_Woronowicz Andrzej_Chyra Borys_Szyc\n",
       "Janusz_Chabior      5                  8               3             3        \n",
       "Piotr_Głowacki      4                  3               2             4        \n",
       "Łukasz_Simlat       4                  4               5             3        \n",
       "Marian_Dziędziel    4                  7               2             4        \n",
       "Przemysław_Bluszcz 32                  3               0             2        \n",
       "Adam_Woronowicz     3                 31               1             2        \n",
       "Andrzej_Chyra       0                  1              29             1        \n",
       "Borys_Szyc          2                  2               1            29        \n",
       "Andrzej_Grabowski   2                  3               3             5        \n",
       "Andrzej_Konopka     3                  4               3             1        \n",
       "Bartłomiej_Topa     4                  3               2             2        \n",
       "Robert_Więckiewicz  4                  6               2             1        \n",
       "Eryk_Lubos          3                  4               2             1        \n",
       "Arkadiusz_Jakubik   3                  3               4             1        \n",
       "Bartłomiej_Firlet   2                  1               1             4        \n",
       "                   Andrzej_Grabowski Andrzej_Konopka Bartłomiej_Topa\n",
       "Janusz_Chabior      6                 1               2             \n",
       "Piotr_Głowacki      2                 4               3             \n",
       "Łukasz_Simlat       2                 3               5             \n",
       "Marian_Dziędziel    5                 2               6             \n",
       "Przemysław_Bluszcz  2                 3               4             \n",
       "Adam_Woronowicz     3                 4               3             \n",
       "Andrzej_Chyra       3                 3               2             \n",
       "Borys_Szyc          5                 1               2             \n",
       "Andrzej_Grabowski  28                 1               2             \n",
       "Andrzej_Konopka     1                27               4             \n",
       "Bartłomiej_Topa     2                 4              26             \n",
       "Robert_Więckiewicz  2                 3               4             \n",
       "Eryk_Lubos          4                 2               4             \n",
       "Arkadiusz_Jakubik   3                 3               5             \n",
       "Bartłomiej_Firlet   5                 1               1             \n",
       "                   Robert_Więckiewicz Eryk_Lubos Arkadiusz_Jakubik\n",
       "Janusz_Chabior      3                  8          3               \n",
       "Piotr_Głowacki      4                  3          2               \n",
       "Łukasz_Simlat       4                  3          2               \n",
       "Marian_Dziędziel    5                  6          4               \n",
       "Przemysław_Bluszcz  4                  3          3               \n",
       "Adam_Woronowicz     6                  4          3               \n",
       "Andrzej_Chyra       2                  2          4               \n",
       "Borys_Szyc          1                  1          1               \n",
       "Andrzej_Grabowski   2                  4          3               \n",
       "Andrzej_Konopka     3                  2          3               \n",
       "Bartłomiej_Topa     4                  4          5               \n",
       "Robert_Więckiewicz 26                  2          3               \n",
       "Eryk_Lubos          2                 25          5               \n",
       "Arkadiusz_Jakubik   3                  5         24               \n",
       "Bartłomiej_Firlet   2                  3          2               \n",
       "                   Bartłomiej_Firlet\n",
       "Janusz_Chabior      4               \n",
       "Piotr_Głowacki      2               \n",
       "Łukasz_Simlat       1               \n",
       "Marian_Dziędziel    2               \n",
       "Przemysław_Bluszcz  2               \n",
       "Adam_Woronowicz     1               \n",
       "Andrzej_Chyra       1               \n",
       "Borys_Szyc          4               \n",
       "Andrzej_Grabowski   5               \n",
       "Andrzej_Konopka     1               \n",
       "Bartłomiej_Topa     1               \n",
       "Robert_Więckiewicz  2               \n",
       "Eryk_Lubos          3               \n",
       "Arkadiusz_Jakubik   2               \n",
       "Bartłomiej_Firlet  24               "
      ]
     },
     "metadata": {},
     "output_type": "display_data"
    }
   ],
   "source": [
    "crossTable(df, measure=\"count\", sort=TRUE)[1:15,1:15]"
   ]
  },
  {
   "cell_type": "code",
   "execution_count": 125,
   "metadata": {
    "ExecuteTime": {
     "end_time": "2019-12-26T18:52:06.841276Z",
     "start_time": "2019-12-26T18:52:03.276Z"
    }
   },
   "outputs": [
    {
     "data": {
      "text/html": [
       "<table>\n",
       "<thead><tr><th></th><th scope=col>Janusz_Chabior</th><th scope=col>Piotr_Głowacki</th><th scope=col>Łukasz_Simlat</th><th scope=col>Marian_Dziędziel</th><th scope=col>Przemysław_Bluszcz</th><th scope=col>Adam_Woronowicz</th><th scope=col>Andrzej_Chyra</th><th scope=col>Borys_Szyc</th><th scope=col>Andrzej_Grabowski</th><th scope=col>Andrzej_Konopka</th><th scope=col>Bartłomiej_Topa</th><th scope=col>Robert_Więckiewicz</th><th scope=col>Eryk_Lubos</th><th scope=col>Arkadiusz_Jakubik</th><th scope=col>Bartłomiej_Firlet</th></tr></thead>\n",
       "<tbody>\n",
       "\t<tr><th scope=row>Janusz_Chabior</th><td>       NA</td><td>1.8536585</td><td>1.8095238</td><td>1.919192 </td><td>1.979167 </td><td>3.2688172</td><td>1.3103448</td><td>1.3103448</td><td>2.7142857</td><td>0.4691358</td><td>0.9743590</td><td>1.4615385</td><td>4.0533333</td><td>1.5833333</td><td>2.1111111</td></tr>\n",
       "\t<tr><th scope=row>Piotr_Głowacki</th><td>1.8536585</td><td>       NA</td><td>1.9860627</td><td>1.685144 </td><td>1.737805 </td><td>1.3453973</td><td>0.9587889</td><td>1.9175778</td><td>0.9930314</td><td>2.0596206</td><td>1.6041276</td><td>2.1388368</td><td>1.6682927</td><td>1.1585366</td><td>1.1585366</td></tr>\n",
       "\t<tr><th scope=row>Łukasz_Simlat</th><td>1.8095238</td><td>1.9860627</td><td>       NA</td><td>2.961039 </td><td>2.035714 </td><td>2.1013825</td><td>2.8078818</td><td>1.6847291</td><td>1.1632653</td><td>1.8095238</td><td>3.1318681</td><td>2.5054945</td><td>1.9542857</td><td>1.3571429</td><td>0.6785714</td></tr>\n",
       "\t<tr><th scope=row>Marian_Dziędziel</th><td>1.9191919</td><td>1.6851441</td><td>2.9610390</td><td>      NA </td><td>2.159091 </td><td>3.9002933</td><td>1.1912226</td><td>2.3824451</td><td>3.0844156</td><td>1.2794613</td><td>3.9860140</td><td>3.3216783</td><td>4.1454545</td><td>2.8787879</td><td>1.4393939</td></tr>\n",
       "\t<tr><th scope=row>Przemysław_Bluszcz</th><td>1.9791667</td><td>1.7378049</td><td>2.0357143</td><td>2.159091 </td><td>      NA </td><td>1.7237903</td><td>0.0000000</td><td>1.2284483</td><td>1.2723214</td><td>1.9791667</td><td>2.7403846</td><td>2.7403846</td><td>2.1375000</td><td>2.2265625</td><td>1.4843750</td></tr>\n",
       "\t<tr><th scope=row>Adam_Woronowicz</th><td>3.2688172</td><td>1.3453973</td><td>2.1013825</td><td>3.900293 </td><td>1.723790 </td><td>       NA</td><td>0.6340378</td><td>1.2680756</td><td>1.9700461</td><td>2.7240143</td><td>2.1215881</td><td>4.2431762</td><td>2.9419355</td><td>2.2983871</td><td>0.7661290</td></tr>\n",
       "\t<tr><th scope=row>Andrzej_Chyra</th><td>1.3103448</td><td>0.9587889</td><td>2.8078818</td><td>1.191223 </td><td>0.000000 </td><td>0.6340378</td><td>       NA</td><td>0.6777646</td><td>2.1059113</td><td>2.1839080</td><td>1.5119363</td><td>1.5119363</td><td>1.5724138</td><td>3.2758621</td><td>0.8189655</td></tr>\n",
       "\t<tr><th scope=row>Borys_Szyc</th><td>1.3103448</td><td>1.9175778</td><td>1.6847291</td><td>2.382445 </td><td>1.228448 </td><td>1.2680756</td><td>0.6777646</td><td>       NA</td><td>3.5098522</td><td>0.7279693</td><td>1.5119363</td><td>0.7559682</td><td>0.7862069</td><td>0.8189655</td><td>3.2758621</td></tr>\n",
       "\t<tr><th scope=row>Andrzej_Grabowski</th><td>2.7142857</td><td>0.9930314</td><td>1.1632653</td><td>3.084416 </td><td>1.272321 </td><td>1.9700461</td><td>2.1059113</td><td>3.5098522</td><td>       NA</td><td>0.7539683</td><td>1.5659341</td><td>1.5659341</td><td>3.2571429</td><td>2.5446429</td><td>4.2410714</td></tr>\n",
       "\t<tr><th scope=row>Andrzej_Konopka</th><td>0.4691358</td><td>2.0596206</td><td>1.8095238</td><td>1.279461 </td><td>1.979167 </td><td>2.7240143</td><td>2.1839080</td><td>0.7279693</td><td>0.7539683</td><td>       NA</td><td>3.2478632</td><td>2.4358974</td><td>1.6888889</td><td>2.6388889</td><td>0.8796296</td></tr>\n",
       "\t<tr><th scope=row>Bartłomiej_Topa</th><td>0.9743590</td><td>1.6041276</td><td>3.1318681</td><td>3.986014 </td><td>2.740385 </td><td>2.1215881</td><td>1.5119363</td><td>1.5119363</td><td>1.5659341</td><td>3.2478632</td><td>       NA</td><td>3.3727811</td><td>3.5076923</td><td>4.5673077</td><td>0.9134615</td></tr>\n",
       "\t<tr><th scope=row>Robert_Więckiewicz</th><td>1.4615385</td><td>2.1388368</td><td>2.5054945</td><td>3.321678 </td><td>2.740385 </td><td>4.2431762</td><td>1.5119363</td><td>0.7559682</td><td>1.5659341</td><td>2.4358974</td><td>3.3727811</td><td>       NA</td><td>1.7538462</td><td>2.7403846</td><td>1.8269231</td></tr>\n",
       "\t<tr><th scope=row>Eryk_Lubos</th><td>4.0533333</td><td>1.6682927</td><td>1.9542857</td><td>4.145455 </td><td>2.137500 </td><td>2.9419355</td><td>1.5724138</td><td>0.7862069</td><td>3.2571429</td><td>1.6888889</td><td>3.5076923</td><td>1.7538462</td><td>       NA</td><td>4.7500000</td><td>2.8500000</td></tr>\n",
       "\t<tr><th scope=row>Arkadiusz_Jakubik</th><td>1.5833333</td><td>1.1585366</td><td>1.3571429</td><td>2.878788 </td><td>2.226562 </td><td>2.2983871</td><td>3.2758621</td><td>0.8189655</td><td>2.5446429</td><td>2.6388889</td><td>4.5673077</td><td>2.7403846</td><td>4.7500000</td><td>       NA</td><td>1.9791667</td></tr>\n",
       "\t<tr><th scope=row>Bartłomiej_Firlet</th><td>2.1111111</td><td>1.1585366</td><td>0.6785714</td><td>1.439394 </td><td>1.484375 </td><td>0.7661290</td><td>0.8189655</td><td>3.2758621</td><td>4.2410714</td><td>0.8796296</td><td>0.9134615</td><td>1.8269231</td><td>2.8500000</td><td>1.9791667</td><td>       NA</td></tr>\n",
       "</tbody>\n",
       "</table>\n"
      ],
      "text/latex": [
       "\\begin{tabular}{r|lllllllllllllll}\n",
       "  & Janusz\\_Chabior & Piotr\\_Głowacki & Łukasz\\_Simlat & Marian\\_Dziędziel & Przemysław\\_Bluszcz & Adam\\_Woronowicz & Andrzej\\_Chyra & Borys\\_Szyc & Andrzej\\_Grabowski & Andrzej\\_Konopka & Bartłomiej\\_Topa & Robert\\_Więckiewicz & Eryk\\_Lubos & Arkadiusz\\_Jakubik & Bartłomiej\\_Firlet\\\\\n",
       "\\hline\n",
       "\tJanusz\\_Chabior &        NA & 1.8536585 & 1.8095238 & 1.919192  & 1.979167  & 3.2688172 & 1.3103448 & 1.3103448 & 2.7142857 & 0.4691358 & 0.9743590 & 1.4615385 & 4.0533333 & 1.5833333 & 2.1111111\\\\\n",
       "\tPiotr\\_Głowacki & 1.8536585 &        NA & 1.9860627 & 1.685144  & 1.737805  & 1.3453973 & 0.9587889 & 1.9175778 & 0.9930314 & 2.0596206 & 1.6041276 & 2.1388368 & 1.6682927 & 1.1585366 & 1.1585366\\\\\n",
       "\tŁukasz\\_Simlat & 1.8095238 & 1.9860627 &        NA & 2.961039  & 2.035714  & 2.1013825 & 2.8078818 & 1.6847291 & 1.1632653 & 1.8095238 & 3.1318681 & 2.5054945 & 1.9542857 & 1.3571429 & 0.6785714\\\\\n",
       "\tMarian\\_Dziędziel & 1.9191919 & 1.6851441 & 2.9610390 &       NA  & 2.159091  & 3.9002933 & 1.1912226 & 2.3824451 & 3.0844156 & 1.2794613 & 3.9860140 & 3.3216783 & 4.1454545 & 2.8787879 & 1.4393939\\\\\n",
       "\tPrzemysław\\_Bluszcz & 1.9791667 & 1.7378049 & 2.0357143 & 2.159091  &       NA  & 1.7237903 & 0.0000000 & 1.2284483 & 1.2723214 & 1.9791667 & 2.7403846 & 2.7403846 & 2.1375000 & 2.2265625 & 1.4843750\\\\\n",
       "\tAdam\\_Woronowicz & 3.2688172 & 1.3453973 & 2.1013825 & 3.900293  & 1.723790  &        NA & 0.6340378 & 1.2680756 & 1.9700461 & 2.7240143 & 2.1215881 & 4.2431762 & 2.9419355 & 2.2983871 & 0.7661290\\\\\n",
       "\tAndrzej\\_Chyra & 1.3103448 & 0.9587889 & 2.8078818 & 1.191223  & 0.000000  & 0.6340378 &        NA & 0.6777646 & 2.1059113 & 2.1839080 & 1.5119363 & 1.5119363 & 1.5724138 & 3.2758621 & 0.8189655\\\\\n",
       "\tBorys\\_Szyc & 1.3103448 & 1.9175778 & 1.6847291 & 2.382445  & 1.228448  & 1.2680756 & 0.6777646 &        NA & 3.5098522 & 0.7279693 & 1.5119363 & 0.7559682 & 0.7862069 & 0.8189655 & 3.2758621\\\\\n",
       "\tAndrzej\\_Grabowski & 2.7142857 & 0.9930314 & 1.1632653 & 3.084416  & 1.272321  & 1.9700461 & 2.1059113 & 3.5098522 &        NA & 0.7539683 & 1.5659341 & 1.5659341 & 3.2571429 & 2.5446429 & 4.2410714\\\\\n",
       "\tAndrzej\\_Konopka & 0.4691358 & 2.0596206 & 1.8095238 & 1.279461  & 1.979167  & 2.7240143 & 2.1839080 & 0.7279693 & 0.7539683 &        NA & 3.2478632 & 2.4358974 & 1.6888889 & 2.6388889 & 0.8796296\\\\\n",
       "\tBartłomiej\\_Topa & 0.9743590 & 1.6041276 & 3.1318681 & 3.986014  & 2.740385  & 2.1215881 & 1.5119363 & 1.5119363 & 1.5659341 & 3.2478632 &        NA & 3.3727811 & 3.5076923 & 4.5673077 & 0.9134615\\\\\n",
       "\tRobert\\_Więckiewicz & 1.4615385 & 2.1388368 & 2.5054945 & 3.321678  & 2.740385  & 4.2431762 & 1.5119363 & 0.7559682 & 1.5659341 & 2.4358974 & 3.3727811 &        NA & 1.7538462 & 2.7403846 & 1.8269231\\\\\n",
       "\tEryk\\_Lubos & 4.0533333 & 1.6682927 & 1.9542857 & 4.145455  & 2.137500  & 2.9419355 & 1.5724138 & 0.7862069 & 3.2571429 & 1.6888889 & 3.5076923 & 1.7538462 &        NA & 4.7500000 & 2.8500000\\\\\n",
       "\tArkadiusz\\_Jakubik & 1.5833333 & 1.1585366 & 1.3571429 & 2.878788  & 2.226562  & 2.2983871 & 3.2758621 & 0.8189655 & 2.5446429 & 2.6388889 & 4.5673077 & 2.7403846 & 4.7500000 &        NA & 1.9791667\\\\\n",
       "\tBartłomiej\\_Firlet & 2.1111111 & 1.1585366 & 0.6785714 & 1.439394  & 1.484375  & 0.7661290 & 0.8189655 & 3.2758621 & 4.2410714 & 0.8796296 & 0.9134615 & 1.8269231 & 2.8500000 & 1.9791667 &        NA\\\\\n",
       "\\end{tabular}\n"
      ],
      "text/markdown": [
       "\n",
       "| <!--/--> | Janusz_Chabior | Piotr_Głowacki | Łukasz_Simlat | Marian_Dziędziel | Przemysław_Bluszcz | Adam_Woronowicz | Andrzej_Chyra | Borys_Szyc | Andrzej_Grabowski | Andrzej_Konopka | Bartłomiej_Topa | Robert_Więckiewicz | Eryk_Lubos | Arkadiusz_Jakubik | Bartłomiej_Firlet |\n",
       "|---|---|---|---|---|---|---|---|---|---|---|---|---|---|---|---|\n",
       "| Janusz_Chabior |        NA | 1.8536585 | 1.8095238 | 1.919192  | 1.979167  | 3.2688172 | 1.3103448 | 1.3103448 | 2.7142857 | 0.4691358 | 0.9743590 | 1.4615385 | 4.0533333 | 1.5833333 | 2.1111111 |\n",
       "| Piotr_Głowacki | 1.8536585 |        NA | 1.9860627 | 1.685144  | 1.737805  | 1.3453973 | 0.9587889 | 1.9175778 | 0.9930314 | 2.0596206 | 1.6041276 | 2.1388368 | 1.6682927 | 1.1585366 | 1.1585366 |\n",
       "| Łukasz_Simlat | 1.8095238 | 1.9860627 |        NA | 2.961039  | 2.035714  | 2.1013825 | 2.8078818 | 1.6847291 | 1.1632653 | 1.8095238 | 3.1318681 | 2.5054945 | 1.9542857 | 1.3571429 | 0.6785714 |\n",
       "| Marian_Dziędziel | 1.9191919 | 1.6851441 | 2.9610390 |       NA  | 2.159091  | 3.9002933 | 1.1912226 | 2.3824451 | 3.0844156 | 1.2794613 | 3.9860140 | 3.3216783 | 4.1454545 | 2.8787879 | 1.4393939 |\n",
       "| Przemysław_Bluszcz | 1.9791667 | 1.7378049 | 2.0357143 | 2.159091  |       NA  | 1.7237903 | 0.0000000 | 1.2284483 | 1.2723214 | 1.9791667 | 2.7403846 | 2.7403846 | 2.1375000 | 2.2265625 | 1.4843750 |\n",
       "| Adam_Woronowicz | 3.2688172 | 1.3453973 | 2.1013825 | 3.900293  | 1.723790  |        NA | 0.6340378 | 1.2680756 | 1.9700461 | 2.7240143 | 2.1215881 | 4.2431762 | 2.9419355 | 2.2983871 | 0.7661290 |\n",
       "| Andrzej_Chyra | 1.3103448 | 0.9587889 | 2.8078818 | 1.191223  | 0.000000  | 0.6340378 |        NA | 0.6777646 | 2.1059113 | 2.1839080 | 1.5119363 | 1.5119363 | 1.5724138 | 3.2758621 | 0.8189655 |\n",
       "| Borys_Szyc | 1.3103448 | 1.9175778 | 1.6847291 | 2.382445  | 1.228448  | 1.2680756 | 0.6777646 |        NA | 3.5098522 | 0.7279693 | 1.5119363 | 0.7559682 | 0.7862069 | 0.8189655 | 3.2758621 |\n",
       "| Andrzej_Grabowski | 2.7142857 | 0.9930314 | 1.1632653 | 3.084416  | 1.272321  | 1.9700461 | 2.1059113 | 3.5098522 |        NA | 0.7539683 | 1.5659341 | 1.5659341 | 3.2571429 | 2.5446429 | 4.2410714 |\n",
       "| Andrzej_Konopka | 0.4691358 | 2.0596206 | 1.8095238 | 1.279461  | 1.979167  | 2.7240143 | 2.1839080 | 0.7279693 | 0.7539683 |        NA | 3.2478632 | 2.4358974 | 1.6888889 | 2.6388889 | 0.8796296 |\n",
       "| Bartłomiej_Topa | 0.9743590 | 1.6041276 | 3.1318681 | 3.986014  | 2.740385  | 2.1215881 | 1.5119363 | 1.5119363 | 1.5659341 | 3.2478632 |        NA | 3.3727811 | 3.5076923 | 4.5673077 | 0.9134615 |\n",
       "| Robert_Więckiewicz | 1.4615385 | 2.1388368 | 2.5054945 | 3.321678  | 2.740385  | 4.2431762 | 1.5119363 | 0.7559682 | 1.5659341 | 2.4358974 | 3.3727811 |        NA | 1.7538462 | 2.7403846 | 1.8269231 |\n",
       "| Eryk_Lubos | 4.0533333 | 1.6682927 | 1.9542857 | 4.145455  | 2.137500  | 2.9419355 | 1.5724138 | 0.7862069 | 3.2571429 | 1.6888889 | 3.5076923 | 1.7538462 |        NA | 4.7500000 | 2.8500000 |\n",
       "| Arkadiusz_Jakubik | 1.5833333 | 1.1585366 | 1.3571429 | 2.878788  | 2.226562  | 2.2983871 | 3.2758621 | 0.8189655 | 2.5446429 | 2.6388889 | 4.5673077 | 2.7403846 | 4.7500000 |        NA | 1.9791667 |\n",
       "| Bartłomiej_Firlet | 2.1111111 | 1.1585366 | 0.6785714 | 1.439394  | 1.484375  | 0.7661290 | 0.8189655 | 3.2758621 | 4.2410714 | 0.8796296 | 0.9134615 | 1.8269231 | 2.8500000 | 1.9791667 |        NA |\n",
       "\n"
      ],
      "text/plain": [
       "                   Janusz_Chabior Piotr_Głowacki Łukasz_Simlat Marian_Dziędziel\n",
       "Janusz_Chabior            NA      1.8536585      1.8095238     1.919192        \n",
       "Piotr_Głowacki     1.8536585             NA      1.9860627     1.685144        \n",
       "Łukasz_Simlat      1.8095238      1.9860627             NA     2.961039        \n",
       "Marian_Dziędziel   1.9191919      1.6851441      2.9610390           NA        \n",
       "Przemysław_Bluszcz 1.9791667      1.7378049      2.0357143     2.159091        \n",
       "Adam_Woronowicz    3.2688172      1.3453973      2.1013825     3.900293        \n",
       "Andrzej_Chyra      1.3103448      0.9587889      2.8078818     1.191223        \n",
       "Borys_Szyc         1.3103448      1.9175778      1.6847291     2.382445        \n",
       "Andrzej_Grabowski  2.7142857      0.9930314      1.1632653     3.084416        \n",
       "Andrzej_Konopka    0.4691358      2.0596206      1.8095238     1.279461        \n",
       "Bartłomiej_Topa    0.9743590      1.6041276      3.1318681     3.986014        \n",
       "Robert_Więckiewicz 1.4615385      2.1388368      2.5054945     3.321678        \n",
       "Eryk_Lubos         4.0533333      1.6682927      1.9542857     4.145455        \n",
       "Arkadiusz_Jakubik  1.5833333      1.1585366      1.3571429     2.878788        \n",
       "Bartłomiej_Firlet  2.1111111      1.1585366      0.6785714     1.439394        \n",
       "                   Przemysław_Bluszcz Adam_Woronowicz Andrzej_Chyra Borys_Szyc\n",
       "Janusz_Chabior     1.979167           3.2688172       1.3103448     1.3103448 \n",
       "Piotr_Głowacki     1.737805           1.3453973       0.9587889     1.9175778 \n",
       "Łukasz_Simlat      2.035714           2.1013825       2.8078818     1.6847291 \n",
       "Marian_Dziędziel   2.159091           3.9002933       1.1912226     2.3824451 \n",
       "Przemysław_Bluszcz       NA           1.7237903       0.0000000     1.2284483 \n",
       "Adam_Woronowicz    1.723790                  NA       0.6340378     1.2680756 \n",
       "Andrzej_Chyra      0.000000           0.6340378              NA     0.6777646 \n",
       "Borys_Szyc         1.228448           1.2680756       0.6777646            NA \n",
       "Andrzej_Grabowski  1.272321           1.9700461       2.1059113     3.5098522 \n",
       "Andrzej_Konopka    1.979167           2.7240143       2.1839080     0.7279693 \n",
       "Bartłomiej_Topa    2.740385           2.1215881       1.5119363     1.5119363 \n",
       "Robert_Więckiewicz 2.740385           4.2431762       1.5119363     0.7559682 \n",
       "Eryk_Lubos         2.137500           2.9419355       1.5724138     0.7862069 \n",
       "Arkadiusz_Jakubik  2.226562           2.2983871       3.2758621     0.8189655 \n",
       "Bartłomiej_Firlet  1.484375           0.7661290       0.8189655     3.2758621 \n",
       "                   Andrzej_Grabowski Andrzej_Konopka Bartłomiej_Topa\n",
       "Janusz_Chabior     2.7142857         0.4691358       0.9743590      \n",
       "Piotr_Głowacki     0.9930314         2.0596206       1.6041276      \n",
       "Łukasz_Simlat      1.1632653         1.8095238       3.1318681      \n",
       "Marian_Dziędziel   3.0844156         1.2794613       3.9860140      \n",
       "Przemysław_Bluszcz 1.2723214         1.9791667       2.7403846      \n",
       "Adam_Woronowicz    1.9700461         2.7240143       2.1215881      \n",
       "Andrzej_Chyra      2.1059113         2.1839080       1.5119363      \n",
       "Borys_Szyc         3.5098522         0.7279693       1.5119363      \n",
       "Andrzej_Grabowski         NA         0.7539683       1.5659341      \n",
       "Andrzej_Konopka    0.7539683                NA       3.2478632      \n",
       "Bartłomiej_Topa    1.5659341         3.2478632              NA      \n",
       "Robert_Więckiewicz 1.5659341         2.4358974       3.3727811      \n",
       "Eryk_Lubos         3.2571429         1.6888889       3.5076923      \n",
       "Arkadiusz_Jakubik  2.5446429         2.6388889       4.5673077      \n",
       "Bartłomiej_Firlet  4.2410714         0.8796296       0.9134615      \n",
       "                   Robert_Więckiewicz Eryk_Lubos Arkadiusz_Jakubik\n",
       "Janusz_Chabior     1.4615385          4.0533333  1.5833333        \n",
       "Piotr_Głowacki     2.1388368          1.6682927  1.1585366        \n",
       "Łukasz_Simlat      2.5054945          1.9542857  1.3571429        \n",
       "Marian_Dziędziel   3.3216783          4.1454545  2.8787879        \n",
       "Przemysław_Bluszcz 2.7403846          2.1375000  2.2265625        \n",
       "Adam_Woronowicz    4.2431762          2.9419355  2.2983871        \n",
       "Andrzej_Chyra      1.5119363          1.5724138  3.2758621        \n",
       "Borys_Szyc         0.7559682          0.7862069  0.8189655        \n",
       "Andrzej_Grabowski  1.5659341          3.2571429  2.5446429        \n",
       "Andrzej_Konopka    2.4358974          1.6888889  2.6388889        \n",
       "Bartłomiej_Topa    3.3727811          3.5076923  4.5673077        \n",
       "Robert_Więckiewicz        NA          1.7538462  2.7403846        \n",
       "Eryk_Lubos         1.7538462                 NA  4.7500000        \n",
       "Arkadiusz_Jakubik  2.7403846          4.7500000         NA        \n",
       "Bartłomiej_Firlet  1.8269231          2.8500000  1.9791667        \n",
       "                   Bartłomiej_Firlet\n",
       "Janusz_Chabior     2.1111111        \n",
       "Piotr_Głowacki     1.1585366        \n",
       "Łukasz_Simlat      0.6785714        \n",
       "Marian_Dziędziel   1.4393939        \n",
       "Przemysław_Bluszcz 1.4843750        \n",
       "Adam_Woronowicz    0.7661290        \n",
       "Andrzej_Chyra      0.8189655        \n",
       "Borys_Szyc         3.2758621        \n",
       "Andrzej_Grabowski  4.2410714        \n",
       "Andrzej_Konopka    0.8796296        \n",
       "Bartłomiej_Topa    0.9134615        \n",
       "Robert_Więckiewicz 1.8269231        \n",
       "Eryk_Lubos         2.8500000        \n",
       "Arkadiusz_Jakubik  1.9791667        \n",
       "Bartłomiej_Firlet         NA        "
      ]
     },
     "metadata": {},
     "output_type": "display_data"
    }
   ],
   "source": [
    "crossTable(df, measure=\"lift\", sort=TRUE)[1:15,1:15]"
   ]
  },
  {
   "cell_type": "code",
   "execution_count": 64,
   "metadata": {
    "ExecuteTime": {
     "end_time": "2019-12-26T18:17:53.380059Z",
     "start_time": "2019-12-26T18:17:53.297Z"
    },
    "scrolled": true
   },
   "outputs": [
    {
     "name": "stdout",
     "output_type": "stream",
     "text": [
      "Eclat\n",
      "\n",
      "parameter specification:\n",
      " tidLists support minlen maxlen            target   ext\n",
      "    FALSE    0.01      1     10 frequent itemsets FALSE\n",
      "\n",
      "algorithmic control:\n",
      " sparse sort verbose\n",
      "      7   -2    TRUE\n",
      "\n",
      "Absolute minimum support count: 5 \n",
      "\n",
      "create itemset ... \n",
      "set transactions ...[11659 item(s), 570 transaction(s)] done [0.01s].\n",
      "sorting and recoding items ... [495 item(s)] done [0.00s].\n",
      "creating sparse bit matrix ... [495 row(s), 570 column(s)] done [0.00s].\n",
      "writing  ... [550 set(s)] done [0.01s].\n",
      "Creating S4 object  ... done [0.00s].\n",
      "      items                                              support    count\n",
      "[1]   {Marek_Kalita,Przemysław_Bluszcz}                  0.01052632  6   \n",
      "[2]   {Łukasz_Simlat,Piotr_Tołoczko}                     0.01052632  6   \n",
      "[3]   {Agata_Kulesza,Roman_Gancarczyk}                   0.01228070  7   \n",
      "[4]   {Przemysław_Bluszcz,Wiesław_Cichy}                 0.01052632  6   \n",
      "[5]   {Marcin_Juchniewicz,Robert_Wabich}                 0.01052632  6   \n",
      "[6]   {Gabriela_Muskała,Łukasz_Simlat}                   0.01052632  6   \n",
      "[7]   {Tomasz_Oświeciński,Wojciech_Kalinowski}           0.01052632  6   \n",
      "[8]   {Anita_Poddębniak,Dariusz_Chojnacki}               0.01228070  7   \n",
      "[9]   {Janusz_Chabior,Wojciech_Machnicki}                0.01052632  6   \n",
      "[10]  {Andrzej_Deskur,Piotr_Głowacki}                    0.01052632  6   \n",
      "[11]  {Filip_Guźla,Tomasz_Oświeciński}                   0.01052632  6   \n",
      "[12]  {Piotr_Głowacki,Rafał_Iwaniuk}                     0.01052632  6   \n",
      "[13]  {Janusz_Chabior,Rafał_Iwaniuk}                     0.01052632  6   \n",
      "[14]  {Borys_Szyc,Daniel_Olbrychski}                     0.01052632  6   \n",
      "[15]  {Artur_Krajewski,Piotr_Głowacki}                   0.01052632  6   \n",
      "[16]  {Agata_Kulesza,Marcin_Dorociński,Marian_Dziędziel} 0.01052632  6   \n",
      "[17]  {Marcin_Dorociński,Marian_Dziędziel}               0.01403509  8   \n",
      "[18]  {Agata_Kulesza,Marcin_Dorociński}                  0.01052632  6   \n",
      "[19]  {Bogusław_Linda,Borys_Szyc}                        0.01052632  6   \n",
      "[20]  {Piotr_Stramowski,Tomasz_Oświeciński}              0.01052632  6   \n",
      "[21]  {Krzysztof_Stelmaszyk,Rafał_Zawierucha}            0.01052632  6   \n",
      "[22]  {Krzysztof_Dracz,Piotr_Głowacki}                   0.01052632  6   \n",
      "[23]  {Marek_Kossakowski,Piotr_Głowacki}                 0.01052632  6   \n",
      "[24]  {Piotr_Głowacki,Zbigniew_Konopka}                  0.01228070  7   \n",
      "[25]  {Jacek_Braciak,Lech_Dyblik}                        0.01052632  6   \n",
      "[26]  {Agata_Kulesza,Marian_Dziędziel}                   0.01403509  8   \n",
      "[27]  {Adam_Woronowicz,Agata_Kulesza}                    0.01052632  6   \n",
      "[28]  {Agata_Kulesza,Eryk_Lubos}                         0.01052632  6   \n",
      "[29]  {Piotr_Głowacki,Sebastian_Stankiewicz}             0.01228070  7   \n",
      "[30]  {Izabela_Kuna,Marian_Dziędziel}                    0.01052632  6   \n",
      "[31]  {Izabela_Kuna,Łukasz_Simlat}                       0.01052632  6   \n",
      "[32]  {Izabela_Kuna,Robert_Wabich}                       0.01052632  6   \n",
      "[33]  {Izabela_Kuna,Tomasz_Sapryk}                       0.01052632  6   \n",
      "[34]  {Arkadiusz_Jakubik,Izabela_Kuna}                   0.01228070  7   \n",
      "[35]  {Jacek_Braciak,Robert_Wabich}                      0.01052632  6   \n",
      "[36]  {Piotr_Głowacki,Roma_Gąsiorowska}                  0.01228070  7   \n",
      "[37]  {Janusz_Chabior,Tomasz_Oświeciński}                0.01052632  6   \n",
      "[38]  {Andrzej_Grabowski,Tomasz_Oświeciński}             0.01228070  7   \n",
      "[39]  {Krzysztof_Czeczot,Piotr_Głowacki}                 0.01052632  6   \n",
      "[40]  {Eryk_Lubos,Janusz_Chabior}                        0.01403509  8   \n",
      "[41]  {Eryk_Lubos,Marian_Dziędziel}                      0.01052632  6   \n",
      "[42]  {Eryk_Lubos,Robert_Wabich}                         0.01052632  6   \n",
      "[43]  {Adam_Woronowicz,Robert_Więckiewicz}               0.01052632  6   \n",
      "[44]  {Arkadiusz_Jakubik,Robert_Wabich}                  0.01052632  6   \n",
      "[45]  {Piotr_Głowacki,Sonia_Bohosiewicz}                 0.01228070  7   \n",
      "[46]  {Przemysław_Bluszcz,Sonia_Bohosiewicz}             0.01228070  7   \n",
      "[47]  {Robert_Wabich,Tomasz_Sapryk}                      0.01052632  6   \n",
      "[48]  {Marian_Dziędziel,Robert_Wabich}                   0.01403509  8   \n",
      "[49]  {Maciej_Stuhr,Piotr_Głowacki}                      0.01052632  6   \n",
      "[50]  {Łukasz_Simlat,Marian_Dziędziel}                   0.01052632  6   \n",
      "[51]  {Bartłomiej_Topa,Marian_Dziędziel}                 0.01052632  6   \n",
      "[52]  {Adam_Woronowicz,Janusz_Chabior}                   0.01403509  8   \n",
      "[53]  {Adam_Woronowicz,Marian_Dziędziel}                 0.01228070  7   \n",
      "[54]  {Andrzej_Grabowski,Janusz_Chabior}                 0.01052632  6   \n",
      "[55]  {Janusz_Chabior,Piotr_Głowacki}                    0.01052632  6   \n",
      "[56]  {Piotr_Głowacki}                                   0.07192982 41   \n",
      "[57]  {Janusz_Chabior}                                   0.07894737 45   \n",
      "[58]  {Borys_Szyc}                                       0.05087719 29   \n",
      "[59]  {Marian_Dziędziel}                                 0.05789474 33   \n",
      "[60]  {Andrzej_Grabowski}                                0.04912281 28   \n",
      "[61]  {Adam_Woronowicz}                                  0.05438596 31   \n",
      "[62]  {Przemysław_Bluszcz}                               0.05614035 32   \n",
      "[63]  {Bartłomiej_Topa}                                  0.04561404 26   \n",
      "[64]  {Łukasz_Simlat}                                    0.06140351 35   \n",
      "[65]  {Maciej_Stuhr}                                     0.04035088 23   \n",
      "[66]  {Robert_Wabich}                                    0.04210526 24   \n",
      "[67]  {Bartłomiej_Firlet}                                0.04210526 24   \n",
      "[68]  {Tomasz_Sapryk}                                    0.04210526 24   \n",
      "[69]  {Sonia_Bohosiewicz}                                0.03859649 22   \n",
      "[70]  {Arkadiusz_Jakubik}                                0.04210526 24   \n",
      "[71]  {Robert_Więckiewicz}                               0.04561404 26   \n",
      "[72]  {Eryk_Lubos}                                       0.04385965 25   \n",
      "[73]  {Andrzej_Konopka}                                  0.04736842 27   \n",
      "[74]  {Krzysztof_Czeczot}                                0.03684211 21   \n",
      "[75]  {Piotr_Nowak}                                      0.03157895 18   \n",
      "[76]  {Tomasz_Oświeciński}                               0.02631579 15   \n",
      "[77]  {Sebastian_Fabijański}                             0.02631579 15   \n",
      "[78]  {Tomasz_Karolak}                                   0.03859649 22   \n",
      "[79]  {Piotr_Adamczyk}                                   0.03684211 21   \n",
      "[80]  {Roma_Gąsiorowska}                                 0.03684211 21   \n",
      "[81]  {Jacek_Braciak}                                    0.03157895 18   \n",
      "[82]  {Sławomir_Orzechowski}                             0.03859649 22   \n",
      "[83]  {Danuta_Stenka}                                    0.03684211 21   \n",
      "[84]  {Izabela_Kuna}                                     0.03859649 22   \n",
      "[85]  {Zbigniew_Zamachowski}                             0.03859649 22   \n",
      "[86]  {Antoni_Królikowski}                               0.02631579 15   \n",
      "[87]  {Sebastian_Stankiewicz}                            0.03684211 21   \n",
      "[88]  {Agata_Kulesza}                                    0.03859649 22   \n",
      "[89]  {Tomasz_Kot}                                       0.03859649 22   \n",
      "[90]  {Jan_Frycz}                                        0.03508772 20   \n",
      "[91]  {Wojciech_Mecwaldowski}                            0.03859649 22   \n",
      "[92]  {Michał_Żurawski}                                  0.02982456 17   \n",
      "[93]  {Tomasz_Schuchardt}                                0.03508772 20   \n",
      "[94]  {Lech_Dyblik}                                      0.03157895 18   \n",
      "[95]  {Michał_Czernecki}                                 0.02631579 15   \n",
      "[96]  {Iwona_Bielska}                                    0.02631579 15   \n",
      "[97]  {Jakub_Kamieński}                                  0.03333333 19   \n",
      "[98]  {Andrzej_Chyra}                                    0.05087719 29   \n",
      "[99]  {Zbigniew_Konopka}                                 0.02631579 15   \n",
      "[100] {Piotr_Żurawski}                                   0.02807018 16   \n",
      "[101] {Paulina_Gałązka}                                  0.02631579 15   \n",
      "[102] {Marek_Kossakowski}                                0.02456140 14   \n",
      "[103] {Rafał_Zawierucha}                                 0.02631579 15   \n",
      "[104] {Wojciech_Solarz}                                  0.02280702 13   \n",
      "[105] {Krzysztof_Globisz}                                0.03157895 18   \n",
      "[106] {Mateusz_Janicki}                                  0.02456140 14   \n",
      "[107] {Joanna_Kulig}                                     0.02982456 17   \n",
      "[108] {Ireneusz_Czop}                                    0.03333333 19   \n",
      "[109] {Andrzej_Mastalerz}                                0.03333333 19   \n",
      "[110] {Robert_Rogalski}                                  0.01754386 10   \n",
      "[111] {Olga_Bołądź}                                      0.03157895 18   \n",
      "[112] {Piotr_Dąbrowski}                                  0.02105263 12   \n",
      "[113] {Mirosław_Haniszewski}                             0.02807018 16   \n",
      "[114] {Krzysztof_Dracz}                                  0.02456140 14   \n",
      "[115] {Krzysztof_Stelmaszyk}                             0.02631579 15   \n",
      "[116] {Jarosław_Gruda}                                   0.01754386 10   \n",
      "[117] {Wojciech_Zieliński}                               0.02807018 16   \n",
      "[118] {Dariusz_Chojnacki}                                0.03333333 19   \n",
      "[119] {Marcin_Kwaśny}                                    0.02631579 15   \n",
      "[120] {Piotr_Stramowski}                                 0.02280702 13   \n",
      "[121] {Zacharjasz_Muszyński}                             0.01578947  9   \n",
      "[122] {Mateusz_Kościukiewicz}                            0.02982456 17   \n",
      "[123] {Dorota_Kolak}                                     0.03333333 19   \n",
      "[124] {Grzegorz_Małecki}                                 0.02456140 14   \n",
      "[125] {Jacek_Beler}                                      0.02631579 15   \n",
      "[126] {Bogusław_Linda}                                   0.02280702 13   \n",
      "[127] {Marcin_Dorociński}                                0.03508772 20   \n",
      "[128] {Ireneusz_Kozioł}                                  0.02456140 14   \n",
      "[129] {Artur_Krajewski}                                  0.03333333 19   \n",
      "[130] {Dariusz_Toczek}                                   0.02631579 15   \n",
      "[131] {Danuta_Borsuk}                                    0.02105263 12   \n",
      "[132] {Mariusz_Bonaszewski}                              0.02982456 17   \n",
      "[133] {Daniel_Olbrychski}                                0.02631579 15   \n",
      "[134] {Krzysztof_Pyziak}                                 0.02456140 14   \n",
      "[135] {Robert_Szewczyk}                                  0.01403509  8   \n",
      "[136] {Juliusz_Chrząstowski}                             0.02456140 14   \n",
      "[137] {Wiktor_Zborowski}                                 0.02631579 15   \n",
      "[138] {Lech_Łotocki}                                     0.02631579 15   \n",
      "[139] {Ilja_Zmiejew}                                     0.01929825 11   \n",
      "[140] {Dariusz_Siastacz}                                 0.02280702 13   \n",
      "[141] {Eugeniusz_Malinowski}                             0.01754386 10   \n",
      "[142] {Dobromir_Dymecki}                                 0.02631579 15   \n",
      "[143] {Rafał_Iwaniuk}                                    0.02456140 14   \n",
      "[144] {Piotr_Miazga}                                     0.01754386 10   \n",
      "[145] {Zbigniew_Waleryś}                                 0.01754386 10   \n",
      "[146] {Sławomir_Zapała}                                  0.02105263 12   \n",
      "[147] {Mirosław_Zbrojewicz}                              0.02982456 17   \n",
      "[148] {Filip_Guźla}                                      0.01228070  7   \n",
      "[149] {Andrzej_Deskur}                                   0.01578947  9   \n",
      "[150] {Barbara_Kurzaj}                                   0.02807018 16   \n",
      "[151] {Marcin_Czarnik}                                   0.02105263 12   \n",
      "[152] {Agnieszka_Dygant}                                 0.01228070  7   \n",
      "[153] {Józef_Pawłowski}                                  0.01578947  9   \n",
      "[154] {Piotr_Witkowski}                                  0.01929825 11   \n",
      "[155] {Dariusz_Karpiński}                                0.01403509  8   \n",
      "[156] {Wojciech_Machnicki}                               0.01403509  8   \n",
      "[157] {Bartosz_Porczyk}                                  0.02280702 13   \n",
      "[158] {Mikołaj_Roznerski}                                0.02631579 15   \n",
      "[159] {Krzysztof_Stroiński}                              0.02807018 16   \n",
      "[160] {Mariusz_Słupiński}                                0.01754386 10   \n",
      "[161] {Anita_Poddębniak}                                 0.02631579 15   \n",
      "[162] {Filip_Pławiak}                                    0.02280702 13   \n",
      "[163] {Wojciech_Kalinowski}                              0.01403509  8   \n",
      "[164] {Janusz_Gajos}                                     0.01929825 11   \n",
      "[165] {Mirosław_Baka}                                    0.02105263 12   \n",
      "[166] {Maciej_Mikołajczyk}                               0.02280702 13   \n",
      "[167] {Gabriela_Muskała}                                 0.02631579 15   \n",
      "[168] {Agnieszka_Więdłocha}                              0.01929825 11   \n",
      "[169] {Marcin_Juchniewicz}                               0.01929825 11   \n",
      "[170] {Katarzyna_Kwiatkowska}                            0.02631579 15   \n",
      "[171] {Maciej_Marczewski}                                0.02105263 12   \n",
      "[172] {Kazimierz_Mazur}                                  0.01578947  9   \n",
      "[173] {Agata_Pruchniewska}                               0.02105263 12   \n",
      "[174] {Krzysztof_Kiersznowski}                           0.02456140 14   \n",
      "[175] {Grażyna_Szapołowska}                              0.01578947  9   \n",
      "[176] {Jerzy_Rogalski}                                   0.01929825 11   \n",
      "[177] {Sebastian_Pawlak}                                 0.01929825 11   \n",
      "[178] {Izabela_Dąbrowska}                                0.02456140 14   \n",
      "[179] {Anna_Próchniak}                                   0.01403509  8   \n",
      "[180] {Elżbieta_Jarosik}                                 0.02280702 13   \n",
      "[181] {Artur_Janusiak}                                   0.01929825 11   \n",
      "[182] {Artur_Żmijewski}                                  0.01929825 11   \n",
      "[183] {Tomasz_Borkowski}                                 0.02105263 12   \n",
      "[184] {Marek_Kasprzyk}                                   0.02456140 14   \n",
      "[185] {Aldona_Jankowska}                                 0.01754386 10   \n",
      "[186] {Agnieszka_Wosińska}                               0.02280702 13   \n",
      "[187] {Krzysztof_Ogonek}                                 0.01754386 10   \n",
      "[188] {Paweł_Tomaszewski}                                0.02280702 13   \n",
      "[189] {Wiesław_Cichy}                                    0.02456140 14   \n",
      "[190] {Olga_Miłaszewska}                                 0.01754386 10   \n",
      "[191] {Jakub_Wieczorek}                                  0.01754386 10   \n",
      "[192] {Delfina_Wilkońska}                                0.01754386 10   \n",
      "[193] {Aleksandra_Popławska}                             0.02105263 12   \n",
      "[194] {Piotr_Grabowski}                                  0.02105263 12   \n",
      "[195] {Kinga_Preis}                                      0.02631579 15   \n",
      "[196] {Magdalena_Boczarska}                              0.01929825 11   \n",
      "[197] {Mariusz_Gagatek}                                  0.01228070  7   \n",
      "[198] {Maja_Ostaszewska}                                 0.02105263 12   \n",
      "[199] {Przemysław_Redkowski}                             0.01228070  7   \n",
      "[200] {Marta_Dąbrowska}                                  0.01578947  9   \n",
      "[201] {Sonia_Roszczuk}                                   0.01228070  7   \n",
      "[202] {Roman_Gancarczyk}                                 0.02456140 14   \n",
      "[203] {Tomasz_Włosok}                                    0.01929825 11   \n",
      "[204] {Julia_Kijowska}                                   0.02807018 16   \n",
      "[205] {Leszek_Lichota}                                   0.02105263 12   \n",
      "[206] {Grzegorz_Stelmaszewski}                           0.01929825 11   \n",
      "[207] {Paweł_Domagała}                                   0.01929825 11   \n",
      "[208] {Katarzyna_Warnke}                                 0.01578947  9   \n",
      "[209] {Magdalena_Smalara}                                0.01403509  8   \n",
      "[210] {Milena_Suszyńska}                                 0.01578947  9   \n",
      "[211] {Rafał_Rutkowski}                                  0.01754386 10   \n",
      "[212] {Grzegorz_Wojdon}                                  0.01578947  9   \n",
      "[213] {Dan_Sumikowski}                                   0.01228070  7   \n",
      "[214] {Olgierd_Łukaszewicz}                              0.02105263 12   \n",
      "[215] {Damian_Kret}                                      0.01228070  7   \n",
      "[216] {Anna_Smołowik}                                    0.02280702 13   \n",
      "[217] {Anna_Dereszowska}                                 0.02280702 13   \n",
      "[218] {Piotr_Tołoczko}                                   0.01578947  9   \n",
      "[219] {Małgorzata_Krukowska}                             0.01403509  8   \n",
      "[220] {Michalina_Olszańska}                              0.02456140 14   \n",
      "[221] {Magdalena_Celówna_Janikowska}                     0.01578947  9   \n",
      "[222] {Cezary_Kosiński}                                  0.01754386 10   \n",
      "[223] {Ewa_Kasprzyk}                                     0.02105263 12   \n",
      "[224] {Justyna_Wasilewska}                               0.02456140 14   \n",
      "[225] {Magdalena_Cielecka}                               0.01929825 11   \n",
      "[226] {Witold_Wieliński}                                 0.02280702 13   \n",
      "[227] {Katarzyna_Kołeczek}                               0.01754386 10   \n",
      "[228] {Marta_Ścisłowicz}                                 0.01578947  9   \n",
      "[229] {Katarzyna_Bargiełowska}                           0.01929825 11   \n",
      "[230] {Małgorzata_Kowalska}                              0.01052632  6   \n",
      "[231] {Anna_Karczmarczyk}                                0.01754386 10   \n",
      "[232] {Wojciech_Urbański}                                0.01052632  6   \n",
      "[233] {Łukasz_Szmigrodzki}                               0.01228070  7   \n",
      "[234] {Antoni_Pawlicki}                                  0.02280702 13   \n",
      "[235] {Stanisław_Brudny}                                 0.01754386 10   \n",
      "[236] {Jakub_Wróblewski}                                 0.01929825 11   \n",
      "[237] {Sebastian_Perdek}                                 0.01754386 10   \n",
      "[238] {Mateusz_Więcławek}                                0.01754386 10   \n",
      "[239] {Zbigniew_Stryj}                                   0.01929825 11   \n",
      "[240] {Julian_Świeżewski}                                0.01403509  8   \n",
      "[241] {Mariusz_Drężek}                                   0.02280702 13   \n",
      "[242] {Bartłomiej_Kotschedoff}                           0.01754386 10   \n",
      "[243] {Michał_Kula}                                      0.01052632  6   \n",
      "[244] {Tomira_Kowalik}                                   0.01754386 10   \n",
      "[245] {Cezary_Pazura}                                    0.01929825 11   \n",
      "[246] {Aleksandra_Domańska}                              0.01578947  9   \n",
      "[247] {Marian_Opania}                                    0.01578947  9   \n",
      "[248] {Michał_Gadomski}                                  0.01228070  7   \n",
      "[249] {Tomasz_Ziętek}                                    0.02105263 12   \n",
      "[250] {Iwona_Sitkowska}                                  0.01052632  6   \n",
      "[251] {Henryk_Gołębiewski}                               0.01578947  9   \n",
      "[252] {Marcin_Stec}                                      0.01228070  7   \n",
      "[253] {Ryszard_Kluge}                                    0.01052632  6   \n",
      "[254] {Jerzy_Trela}                                      0.01929825 11   \n",
      "[255] {Piotr_Cyrwus}                                     0.01578947  9   \n",
      "[256] {Marta_Żmuda_Trzebiatowska}                        0.01578947  9   \n",
      "[257] {Mateusz_Korsak}                                   0.01052632  6   \n",
      "[258] {Nikodem_Rozbicki}                                 0.01754386 10   \n",
      "[259] {Władysław_Kowalski}                               0.01754386 10   \n",
      "[260] {Magdalena_Czerwińska}                             0.01929825 11   \n",
      "[261] {Katarzyna_Figura}                                 0.02105263 12   \n",
      "[262] {Michał_Grzybowski}                                0.01929825 11   \n",
      "[263] {Kordian_Rekowski}                                 0.01228070  7   \n",
      "[264] {Katarzyna_Herman}                                 0.01929825 11   \n",
      "[265] {Magdalena_Kuta}                                   0.01929825 11   \n",
      "[266] {Mariusz_Ostrowski}                                0.01578947  9   \n",
      "[267] {Paweł_Małaszyński}                                0.01578947  9   \n",
      "[268] {Elżbieta_Romanowska}                              0.01754386 10   \n",
      "[269] {Wojciech_Chorąży}                                 0.01228070  7   \n",
      "[270] {Maksymilian_Michasiów}                            0.01052632  6   \n",
      "[271] {Bartłomiej_Nowosielski}                           0.01228070  7   \n",
      "[272] {Jacek_Reda}                                       0.01052632  6   \n",
      "[273] {Michał_Włodarczyk}                                0.01403509  8   \n",
      "[274] {Tomasz_Sobczak}                                   0.01929825 11   \n",
      "[275] {Andrzej_Luter}                                    0.01578947  9   \n",
      "[276] {Jakub_Gierszał}                                   0.02105263 12   \n",
      "[277] {Diana_Zamojska}                                   0.01754386 10   \n",
      "[278] {Aleksander_Janiszewski}                           0.01754386 10   \n",
      "[279] {Marcin_Perchuć}                                   0.01754386 10   \n",
      "[280] {Marek_Kalita}                                     0.02105263 12   \n",
      "[281] {Jaśmina_Polak}                                    0.01403509  8   \n",
      "[282] {Agnieszka_Grochowska}                             0.01754386 10   \n",
      "[283] {Katarzyna_Cynke}                                  0.01754386 10   \n",
      "[284] {Marcel_Sabat}                                     0.01578947  9   \n",
      "[285] {Marcin_Bosak}                                     0.01578947  9   \n",
      "[286] {Magdalena_Popławska}                              0.02280702 13   \n",
      "[287] {Hiroaki_Murakami}                                 0.01228070  7   \n",
      "[288] {Wojciech_Żołądkowicz}                             0.01403509  8   \n",
      "[289] {Klara_Bielawka}                                   0.02105263 12   \n",
      "[290] {Paweł_Koślik}                                     0.01403509  8   \n",
      "[291] {Bartosz_Obuchowicz}                               0.01403509  8   \n",
      "[292] {Rafał_Gerlach}                                    0.01228070  7   \n",
      "[293] {Adam_Ferency}                                     0.01578947  9   \n",
      "[294] {Małgorzata_Klara}                                 0.01052632  6   \n",
      "[295] {Jacek_Król}                                       0.01578947  9   \n",
      "[296] {Marcin_Sztabiński}                                0.01403509  8   \n",
      "[297] {Rafał_Mohr}                                       0.01403509  8   \n",
      "[298] {Maria_Sobocińska}                                 0.01228070  7   \n",
      "[299] {Helena_Sujecka}                                   0.01578947  9   \n",
      "[300] {Cezary_Łukaszewicz}                               0.01929825 11   \n",
      "[301] {Sławomir_Sulej}                                   0.01754386 10   \n",
      "[302] {Mariusz_Jakus}                                    0.01578947  9   \n",
      "[303] {Aleksandra_Pisula}                                0.01052632  6   \n",
      "[304] {Leszek_Wiśniewski}                                0.01228070  7   \n",
      "[305] {Anna_Grzeszczak}                                  0.01228070  7   \n",
      "[306] {Andrzej_Popiel}                                   0.01052632  6   \n",
      "[307] {Agnieszka_Podsiadlik}                             0.02456140 14   \n",
      "[308] {Jerzy_Braszka}                                    0.01228070  7   \n",
      "[309] {Robert_Martyniak}                                 0.01052632  6   \n",
      "[310] {Jan_Peszek}                                       0.01228070  7   \n",
      "[311] {Robert_Gonera}                                    0.01578947  9   \n",
      "[312] {Leonardo_Lacaria}                                 0.01052632  6   \n",
      "[313] {Weronika_Książkiewicz}                            0.01403509  8   \n",
      "[314] {Ewa_Konstancja_Bułhak}                            0.01228070  7   \n",
      "[315] {Paweł_Królikowski}                                0.01929825 11   \n",
      "[316] {Michał_Meyer}                                     0.01403509  8   \n",
      "[317] {Maria_Dębska}                                     0.01578947  9   \n",
      "[318] {Jan_Nowicki}                                      0.01403509  8   \n",
      "[319] {Andrzej_Baranowski}                               0.01228070  7   \n",
      "[320] {Wojciech_Pszoniak}                                0.01403509  8   \n",
      "[321] {Karolina_Kominek}                                 0.01578947  9   \n",
      "[322] {Jowita_Budnik}                                    0.02456140 14   \n",
      "[323] {Aleksander_Mikołajczak}                           0.02280702 13   \n",
      "[324] {Sławomir_Mandes}                                  0.01403509  8   \n",
      "[325] {Tomasz_Leszczyński}                               0.01052632  6   \n",
      "[326] {Jakub_Mazurek}                                    0.01228070  7   \n",
      "[327] {Ewa_Kolasińska}                                   0.01578947  9   \n",
      "[328] {Patricia_Kazadi}                                  0.01052632  6   \n",
      "[329] {Grzegorz_Mikołajczyk}                             0.01052632  6   \n",
      "[330] {Agata_Buzek}                                      0.02280702 13   \n",
      "[331] {Jan_Dravnel}                                      0.01052632  6   \n",
      "[332] {Konrad_Bugaj}                                     0.01578947  9   \n",
      "[333] {Dorota_Piasecka}                                  0.01578947  9   \n",
      "[334] {Ewa_Dałkowska}                                    0.01403509  8   \n",
      "[335] {Wojciech_Czerwiński}                              0.01403509  8   \n",
      "[336] {Maciej_Konopiński}                                0.01228070  7   \n",
      "[337] {Andrzej_Zieliński}                                0.01403509  8   \n",
      "[338] {Jacek_Poniedziałek}                               0.01754386 10   \n",
      "[339] {Małgorzata_Buczkowska}                            0.01929825 11   \n",
      "[340] {Dawid_Ogrodnik}                                   0.02280702 13   \n",
      "[341] {Kamil_Toliński}                                   0.01052632  6   \n",
      "[342] {Anna_Grycewicz}                                   0.01228070  7   \n",
      "[343] {Remigiusz_Jankowski}                              0.01228070  7   \n",
      "[344] {Stanisława_Celińska}                              0.01403509  8   \n",
      "[345] {Elżbieta_Okupska}                                 0.01754386 10   \n",
      "[346] {Andrzej_Andrzejewski}                             0.01228070  7   \n",
      "[347] {Barbara_Garstka}                                  0.01403509  8   \n",
      "[348] {Magdalena_Lamparska}                              0.01403509  8   \n",
      "[349] {Magdalena_Biegańska}                              0.01052632  6   \n",
      "[350] {Jan_Wojtyński}                                    0.01052632  6   \n",
      "[351] {Marcin_Troński}                                   0.01228070  7   \n",
      "[352] {Jarosław_Boberek}                                 0.01578947  9   \n",
      "[353] {Andrzej_Seweryn}                                  0.01403509  8   \n",
      "[354] {Eliza_Rycembel}                                   0.01403509  8   \n",
      "[355] {Marcel_Wiercichowski}                             0.01228070  7   \n",
      "[356] {Przemysław_Witowski}                              0.01228070  7   \n",
      "[357] {Stanisław_Penksyk}                                0.01052632  6   \n",
      "[358] {Magdalena_Gnatowska}                              0.01228070  7   \n",
      "[359] {Marzena_Sobczak}                                  0.01228070  7   \n",
      "[360] {Joachim_Lamża}                                    0.01403509  8   \n",
      "[361] {Grzegorz_Warchoł}                                 0.01052632  6   \n",
      "[362] {Wiesław_Kupczak}                                  0.01052632  6   \n",
      "[363] {Andrzej_Szenajch}                                 0.01228070  7   \n",
      "[364] {Grzegorz_Milczarczyk}                             0.01052632  6   \n",
      "[365] {Piotr_Bondyra}                                    0.01052632  6   \n",
      "[366] {Joanna_Opozda}                                    0.01403509  8   \n",
      "[367] {Otar_Saralidze}                                   0.01052632  6   \n",
      "[368] {Jacek_Łuczak}                                     0.01403509  8   \n",
      "[369] {Karolina_Gorczyca}                                0.01403509  8   \n",
      "[370] {Maria_Maj}                                        0.01754386 10   \n",
      "[371] {Marieta_Żukowska}                                 0.01052632  6   \n",
      "[372] {Piotr_Bajor}                                      0.01228070  7   \n",
      "[373] {Dagmara_Bąk}                                      0.01052632  6   \n",
      "[374] {Marcin_Hycnar}                                    0.01228070  7   \n",
      "[375] {Michał_Kowalski}                                  0.01228070  7   \n",
      "[376] {Karolina_Gruszka}                                 0.01403509  8   \n",
      "[377] {Konrad_Marszałek}                                 0.01228070  7   \n",
      "[378] {Michał_Rolnicki}                                  0.01578947  9   \n",
      "[379] {Phillip_Goss}                                     0.01228070  7   \n",
      "[380] {Adam_Szyszkowski}                                 0.01578947  9   \n",
      "[381] {Stanisław_Marek_Łukasik}                          0.01052632  6   \n",
      "[382] {Tadeusz_Chudecki}                                 0.01228070  7   \n",
      "[383] {Katarzyna_Dąbrowska}                              0.01228070  7   \n",
      "[384] {Dominika_Kluźniak}                                0.01228070  7   \n",
      "[385] {Olaf_Lubaszenko}                                  0.01052632  6   \n",
      "[386] {Arkadiusz_Janiczek}                               0.01578947  9   \n",
      "[387] {Magdalena_Różczka}                                0.01403509  8   \n",
      "[388] {Sergiej_Kriuczkow}                                0.01228070  7   \n",
      "[389] {Klaudiusz_Kaufmann}                               0.01228070  7   \n",
      "[390] {Aleksandra_Hamkało}                               0.01403509  8   \n",
      "[391] {Dorota_Pomykała}                                  0.01929825 11   \n",
      "[392] {Paweł_Janyst}                                     0.01228070  7   \n",
      "[393] {Sławomir_Holland}                                 0.01052632  6   \n",
      "[394] {Michał_Żebrowski}                                 0.01228070  7   \n",
      "[395] {Jerzy_Matula}                                     0.01578947  9   \n",
      "[396] {Lesław_Żurek}                                     0.01403509  8   \n",
      "[397] {Anna_Moskal}                                      0.01052632  6   \n",
      "[398] {Joanna_Jarmołowicz}                               0.01052632  6   \n",
      "[399] {Edward_Linde_Lubaszenko}                          0.01228070  7   \n",
      "[400] {Violetta_Arlak}                                   0.01228070  7   \n",
      "[401] {Grzegorz_Ciągardlak}                              0.01228070  7   \n",
      "[402] {Krzysztof_Franieczek}                             0.01403509  8   \n",
      "[403] {Grzegorz_Mielczarek}                              0.01403509  8   \n",
      "[404] {Grzegorz_Wolf}                                    0.01052632  6   \n",
      "[405] {Agnieszka_Wagner}                                 0.01052632  6   \n",
      "[406] {Anna_Ilczuk}                                      0.01403509  8   \n",
      "[407] {Modest_Ruciński}                                  0.01228070  7   \n",
      "[408] {Piotr_Fronczewski}                                0.01228070  7   \n",
      "[409] {Agnieszka_Żulewska}                               0.02105263 12   \n",
      "[410] {Bartosz_Bielenia}                                 0.01052632  6   \n",
      "[411] {Katarzyna_Glinka}                                 0.01228070  7   \n",
      "[412] {Mateusz_Łasowski}                                 0.01052632  6   \n",
      "[413] {Adam_Cywka}                                       0.01228070  7   \n",
      "[414] {Anna_Romantowska}                                 0.01228070  7   \n",
      "[415] {Andrzej_Gałła}                                    0.01754386 10   \n",
      "[416] {Irena_Melcer}                                     0.01228070  7   \n",
      "[417] {Szymon_Piotr_Warszawski}                          0.01052632  6   \n",
      "[418] {Bogusław_Suszka}                                  0.01052632  6   \n",
      "[419] {Artur_Kaźmiruk}                                   0.01228070  7   \n",
      "[420] {Maja_Bohosiewicz}                                 0.01578947  9   \n",
      "[421] {Maciej_Nawrocki}                                  0.01578947  9   \n",
      "[422] {Maciej_Zakościelny}                               0.01052632  6   \n",
      "[423] {Jacek_Długosz}                                    0.01052632  6   \n",
      "[424] {Maja_Barełkowska}                                 0.01052632  6   \n",
      "[425] {Bernadetta_Komiago}                               0.01052632  6   \n",
      "[426] {Mateusz_Rusin}                                    0.01578947  9   \n",
      "[427] {Aleksandar_Milićević}                             0.01052632  6   \n",
      "[428] {Robert_Ostolski}                                  0.01403509  8   \n",
      "[429] {Adam_Bobik}                                       0.01228070  7   \n",
      "[430] {Marcin_Korcz}                                     0.01052632  6   \n",
      "[431] {Przemysław_Cypryański}                            0.01228070  7   \n",
      "[432] {Piotr_Pamuła}                                     0.01052632  6   \n",
      "[433] {Rafał_Szałajko}                                   0.01403509  8   \n",
      "[434] {Paweł_Ciołkosz}                                   0.01052632  6   \n",
      "[435] {Konrad_Eleryk}                                    0.01228070  7   \n",
      "[436] {Beata_Schimscheiner}                              0.01052632  6   \n",
      "[437] {Wenanty_Nosul}                                    0.01403509  8   \n",
      "[438] {Zofia_Wichłacz}                                   0.01052632  6   \n",
      "[439] {Aleksandra_Górska}                                0.01403509  8   \n",
      "[440] {David_L._Price}                                   0.01228070  7   \n",
      "[441] {Krystyna_Rutkowska_Ulewicz}                       0.01228070  7   \n",
      "[442] {Helena_Norowicz}                                  0.01403509  8   \n",
      "[443] {Igor_Obłoza}                                      0.01052632  6   \n",
      "[444] {Jędrzej_Taranek}                                  0.01228070  7   \n",
      "[445] {Sebastian_Łach}                                   0.01403509  8   \n",
      "[446] {Andrzej_Franczyk}                                 0.01052632  6   \n",
      "[447] {Robert_Czebotar}                                  0.01228070  7   \n",
      "[448] {Maciej_Makowski}                                  0.01052632  6   \n",
      "[449] {Jan_Jurewicz}                                     0.01052632  6   \n",
      "[450] {Kamil_Kula}                                       0.01228070  7   \n",
      "[451] {Krzysztof_Bochenek}                               0.01403509  8   \n",
      "[452] {Maria_Gładkowska}                                 0.01052632  6   \n",
      "[453] {Bartosz_Żukowski}                                 0.01052632  6   \n",
      "[454] {Marcin_Tyrol}                                     0.01403509  8   \n",
      "[455] {Michał_Jarmicki}                                  0.01228070  7   \n",
      "[456] {Katarzyna_Zawadzka}                               0.01578947  9   \n",
      "[457] {Łukasz_Garlicki}                                  0.01052632  6   \n",
      "[458] {Krystyna_Czubówna}                                0.01228070  7   \n",
      "[459] {Sasza_Reznikow}                                   0.01052632  6   \n",
      "[460] {Czesław_Mozil}                                    0.01052632  6   \n",
      "[461] {Krzysztof_Pieczyński}                             0.01228070  7   \n",
      "[462] {Paweł_Okraska}                                    0.01052632  6   \n",
      "[463] {Karolina_Porcari}                                 0.01228070  7   \n",
      "[464] {Marta_Mazurek}                                    0.01052632  6   \n",
      "[465] {Ewa_Błaszczyk}                                    0.01052632  6   \n",
      "[466] {Krzysztof_Skonieczny}                             0.01403509  8   \n",
      "[467] {Kinga_Ciesielska}                                 0.01228070  7   \n",
      "[468] {Barbara_Wypych}                                   0.01228070  7   \n",
      "[469] {Ryszard_Chlebuś}                                  0.01052632  6   \n",
      "[470] {Hanna_Konarowska}                                 0.01052632  6   \n",
      "[471] {Anna_Janik}                                       0.01052632  6   \n",
      "[472] {Monika_Pikuła}                                    0.01052632  6   \n",
      "[473] {Edyta_Olszówka}                                   0.01228070  7   \n",
      "[474] {Michał_Koterski}                                  0.01578947  9   \n",
      "[475] {Milena_Lisiecka}                                  0.01403509  8   \n",
      "[476] {Rafał_Fudalej}                                    0.01578947  9   \n",
      "[477] {Anna_Radwan}                                      0.01228070  7   \n",
      "[478] {Dariusz_Jakubowski}                               0.01052632  6   \n",
      "[479] {Alina_Chechelska}                                 0.01228070  7   \n",
      "[480] {Maciej_Wilewski}                                  0.01052632  6   \n",
      "[481] {Zbigniew_Paterak}                                 0.01052632  6   \n",
      "[482] {Julia_Wróblewska}                                 0.01052632  6   \n",
      "[483] {Waldemar_Czyszak}                                 0.01052632  6   \n",
      "[484] {Maciej_Słota}                                     0.01052632  6   \n",
      "[485] {Agnieszka_Michalska}                              0.01403509  8   \n",
      "[486] {Barbara_Kurdej_Szatan}                            0.01052632  6   \n",
      "[487] {Natalia_Rybicka}                                  0.01228070  7   \n",
      "[488] {Michał_Milowicz}                                  0.01052632  6   \n",
      "[489] {Bogdan_Koca}                                      0.01228070  7   \n",
      "[490] {Mateusz_Banasiuk}                                 0.01052632  6   \n",
      "[491] {Grażyna_Błęcka_Kolska}                            0.01228070  7   \n",
      "[492] {Adam_Hutyra}                                      0.01052632  6   \n",
      "[493] {Małgorzata_Socha}                                 0.01052632  6   \n",
      "[494] {Philip_Lenkowsky}                                 0.01052632  6   \n",
      "[495] {Mikołaj_Chroboczek}                               0.01403509  8   \n",
      "[496] {Karolina_Piechota}                                0.01052632  6   \n",
      "[497] {Anna_Maria_Buczek}                                0.01052632  6   \n",
      "[498] {Weronika_Rosati}                                  0.01228070  7   \n",
      "[499] {Przemysław_Sadowski}                              0.01052632  6   \n",
      "[500] {Tomasz_Schimscheiner}                             0.01403509  8   \n",
      "[501] {Marcin_Zarzeczny}                                 0.01228070  7   \n",
      "[502] {Witold_Dębicki}                                   0.01052632  6   \n",
      "[503] {Aleksandra_Konieczna}                             0.01403509  8   \n",
      "[504] {Damian_Ul}                                        0.01052632  6   \n",
      "[505] {Anita_Jancia}                                     0.01052632  6   \n",
      "[506] {Krystyna_Tkacz}                                   0.01228070  7   \n",
      "[507] {Piotr_Trojan}                                     0.01228070  7   \n",
      "[508] {Aleksandra_Justa}                                 0.01052632  6   \n",
      "[509] {Wojciech_Skibiński}                               0.01052632  6   \n",
      "[510] {Bartosz_Gelner}                                   0.01228070  7   \n",
      "[511] {Jan_Wieczorkowski}                                0.01228070  7   \n",
      "[512] {Joanna_Orleańska}                                 0.01052632  6   \n",
      "[513] {Magdalena_Kacprzak}                               0.01052632  6   \n",
      "[514] {Paulina_Chapko}                                   0.01228070  7   \n",
      "[515] {Joanna_Sydor}                                     0.01052632  6   \n",
      "[516] {Dominik_Bąk}                                      0.01052632  6   \n",
      "[517] {Piotr_Polak}                                      0.01052632  6   \n",
      "[518] {Nam_Bui_Ngoc}                                     0.01403509  8   \n",
      "[519] {Marta_Nieradkiewicz}                              0.01403509  8   \n",
      "[520] {Rafał_Maćkowiak}                                  0.01403509  8   \n",
      "[521] {Marta_Dobecka}                                    0.01052632  6   \n",
      "[522] {Maciej_Ferlak}                                    0.01052632  6   \n",
      "[523] {Izabela_Noszczyk}                                 0.01052632  6   \n",
      "[524] {Aleksandra_Bednarz}                               0.01052632  6   \n",
      "[525] {Grzegorz_Kowalczyk}                               0.01052632  6   \n",
      "[526] {Małgorzata_Sadowska}                              0.01052632  6   \n",
      "[527] {Agnieszka_Mandat}                                 0.01052632  6   \n",
      "[528] {Małgorzata_Rożniatowska}                          0.01052632  6   \n",
      "[529] {Katarzyna_Maciąg}                                 0.01228070  7   \n",
      "[530] {Małgorzata_Zajączkowska}                          0.01228070  7   \n",
      "[531] {Henryk_Niebudek}                                  0.01052632  6   \n",
      "[532] {Marcel_Borowiec}                                  0.01052632  6   \n",
      "[533] {Ksawery_Szlenkier}                                0.01052632  6   \n",
      "[534] {Urszula_Grabowska}                                0.01052632  6   \n",
      "[535] {Tomasz_Zaród}                                     0.01052632  6   \n",
      "[536] {Anna_Prus}                                        0.01052632  6   \n",
      "[537] {Ewa_Szykulska}                                    0.01228070  7   \n",
      "[538] {Maria_Mamona}                                     0.01228070  7   \n",
      "[539] {Maria_Dejmek}                                     0.01052632  6   \n",
      "[540] {Malwina_Buss}                                     0.01228070  7   \n",
      "[541] {Jan_Rotowski}                                     0.01052632  6   \n",
      "[542] {Jerzy_Łapiński}                                   0.01228070  7   \n",
      "[543] {Anna_Modrzejewska}                                0.01052632  6   \n",
      "[544] {Krystyna_Janda}                                   0.01052632  6   \n",
      "[545] {Artur_Steranko}                                   0.01228070  7   \n",
      "[546] {Maciej_Musiał}                                    0.01403509  8   \n",
      "[547] {Marcin_Kowalczyk}                                 0.01052632  6   \n",
      "[548] {Piotr_Machalica}                                  0.01052632  6   \n",
      "[549] {Rafał_Garnecki}                                   0.01052632  6   \n",
      "[550] {Tomasz_Tyndyk}                                    0.01052632  6   \n"
     ]
    }
   ],
   "source": [
    "freq.items <- eclat(df, parameter=list(supp=0.01))\n",
    "inspect(freq.itemsets)"
   ]
  },
  {
   "cell_type": "code",
   "execution_count": 71,
   "metadata": {
    "ExecuteTime": {
     "end_time": "2019-12-26T18:21:48.348880Z",
     "start_time": "2019-12-26T18:21:48.210Z"
    }
   },
   "outputs": [
    {
     "name": "stdout",
     "output_type": "stream",
     "text": [
      "    lhs                                  rhs                  support   \n",
      "[1] {Filip_Guźla}                     => {Tomasz_Oświeciński} 0.01052632\n",
      "[2] {Agata_Kulesza,Marcin_Dorociński} => {Marian_Dziędziel}   0.01052632\n",
      "    confidence lift     itemset\n",
      "[1] 0.8571429  32.57143 11     \n",
      "[2] 1.0000000  17.27273 16     \n"
     ]
    }
   ],
   "source": [
    "freq.rules<-ruleInduction(freq.items, df, confidence=0.85)\n",
    "inspect(head(freq.rules))"
   ]
  },
  {
   "cell_type": "code",
   "execution_count": 24,
   "metadata": {
    "ExecuteTime": {
     "end_time": "2019-12-26T21:57:13.993938Z",
     "start_time": "2019-12-26T21:57:13.943Z"
    }
   },
   "outputs": [
    {
     "name": "stdout",
     "output_type": "stream",
     "text": [
      "Apriori\n",
      "\n",
      "Parameter specification:\n",
      " confidence minval smax arem  aval originalSupport maxtime support minlen\n",
      "        0.2    0.1    1 none FALSE            TRUE       5    0.01      1\n",
      " maxlen target   ext\n",
      "     10  rules FALSE\n",
      "\n",
      "Algorithmic control:\n",
      " filter tree heap memopt load sort verbose\n",
      "    0.1 TRUE TRUE  FALSE TRUE    2    TRUE\n",
      "\n",
      "Absolute minimum support count: 5 \n",
      "\n",
      "set item appearances ...[0 item(s)] done [0.00s].\n",
      "set transactions ...[11659 item(s), 570 transaction(s)] done [0.01s].\n",
      "sorting and recoding items ... [495 item(s)] done [0.00s].\n",
      "creating transaction tree ... done [0.00s].\n",
      "checking subsets of size 1 2 3 done [0.00s].\n",
      "writing ... [80 rule(s)] done [0.00s].\n",
      "creating S4 object  ... done [0.00s].\n"
     ]
    }
   ],
   "source": [
    "rules <- apriori(df, \n",
    "    parameter = list(support = 0.01, confidence = 0.2))"
   ]
  },
  {
   "cell_type": "code",
   "execution_count": 25,
   "metadata": {
    "ExecuteTime": {
     "end_time": "2019-12-26T21:57:14.154112Z",
     "start_time": "2019-12-26T21:57:14.125Z"
    }
   },
   "outputs": [
    {
     "data": {
      "text/plain": [
       "set of 80 rules\n",
       "\n",
       "rule length distribution (lhs + rhs):sizes\n",
       " 2  3 \n",
       "77  3 \n",
       "\n",
       "   Min. 1st Qu.  Median    Mean 3rd Qu.    Max. \n",
       "  2.000   2.000   2.000   2.038   2.000   3.000 \n",
       "\n",
       "summary of quality measures:\n",
       "    support          confidence          lift            count    \n",
       " Min.   :0.01053   Min.   :0.2069   Min.   : 2.714   Min.   :6.0  \n",
       " 1st Qu.:0.01053   1st Qu.:0.2500   1st Qu.: 5.668   1st Qu.:6.0  \n",
       " Median :0.01053   Median :0.3182   Median : 6.483   Median :6.0  \n",
       " Mean   :0.01123   Mean   :0.3680   Mean   : 9.079   Mean   :6.4  \n",
       " 3rd Qu.:0.01228   3rd Qu.:0.4286   3rd Qu.: 9.764   3rd Qu.:7.0  \n",
       " Max.   :0.01404   Max.   :1.0000   Max.   :32.571   Max.   :8.0  \n",
       "\n",
       "mining info:\n",
       " data ntransactions support confidence\n",
       "   df           570    0.01        0.2"
      ]
     },
     "metadata": {},
     "output_type": "display_data"
    }
   ],
   "source": [
    "summary(rules)"
   ]
  },
  {
   "cell_type": "code",
   "execution_count": 26,
   "metadata": {
    "ExecuteTime": {
     "end_time": "2019-12-26T21:57:14.511099Z",
     "start_time": "2019-12-26T21:57:14.461Z"
    }
   },
   "outputs": [
    {
     "name": "stdout",
     "output_type": "stream",
     "text": [
      "    lhs                                     rhs                  support   \n",
      "[1] {Agata_Kulesza,Marcin_Dorociński}    => {Marian_Dziędziel}   0.01052632\n",
      "[2] {Filip_Guźla}                        => {Tomasz_Oświeciński} 0.01052632\n",
      "[3] {Wojciech_Kalinowski}                => {Tomasz_Oświeciński} 0.01052632\n",
      "[4] {Wojciech_Machnicki}                 => {Janusz_Chabior}     0.01052632\n",
      "[5] {Marcin_Dorociński,Marian_Dziędziel} => {Agata_Kulesza}      0.01052632\n",
      "    confidence lift     count\n",
      "[1] 1.0000000  17.27273 6    \n",
      "[2] 0.8571429  32.57143 6    \n",
      "[3] 0.7500000  28.50000 6    \n",
      "[4] 0.7500000   9.50000 6    \n",
      "[5] 0.7500000  19.43182 6    \n"
     ]
    }
   ],
   "source": [
    "inspect(head(sort(rules, by =\"confidence\"),5))"
   ]
  },
  {
   "cell_type": "code",
   "execution_count": 27,
   "metadata": {
    "ExecuteTime": {
     "end_time": "2019-12-26T21:57:14.901993Z",
     "start_time": "2019-12-26T21:57:14.849Z"
    }
   },
   "outputs": [
    {
     "name": "stdout",
     "output_type": "stream",
     "text": [
      "    lhs                                 rhs                   support   \n",
      "[1] {Filip_Guźla}                    => {Tomasz_Oświeciński}  0.01052632\n",
      "[2] {Tomasz_Oświeciński}             => {Filip_Guźla}         0.01052632\n",
      "[3] {Wojciech_Kalinowski}            => {Tomasz_Oświeciński}  0.01052632\n",
      "[4] {Tomasz_Oświeciński}             => {Wojciech_Kalinowski} 0.01052632\n",
      "[5] {Agata_Kulesza,Marian_Dziędziel} => {Marcin_Dorociński}   0.01052632\n",
      "    confidence lift     count\n",
      "[1] 0.8571429  32.57143 6    \n",
      "[2] 0.4000000  32.57143 6    \n",
      "[3] 0.7500000  28.50000 6    \n",
      "[4] 0.4000000  28.50000 6    \n",
      "[5] 0.7500000  21.37500 6    \n"
     ]
    }
   ],
   "source": [
    "inspect(head(sort(rules, by =\"lift\"),5))"
   ]
  },
  {
   "cell_type": "code",
   "execution_count": 28,
   "metadata": {
    "ExecuteTime": {
     "end_time": "2019-12-26T21:57:15.367078Z",
     "start_time": "2019-12-26T21:57:15.321Z"
    }
   },
   "outputs": [
    {
     "name": "stdout",
     "output_type": "stream",
     "text": [
      "    lhs                    rhs                 support    confidence lift    \n",
      "[1] {Marcin_Dorociński} => {Marian_Dziędziel}  0.01403509 0.4000000  6.909091\n",
      "[2] {Marian_Dziędziel}  => {Marcin_Dorociński} 0.01403509 0.2424242  6.909091\n",
      "[3] {Agata_Kulesza}     => {Marian_Dziędziel}  0.01403509 0.3636364  6.280992\n",
      "[4] {Marian_Dziędziel}  => {Agata_Kulesza}     0.01403509 0.2424242  6.280992\n",
      "[5] {Eryk_Lubos}        => {Janusz_Chabior}    0.01403509 0.3200000  4.053333\n",
      "    count\n",
      "[1] 8    \n",
      "[2] 8    \n",
      "[3] 8    \n",
      "[4] 8    \n",
      "[5] 8    \n"
     ]
    }
   ],
   "source": [
    "inspect(head(sort(rules, by =\"support\"),5))"
   ]
  },
  {
   "cell_type": "code",
   "execution_count": 29,
   "metadata": {
    "ExecuteTime": {
     "end_time": "2019-12-26T21:57:16.372476Z",
     "start_time": "2019-12-26T21:57:16.322Z"
    }
   },
   "outputs": [
    {
     "name": "stdout",
     "output_type": "stream",
     "text": [
      "    lhs                    rhs                 support    confidence lift    \n",
      "[1] {Marcin_Dorociński} => {Marian_Dziędziel}  0.01403509 0.4000000  6.909091\n",
      "[2] {Marian_Dziędziel}  => {Marcin_Dorociński} 0.01403509 0.2424242  6.909091\n",
      "[3] {Agata_Kulesza}     => {Marian_Dziędziel}  0.01403509 0.3636364  6.280992\n",
      "[4] {Marian_Dziędziel}  => {Agata_Kulesza}     0.01403509 0.2424242  6.280992\n",
      "[5] {Eryk_Lubos}        => {Janusz_Chabior}    0.01403509 0.3200000  4.053333\n",
      "    count\n",
      "[1] 8    \n",
      "[2] 8    \n",
      "[3] 8    \n",
      "[4] 8    \n",
      "[5] 8    \n"
     ]
    }
   ],
   "source": [
    "inspect(head(sort(rules, by =\"count\"),5))"
   ]
  },
  {
   "cell_type": "code",
   "execution_count": 30,
   "metadata": {
    "ExecuteTime": {
     "end_time": "2019-12-26T21:57:17.107923Z",
     "start_time": "2019-12-26T21:57:17.006Z"
    }
   },
   "outputs": [
    {
     "name": "stderr",
     "output_type": "stream",
     "text": [
      "Warning message in plot.rules(rules, measure = c(\"support\", \"confidence\"), shading = \"lift\", :\n",
      "\"The parameter interactive is deprecated. Use engine='interactive' instead.\"To reduce overplotting, jitter is added! Use jitter = 0 to prevent jitter.\n"
     ]
    },
    {
     "data": {
      "image/png": "[encoded data removed]",
      "text/plain": [
       "plot without title"
      ]
     },
     "metadata": {},
     "output_type": "display_data"
    }
   ],
   "source": [
    "plot(rules, measure=c(\"support\", \"confidence\"), shading=\"lift\", interactive=FALSE)"
   ]
  },
  {
   "cell_type": "code",
   "execution_count": 110,
   "metadata": {
    "ExecuteTime": {
     "end_time": "2019-12-26T18:43:11.687864Z",
     "start_time": "2019-12-26T18:43:11.667Z"
    }
   },
   "outputs": [
    {
     "data": {
      "text/html": [
       "0.0105263157894737"
      ],
      "text/latex": [
       "0.0105263157894737"
      ],
      "text/markdown": [
       "0.0105263157894737"
      ],
      "text/plain": [
       "[1] 0.01052632"
      ]
     },
     "metadata": {},
     "output_type": "display_data"
    }
   ],
   "source": [
    "6/570"
   ]
  },
  {
   "cell_type": "code",
   "execution_count": 111,
   "metadata": {
    "ExecuteTime": {
     "end_time": "2019-12-26T18:43:22.132757Z",
     "start_time": "2019-12-26T18:43:22.111Z"
    }
   },
   "outputs": [
    {
     "data": {
      "text/html": [
       "0.012280701754386"
      ],
      "text/latex": [
       "0.012280701754386"
      ],
      "text/markdown": [
       "0.012280701754386"
      ],
      "text/plain": [
       "[1] 0.0122807"
      ]
     },
     "metadata": {},
     "output_type": "display_data"
    }
   ],
   "source": [
    "7/570"
   ]
  },
  {
   "cell_type": "code",
   "execution_count": 113,
   "metadata": {
    "ExecuteTime": {
     "end_time": "2019-12-26T18:45:53.291854Z",
     "start_time": "2019-12-26T18:45:53.244Z"
    }
   },
   "outputs": [
    {
     "name": "stdout",
     "output_type": "stream",
     "text": [
      "Apriori\n",
      "\n",
      "Parameter specification:\n",
      " confidence minval smax arem  aval originalSupport maxtime support minlen\n",
      "        0.5    0.1    1 none FALSE            TRUE       5    0.01      1\n",
      " maxlen target   ext\n",
      "     10  rules FALSE\n",
      "\n",
      "Algorithmic control:\n",
      " filter tree heap memopt load sort verbose\n",
      "    0.1 TRUE TRUE  FALSE TRUE    2    TRUE\n",
      "\n",
      "Absolute minimum support count: 5 \n",
      "\n",
      "set item appearances ...[0 item(s)] done [0.00s].\n",
      "set transactions ...[11659 item(s), 570 transaction(s)] done [0.01s].\n",
      "sorting and recoding items ... [495 item(s)] done [0.00s].\n",
      "creating transaction tree ... done [0.00s].\n",
      "checking subsets of size 1 2 3 done [0.00s].\n",
      "writing ... [11 rule(s)] done [0.00s].\n",
      "creating S4 object  ... done [0.00s].\n"
     ]
    }
   ],
   "source": [
    "rules1 <- apriori(df, \n",
    "    parameter = list(support = 0.01, confidence = 0.5))"
   ]
  },
  {
   "cell_type": "code",
   "execution_count": 114,
   "metadata": {
    "ExecuteTime": {
     "end_time": "2019-12-26T18:45:58.065469Z",
     "start_time": "2019-12-26T18:45:57.651Z"
    }
   },
   "outputs": [
    {
     "data": {
      "image/png": "[encoded data removed]",
      "text/plain": [
       "Plot with title \"Graph for 11 rules\""
      ]
     },
     "metadata": {},
     "output_type": "display_data"
    }
   ],
   "source": [
    "plot(rules1, method=\"graph\")"
   ]
  },
  {
   "cell_type": "code",
   "execution_count": 129,
   "metadata": {
    "ExecuteTime": {
     "end_time": "2019-12-26T21:08:25.634771Z",
     "start_time": "2019-12-26T21:08:25.027Z"
    }
   },
   "outputs": [
    {
     "name": "stdout",
     "output_type": "stream",
     "text": [
      "Apriori\n",
      "\n",
      "Parameter specification:\n",
      " confidence minval smax arem  aval originalSupport maxtime support minlen\n",
      "       0.01    0.1    1 none FALSE            TRUE       5    0.01      1\n",
      " maxlen target   ext\n",
      "     10  rules FALSE\n",
      "\n",
      "Algorithmic control:\n",
      " filter tree heap memopt load sort verbose\n",
      "    0.1 TRUE TRUE  FALSE TRUE    2    TRUE\n",
      "\n",
      "Absolute minimum support count: 5 \n",
      "\n",
      "set item appearances ...[0 item(s)] done [0.00s].\n",
      "set transactions ...[11659 item(s), 570 transaction(s)] done [0.01s].\n",
      "sorting and recoding items ... [495 item(s)] done [0.00s].\n",
      "creating transaction tree ... done [0.00s].\n",
      "checking subsets of size 1 2 3 done [0.00s].\n",
      "writing ... [606 rule(s)] done [0.00s].\n",
      "creating S4 object  ... done [0.00s].\n"
     ]
    },
    {
     "data": {
      "text/plain": [
       "set of 8 rules\n",
       "\n",
       "rule length distribution (lhs + rhs):sizes\n",
       "1 2 \n",
       "1 7 \n",
       "\n",
       "   Min. 1st Qu.  Median    Mean 3rd Qu.    Max. \n",
       "  1.000   2.000   2.000   1.875   2.000   2.000 \n",
       "\n",
       "summary of quality measures:\n",
       "    support          confidence           lift           count      \n",
       " Min.   :0.01053   Min.   :0.07895   Min.   :1.000   Min.   : 6.00  \n",
       " 1st Qu.:0.01053   1st Qu.:0.19730   1st Qu.:2.499   1st Qu.: 6.00  \n",
       " Median :0.01053   Median :0.28903   Median :3.661   Median : 6.00  \n",
       " Mean   :0.01996   Mean   :0.32453   Mean   :4.111   Mean   :11.38  \n",
       " 3rd Qu.:0.01404   3rd Qu.:0.40714   3rd Qu.:5.157   3rd Qu.: 8.00  \n",
       " Max.   :0.07895   Max.   :0.75000   Max.   :9.500   Max.   :45.00  \n",
       "\n",
       "mining info:\n",
       " data ntransactions support confidence\n",
       "   df           570    0.01       0.01"
      ]
     },
     "metadata": {},
     "output_type": "display_data"
    },
    {
     "name": "stdout",
     "output_type": "stream",
     "text": [
      "    lhs                     rhs              support    confidence lift    \n",
      "[1] {Wojciech_Machnicki} => {Janusz_Chabior} 0.01052632 0.75000000 9.500000\n",
      "[2] {Rafał_Iwaniuk}      => {Janusz_Chabior} 0.01052632 0.42857143 5.428571\n",
      "[3] {Tomasz_Oświeciński} => {Janusz_Chabior} 0.01052632 0.40000000 5.066667\n",
      "[4] {Eryk_Lubos}         => {Janusz_Chabior} 0.01403509 0.32000000 4.053333\n",
      "[5] {Adam_Woronowicz}    => {Janusz_Chabior} 0.01403509 0.25806452 3.268817\n",
      "[6] {Andrzej_Grabowski}  => {Janusz_Chabior} 0.01052632 0.21428571 2.714286\n",
      "[7] {Piotr_Głowacki}     => {Janusz_Chabior} 0.01052632 0.14634146 1.853659\n",
      "[8] {}                   => {Janusz_Chabior} 0.07894737 0.07894737 1.000000\n",
      "    count\n",
      "[1]  6   \n",
      "[2]  6   \n",
      "[3]  6   \n",
      "[4]  8   \n",
      "[5]  8   \n",
      "[6]  6   \n",
      "[7]  6   \n",
      "[8] 45   \n"
     ]
    }
   ],
   "source": [
    "rules <- apriori(df, \n",
    "    parameter = list(support = 0.01, confidence = 0.01))\n",
    "\n",
    "chabior.rules <- sort(subset(rules, subset = rhs %in% \"Janusz_Chabior\"), \n",
    "                   by = \"confidence\")\n",
    "\n",
    "summary(chabior.rules)\n",
    "inspect(chabior.rules)"
   ]
  },
  {
   "cell_type": "code",
   "execution_count": 130,
   "metadata": {
    "ExecuteTime": {
     "end_time": "2019-12-26T21:10:17.046288Z",
     "start_time": "2019-12-26T21:10:16.940Z"
    }
   },
   "outputs": [
    {
     "name": "stdout",
     "output_type": "stream",
     "text": [
      "Apriori\n",
      "\n",
      "Parameter specification:\n",
      " confidence minval smax arem  aval originalSupport maxtime support minlen\n",
      "       0.01    0.1    1 none FALSE            TRUE       5    0.01      1\n",
      " maxlen target   ext\n",
      "     10  rules FALSE\n",
      "\n",
      "Algorithmic control:\n",
      " filter tree heap memopt load sort verbose\n",
      "    0.1 TRUE TRUE  FALSE TRUE    2    TRUE\n",
      "\n",
      "Absolute minimum support count: 5 \n",
      "\n",
      "set item appearances ...[0 item(s)] done [0.00s].\n",
      "set transactions ...[11659 item(s), 570 transaction(s)] done [0.01s].\n",
      "sorting and recoding items ... [495 item(s)] done [0.00s].\n",
      "creating transaction tree ... done [0.00s].\n",
      "checking subsets of size 1 2 3 done [0.00s].\n",
      "writing ... [606 rule(s)] done [0.00s].\n",
      "creating S4 object  ... done [0.00s].\n"
     ]
    },
    {
     "data": {
      "text/plain": [
       "set of 13 rules\n",
       "\n",
       "rule length distribution (lhs + rhs):sizes\n",
       " 1  2 \n",
       " 1 12 \n",
       "\n",
       "   Min. 1st Qu.  Median    Mean 3rd Qu.    Max. \n",
       "  1.000   2.000   2.000   1.923   2.000   2.000 \n",
       "\n",
       "summary of quality measures:\n",
       "    support          confidence           lift           count   \n",
       " Min.   :0.01053   Min.   :0.07193   Min.   :1.000   Min.   : 6  \n",
       " 1st Qu.:0.01053   1st Qu.:0.28571   1st Qu.:3.972   1st Qu.: 6  \n",
       " Median :0.01053   Median :0.33333   Median :4.634   Median : 6  \n",
       " Mean   :0.01579   Mean   :0.34396   Mean   :4.782   Mean   : 9  \n",
       " 3rd Qu.:0.01228   3rd Qu.:0.42857   3rd Qu.:5.958   3rd Qu.: 7  \n",
       " Max.   :0.07193   Max.   :0.66667   Max.   :9.268   Max.   :41  \n",
       "\n",
       "mining info:\n",
       " data ntransactions support confidence\n",
       "   df           570    0.01       0.01"
      ]
     },
     "metadata": {},
     "output_type": "display_data"
    },
    {
     "name": "stdout",
     "output_type": "stream",
     "text": [
      "     lhs                        rhs              support    confidence lift    \n",
      "[1]  {Andrzej_Deskur}        => {Piotr_Głowacki} 0.01052632 0.66666667 9.268293\n",
      "[2]  {Zbigniew_Konopka}      => {Piotr_Głowacki} 0.01228070 0.46666667 6.487805\n",
      "[3]  {Rafał_Iwaniuk}         => {Piotr_Głowacki} 0.01052632 0.42857143 5.958188\n",
      "[4]  {Krzysztof_Dracz}       => {Piotr_Głowacki} 0.01052632 0.42857143 5.958188\n",
      "[5]  {Marek_Kossakowski}     => {Piotr_Głowacki} 0.01052632 0.42857143 5.958188\n",
      "[6]  {Sebastian_Stankiewicz} => {Piotr_Głowacki} 0.01228070 0.33333333 4.634146\n",
      "[7]  {Roma_Gąsiorowska}      => {Piotr_Głowacki} 0.01228070 0.33333333 4.634146\n",
      "[8]  {Sonia_Bohosiewicz}     => {Piotr_Głowacki} 0.01228070 0.31818182 4.423503\n",
      "[9]  {Artur_Krajewski}       => {Piotr_Głowacki} 0.01052632 0.31578947 4.390244\n",
      "[10] {Krzysztof_Czeczot}     => {Piotr_Głowacki} 0.01052632 0.28571429 3.972125\n",
      "[11] {Maciej_Stuhr}          => {Piotr_Głowacki} 0.01052632 0.26086957 3.626723\n",
      "[12] {Janusz_Chabior}        => {Piotr_Głowacki} 0.01052632 0.13333333 1.853659\n",
      "[13] {}                      => {Piotr_Głowacki} 0.07192982 0.07192982 1.000000\n",
      "     count\n",
      "[1]   6   \n",
      "[2]   7   \n",
      "[3]   6   \n",
      "[4]   6   \n",
      "[5]   6   \n",
      "[6]   7   \n",
      "[7]   7   \n",
      "[8]   7   \n",
      "[9]   6   \n",
      "[10]  6   \n",
      "[11]  6   \n",
      "[12]  6   \n",
      "[13] 41   \n"
     ]
    }
   ],
   "source": [
    "rules <- apriori(df, \n",
    "    parameter = list(support = 0.01, confidence = 0.01))\n",
    "\n",
    "chabior.rules <- sort(subset(rules, subset = rhs %in% \"Piotr_Głowacki\"), \n",
    "                   by = \"confidence\")\n",
    "\n",
    "summary(chabior.rules)\n",
    "inspect(chabior.rules)"
   ]
  },
  {
   "cell_type": "code",
   "execution_count": 131,
   "metadata": {
    "ExecuteTime": {
     "end_time": "2019-12-26T21:10:46.153601Z",
     "start_time": "2019-12-26T21:10:46.055Z"
    }
   },
   "outputs": [
    {
     "name": "stdout",
     "output_type": "stream",
     "text": [
      "Apriori\n",
      "\n",
      "Parameter specification:\n",
      " confidence minval smax arem  aval originalSupport maxtime support minlen\n",
      "       0.01    0.1    1 none FALSE            TRUE       5    0.01      1\n",
      " maxlen target   ext\n",
      "     10  rules FALSE\n",
      "\n",
      "Algorithmic control:\n",
      " filter tree heap memopt load sort verbose\n",
      "    0.1 TRUE TRUE  FALSE TRUE    2    TRUE\n",
      "\n",
      "Absolute minimum support count: 5 \n",
      "\n",
      "set item appearances ...[0 item(s)] done [0.00s].\n",
      "set transactions ...[11659 item(s), 570 transaction(s)] done [0.01s].\n",
      "sorting and recoding items ... [495 item(s)] done [0.00s].\n",
      "creating transaction tree ... done [0.00s].\n",
      "checking subsets of size 1 2 3 done [0.00s].\n",
      "writing ... [606 rule(s)] done [0.00s].\n",
      "creating S4 object  ... done [0.00s].\n"
     ]
    },
    {
     "data": {
      "text/plain": [
       "set of 7 rules\n",
       "\n",
       "rule length distribution (lhs + rhs):sizes\n",
       "1 2 3 \n",
       "1 5 1 \n",
       "\n",
       "   Min. 1st Qu.  Median    Mean 3rd Qu.    Max. \n",
       "      1       2       2       2       2       3 \n",
       "\n",
       "summary of quality measures:\n",
       "    support          confidence          lift            count       \n",
       " Min.   :0.01053   Min.   :0.0386   Min.   : 1.000   Min.   : 6.000  \n",
       " 1st Qu.:0.01053   1st Qu.:0.2168   1st Qu.: 5.616   1st Qu.: 6.000  \n",
       " Median :0.01053   Median :0.2424   Median : 6.281   Median : 6.000  \n",
       " Mean   :0.01529   Mean   :0.3235   Mean   : 8.382   Mean   : 8.714  \n",
       " 3rd Qu.:0.01316   3rd Qu.:0.4000   3rd Qu.:10.364   3rd Qu.: 7.500  \n",
       " Max.   :0.03860   Max.   :0.7500   Max.   :19.432   Max.   :22.000  \n",
       "\n",
       "mining info:\n",
       " data ntransactions support confidence\n",
       "   df           570    0.01       0.01"
      ]
     },
     "metadata": {},
     "output_type": "display_data"
    },
    {
     "name": "stdout",
     "output_type": "stream",
     "text": [
      "    lhs                                     rhs             support   \n",
      "[1] {Marcin_Dorociński,Marian_Dziędziel} => {Agata_Kulesza} 0.01052632\n",
      "[2] {Roman_Gancarczyk}                   => {Agata_Kulesza} 0.01228070\n",
      "[3] {Marcin_Dorociński}                  => {Agata_Kulesza} 0.01052632\n",
      "[4] {Marian_Dziędziel}                   => {Agata_Kulesza} 0.01403509\n",
      "[5] {Eryk_Lubos}                         => {Agata_Kulesza} 0.01052632\n",
      "[6] {Adam_Woronowicz}                    => {Agata_Kulesza} 0.01052632\n",
      "[7] {}                                   => {Agata_Kulesza} 0.03859649\n",
      "    confidence lift      count\n",
      "[1] 0.75000000 19.431818  6   \n",
      "[2] 0.50000000 12.954545  7   \n",
      "[3] 0.30000000  7.772727  6   \n",
      "[4] 0.24242424  6.280992  8   \n",
      "[5] 0.24000000  6.218182  6   \n",
      "[6] 0.19354839  5.014663  6   \n",
      "[7] 0.03859649  1.000000 22   \n"
     ]
    }
   ],
   "source": [
    "rules <- apriori(df, \n",
    "    parameter = list(support = 0.01, confidence = 0.01))\n",
    "\n",
    "chabior.rules <- sort(subset(rules, subset = rhs %in% \"Agata_Kulesza\"), \n",
    "                   by = \"confidence\")\n",
    "\n",
    "summary(chabior.rules)\n",
    "inspect(chabior.rules)"
   ]
  },
  {
   "cell_type": "code",
   "execution_count": 16,
   "metadata": {
    "ExecuteTime": {
     "end_time": "2019-12-26T21:47:32.877169Z",
     "start_time": "2019-12-26T21:47:32.789Z"
    },
    "scrolled": false
   },
   "outputs": [
    {
     "name": "stdout",
     "output_type": "stream",
     "text": [
      "Apriori\n",
      "\n",
      "Parameter specification:\n",
      " confidence minval smax arem  aval originalSupport maxtime support minlen\n",
      "        0.5    0.1    1 none FALSE            TRUE       5   0.006      1\n",
      " maxlen target   ext\n",
      "     10  rules FALSE\n",
      "\n",
      "Algorithmic control:\n",
      " filter tree heap memopt load sort verbose\n",
      "    0.1 TRUE TRUE  FALSE TRUE    2    TRUE\n",
      "\n",
      "Absolute minimum support count: 3 \n",
      "\n",
      "set item appearances ...[0 item(s)] done [0.00s].\n",
      "set transactions ...[11659 item(s), 570 transaction(s)] done [0.01s].\n",
      "sorting and recoding items ... [939 item(s)] done [0.00s].\n",
      "creating transaction tree ... done [0.00s].\n",
      "checking subsets of size 1 2 3 4 5 6 done [0.00s].\n",
      "writing ... [601 rule(s)] done [0.00s].\n",
      "creating S4 object  ... done [0.00s].\n",
      "    lhs                       rhs                  support confidence      lift count\n",
      "[1] {Wojciech_Machnicki}   => {Janusz_Chabior} 0.010526316  0.7500000  9.500000     6\n",
      "[2] {Grzegorz_Milczarczyk} => {Janusz_Chabior} 0.007017544  0.6666667  8.444444     4\n",
      "[3] {Bartosz_Obuchowicz}   => {Janusz_Chabior} 0.007017544  0.5000000  6.333333     4\n",
      "[4] {Wojciech_Kalinowski}  => {Janusz_Chabior} 0.007017544  0.5000000  6.333333     4\n",
      "[5] {Filip_Guźla}          => {Janusz_Chabior} 0.007017544  0.5714286  7.238095     4\n",
      "[6] {Tomasz_Oświeciński,                                                             \n",
      "     Wojciech_Kalinowski}  => {Janusz_Chabior} 0.007017544  0.6666667  8.444444     4\n",
      "[7] {Tomasz_Oświeciński,                                                             \n",
      "     Wojciech_Machnicki}   => {Janusz_Chabior} 0.007017544  0.8000000 10.133333     4\n",
      "[8] {Piotr_Głowacki,                                                                 \n",
      "     Rafał_Iwaniuk}        => {Janusz_Chabior} 0.007017544  0.6666667  8.444444     4\n",
      "[9] {Olga_Bołądź,                                                                    \n",
      "     Tomasz_Oświeciński}   => {Janusz_Chabior} 0.007017544  1.0000000 12.666667     4\n"
     ]
    }
   ],
   "source": [
    "rules <- apriori(df, \n",
    "    parameter = list(support = 0.006, confidence = 0.5))\n",
    "\n",
    "chabior.rules <- sort(subset(rules, subset = rhs %in% \"Janusz_Chabior\"), \n",
    "                   by = \"count\")\n",
    "\n",
    "# summary(chabior.rules)\n",
    "inspect(chabior.rules)"
   ]
  },
  {
   "cell_type": "code",
   "execution_count": 17,
   "metadata": {
    "ExecuteTime": {
     "end_time": "2019-12-26T21:47:57.699431Z",
     "start_time": "2019-12-26T21:47:57.670Z"
    }
   },
   "outputs": [
    {
     "data": {
      "text/html": [
       "<ol class=list-inline>\n",
       "\t<li>TRUE</li>\n",
       "\t<li>TRUE</li>\n",
       "\t<li>FALSE</li>\n",
       "\t<li>FALSE</li>\n",
       "\t<li>TRUE</li>\n",
       "\t<li>TRUE</li>\n",
       "\t<li>TRUE</li>\n",
       "\t<li>TRUE</li>\n",
       "\t<li>TRUE</li>\n",
       "</ol>\n"
      ],
      "text/latex": [
       "\\begin{enumerate*}\n",
       "\\item TRUE\n",
       "\\item TRUE\n",
       "\\item FALSE\n",
       "\\item FALSE\n",
       "\\item TRUE\n",
       "\\item TRUE\n",
       "\\item TRUE\n",
       "\\item TRUE\n",
       "\\item TRUE\n",
       "\\end{enumerate*}\n"
      ],
      "text/markdown": [
       "1. TRUE\n",
       "2. TRUE\n",
       "3. FALSE\n",
       "4. FALSE\n",
       "5. TRUE\n",
       "6. TRUE\n",
       "7. TRUE\n",
       "8. TRUE\n",
       "9. TRUE\n",
       "\n",
       "\n"
      ],
      "text/plain": [
       "[1]  TRUE  TRUE FALSE FALSE  TRUE  TRUE  TRUE  TRUE  TRUE"
      ]
     },
     "metadata": {},
     "output_type": "display_data"
    }
   ],
   "source": [
    "is.significant(chabior.rules, df) "
   ]
  },
  {
   "cell_type": "code",
   "execution_count": 18,
   "metadata": {
    "ExecuteTime": {
     "end_time": "2019-12-26T21:48:13.402993Z",
     "start_time": "2019-12-26T21:48:13.368Z"
    }
   },
   "outputs": [
    {
     "data": {
      "text/html": [
       "<ol class=list-inline>\n",
       "\t<li>FALSE</li>\n",
       "\t<li>TRUE</li>\n",
       "\t<li>TRUE</li>\n",
       "\t<li>FALSE</li>\n",
       "\t<li>TRUE</li>\n",
       "\t<li>TRUE</li>\n",
       "\t<li>TRUE</li>\n",
       "\t<li>TRUE</li>\n",
       "\t<li>TRUE</li>\n",
       "</ol>\n"
      ],
      "text/latex": [
       "\\begin{enumerate*}\n",
       "\\item FALSE\n",
       "\\item TRUE\n",
       "\\item TRUE\n",
       "\\item FALSE\n",
       "\\item TRUE\n",
       "\\item TRUE\n",
       "\\item TRUE\n",
       "\\item TRUE\n",
       "\\item TRUE\n",
       "\\end{enumerate*}\n"
      ],
      "text/markdown": [
       "1. FALSE\n",
       "2. TRUE\n",
       "3. TRUE\n",
       "4. FALSE\n",
       "5. TRUE\n",
       "6. TRUE\n",
       "7. TRUE\n",
       "8. TRUE\n",
       "9. TRUE\n",
       "\n",
       "\n"
      ],
      "text/plain": [
       "[1] FALSE  TRUE  TRUE FALSE  TRUE  TRUE  TRUE  TRUE  TRUE"
      ]
     },
     "metadata": {},
     "output_type": "display_data"
    }
   ],
   "source": [
    "is.maximal(chabior.rules) "
   ]
  },
  {
   "cell_type": "code",
   "execution_count": 19,
   "metadata": {
    "ExecuteTime": {
     "end_time": "2019-12-26T21:48:25.925176Z",
     "start_time": "2019-12-26T21:48:25.889Z"
    }
   },
   "outputs": [
    {
     "data": {
      "text/html": [
       "<ol class=list-inline>\n",
       "\t<li>FALSE</li>\n",
       "\t<li>FALSE</li>\n",
       "\t<li>FALSE</li>\n",
       "\t<li>FALSE</li>\n",
       "\t<li>FALSE</li>\n",
       "\t<li>FALSE</li>\n",
       "\t<li>FALSE</li>\n",
       "\t<li>FALSE</li>\n",
       "\t<li>FALSE</li>\n",
       "</ol>\n"
      ],
      "text/latex": [
       "\\begin{enumerate*}\n",
       "\\item FALSE\n",
       "\\item FALSE\n",
       "\\item FALSE\n",
       "\\item FALSE\n",
       "\\item FALSE\n",
       "\\item FALSE\n",
       "\\item FALSE\n",
       "\\item FALSE\n",
       "\\item FALSE\n",
       "\\end{enumerate*}\n"
      ],
      "text/markdown": [
       "1. FALSE\n",
       "2. FALSE\n",
       "3. FALSE\n",
       "4. FALSE\n",
       "5. FALSE\n",
       "6. FALSE\n",
       "7. FALSE\n",
       "8. FALSE\n",
       "9. FALSE\n",
       "\n",
       "\n"
      ],
      "text/plain": [
       "[1] FALSE FALSE FALSE FALSE FALSE FALSE FALSE FALSE FALSE"
      ]
     },
     "metadata": {},
     "output_type": "display_data"
    }
   ],
   "source": [
    "is.redundant(chabior.rules) "
   ]
  },
  {
   "cell_type": "code",
   "execution_count": 20,
   "metadata": {
    "ExecuteTime": {
     "end_time": "2019-12-26T21:48:38.766181Z",
     "start_time": "2019-12-26T21:48:38.638Z"
    }
   },
   "outputs": [
    {
     "name": "stderr",
     "output_type": "stream",
     "text": [
      "To reduce overplotting, jitter is added! Use jitter = 0 to prevent jitter.\n"
     ]
    },
    {
     "data": {
      "image/png": "[encoded data removed]",
      "text/plain": [
       "plot without title"
      ]
     },
     "metadata": {},
     "output_type": "display_data"
    }
   ],
   "source": [
    "plot(chabior.rules,  measure=c(\"support\", \"confidence\"), shading=\"lift\")\n"
   ]
  },
  {
   "cell_type": "code",
   "execution_count": 31,
   "metadata": {
    "ExecuteTime": {
     "end_time": "2019-12-26T21:57:23.228453Z",
     "start_time": "2019-12-26T21:57:23.110Z"
    },
    "scrolled": false
   },
   "outputs": [
    {
     "name": "stdout",
     "output_type": "stream",
     "text": [
      "Itemsets in Antecedent (LHS)\n",
      " [1] \"{Filip_Guźla}\"                       \n",
      " [2] \"{Wojciech_Kalinowski}\"               \n",
      " [3] \"{Agata_Kulesza,Marian_Dziędziel}\"    \n",
      " [4] \"{Marcin_Dorociński,Marian_Dziędziel}\"\n",
      " [5] \"{Tomasz_Oświeciński}\"                \n",
      " [6] \"{Piotr_Stramowski}\"                  \n",
      " [7] \"{Agata_Kulesza,Marcin_Dorociński}\"   \n",
      " [8] \"{Krzysztof_Stelmaszyk}\"              \n",
      " [9] \"{Rafał_Zawierucha}\"                  \n",
      "[10] \"{Anita_Poddębniak}\"                  \n",
      "[11] \"{Dariusz_Chojnacki}\"                 \n",
      "[12] \"{Roman_Gancarczyk}\"                  \n",
      "[13] \"{Marcin_Juchniewicz}\"                \n",
      "[14] \"{Piotr_Tołoczko}\"                    \n",
      "[15] \"{Lech_Dyblik}\"                       \n",
      "[16] \"{Wojciech_Machnicki}\"                \n",
      "[17] \"{Andrzej_Deskur}\"                    \n",
      "[18] \"{Jacek_Braciak}\"                     \n",
      "[19] \"{Bogusław_Linda}\"                    \n",
      "[20] \"{Marek_Kalita}\"                      \n",
      "[21] \"{Borys_Szyc}\"                        \n",
      "[22] \"{Daniel_Olbrychski}\"                 \n",
      "[23] \"{Agata_Kulesza}\"                     \n",
      "[24] \"{Wiesław_Cichy}\"                     \n",
      "[25] \"{Marcin_Dorociński}\"                 \n",
      "[26] \"{Robert_Wabich}\"                     \n",
      "[27] \"{Arkadiusz_Jakubik}\"                 \n",
      "[28] \"{Gabriela_Muskała}\"                  \n",
      "[29] \"{Zbigniew_Konopka}\"                  \n",
      "[30] \"{Tomasz_Sapryk}\"                     \n",
      "[31] \"{Andrzej_Grabowski}\"                 \n",
      "[32] \"{Krzysztof_Dracz}\"                   \n",
      "[33] \"{Marek_Kossakowski}\"                 \n",
      "[34] \"{Izabela_Kuna}\"                      \n",
      "[35] \"{Marian_Dziędziel}\"                  \n",
      "[36] \"{Rafał_Iwaniuk}\"                     \n",
      "[37] \"{Przemysław_Bluszcz}\"                \n",
      "[38] \"{Sonia_Bohosiewicz}\"                 \n",
      "[39] \"{Eryk_Lubos}\"                        \n",
      "[40] \"{Sebastian_Stankiewicz}\"             \n",
      "[41] \"{Roma_Gąsiorowska}\"                  \n",
      "[42] \"{Artur_Krajewski}\"                   \n",
      "[43] \"{Robert_Więckiewicz}\"                \n",
      "[44] \"{Bartłomiej_Topa}\"                   \n",
      "[45] \"{Krzysztof_Czeczot}\"                 \n",
      "[46] \"{Maciej_Stuhr}\"                      \n",
      "[47] \"{Adam_Woronowicz}\"                   \n",
      "Itemsets in Consequent (RHS)\n",
      " [1] \"{Adam_Woronowicz}\"      \"{Janusz_Chabior}\"       \"{Piotr_Głowacki}\"      \n",
      " [4] \"{Sonia_Bohosiewicz}\"    \"{Eryk_Lubos}\"           \"{Tomasz_Sapryk}\"       \n",
      " [7] \"{Marian_Dziędziel}\"     \"{Arkadiusz_Jakubik}\"    \"{Izabela_Kuna}\"        \n",
      "[10] \"{Robert_Wabich}\"        \"{Łukasz_Simlat}\"        \"{Przemysław_Bluszcz}\"  \n",
      "[13] \"{Daniel_Olbrychski}\"    \"{Borys_Szyc}\"           \"{Bogusław_Linda}\"      \n",
      "[16] \"{Jacek_Braciak}\"        \"{Andrzej_Grabowski}\"    \"{Agata_Kulesza}\"       \n",
      "[19] \"{Lech_Dyblik}\"          \"{Marcin_Dorociński}\"    \"{Roman_Gancarczyk}\"    \n",
      "[22] \"{Marcin_Juchniewicz}\"   \"{Dariusz_Chojnacki}\"    \"{Anita_Poddębniak}\"    \n",
      "[25] \"{Rafał_Zawierucha}\"     \"{Krzysztof_Stelmaszyk}\" \"{Piotr_Stramowski}\"    \n",
      "[28] \"{Tomasz_Oświeciński}\"   \"{Wojciech_Kalinowski}\"  \"{Filip_Guźla}\"         \n"
     ]
    },
    {
     "data": {
      "image/png": "[encoded data removed]",
      "text/plain": [
       "plot without title"
      ]
     },
     "metadata": {},
     "output_type": "display_data"
    }
   ],
   "source": [
    "plot(rules, method=\"matrix\", measure=\"lift\")"
   ]
  },
  {
   "cell_type": "code",
   "execution_count": 32,
   "metadata": {
    "ExecuteTime": {
     "end_time": "2019-12-26T21:57:55.939586Z",
     "start_time": "2019-12-26T21:57:55.585Z"
    }
   },
   "outputs": [
    {
     "data": {
      "image/png": "[encoded data removed]",
      "text/plain": [
       "plot without title"
      ]
     },
     "metadata": {},
     "output_type": "display_data"
    }
   ],
   "source": [
    "plot(rules, method=\"grouped\") "
   ]
  },
  {
   "cell_type": "code",
   "execution_count": 33,
   "metadata": {
    "ExecuteTime": {
     "end_time": "2019-12-26T21:58:33.384466Z",
     "start_time": "2019-12-26T21:58:28.913Z"
    }
   },
   "outputs": [
    {
     "data": {
      "image/png": "[encoded data removed]",
      "text/plain": [
       "plot without title"
      ]
     },
     "metadata": {},
     "output_type": "display_data"
    }
   ],
   "source": [
    "plot(rules, method=\"paracoord\", control=list(reorder=TRUE))"
   ]
  },
  {
   "cell_type": "code",
   "execution_count": 38,
   "metadata": {
    "ExecuteTime": {
     "end_time": "2019-12-26T22:03:16.779753Z",
     "start_time": "2019-12-26T22:03:16.738Z"
    }
   },
   "outputs": [
    {
     "data": {
      "text/plain": [
       "                   Adam_Woronowicz Andrzej_Chyra Borys_Szyc Janusz_Chabior\n",
       "Andrzej_Chyra                 0.98                                        \n",
       "Borys_Szyc                    0.97          0.98                          \n",
       "Janusz_Chabior                0.88          0.96       0.96               \n",
       "Łukasz_Simlat                 0.94          0.92       0.95           0.93\n",
       "Marian_Dziędziel              0.88          0.97       0.93           0.93\n",
       "Piotr_Głowacki                0.96          0.97       0.94           0.92\n",
       "Przemysław_Bluszcz            0.95          1.00       0.97           0.93\n",
       "                   Łukasz_Simlat Marian_Dziędziel Piotr_Głowacki\n",
       "Andrzej_Chyra                                                   \n",
       "Borys_Szyc                                                      \n",
       "Janusz_Chabior                                                  \n",
       "Łukasz_Simlat                                                   \n",
       "Marian_Dziędziel            0.90                                \n",
       "Piotr_Głowacki              0.93             0.94               \n",
       "Przemysław_Bluszcz          0.94             0.93           0.94"
      ]
     },
     "metadata": {},
     "output_type": "display_data"
    }
   ],
   "source": [
    "df_tmp<-df[,itemFrequency(df)>0.05] # selected transactions\n",
    "jaccard <- dissimilarity(df_tmp, which=\"items\", method = \"jaccard\")\n",
    "round(jaccard, 2) "
   ]
  },
  {
   "cell_type": "code",
   "execution_count": 37,
   "metadata": {
    "ExecuteTime": {
     "end_time": "2019-12-26T22:02:27.059102Z",
     "start_time": "2019-12-26T22:02:27.033Z"
    }
   },
   "outputs": [
    {
     "data": {
      "text/plain": [
       "transactions in sparse format with\n",
       " 570 transactions (rows) and\n",
       " 8 items (columns)"
      ]
     },
     "metadata": {},
     "output_type": "display_data"
    }
   ],
   "source": [
    "df_tmp"
   ]
  },
  {
   "cell_type": "code",
   "execution_count": null,
   "metadata": {},
   "outputs": [],
   "source": []
  }
 ],
 "metadata": {
  "kernelspec": {
   "display_name": "R",
   "language": "R",
   "name": "ir"
  },
  "language_info": {
   "codemirror_mode": "r",
   "file_extension": ".r",
   "mimetype": "text/x-r-source",
   "name": "R",
   "pygments_lexer": "r",
   "version": "3.6.1"
  }
 },
 "nbformat": 4,
 "nbformat_minor": 2
}
