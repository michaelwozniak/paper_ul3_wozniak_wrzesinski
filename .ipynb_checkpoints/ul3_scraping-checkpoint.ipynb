{
 "cells": [
  {
   "cell_type": "code",
   "execution_count": 55,
   "metadata": {
    "ExecuteTime": {
     "end_time": "2019-12-26T15:57:18.768728Z",
     "start_time": "2019-12-26T15:57:18.764729Z"
    }
   },
   "outputs": [],
   "source": [
    "import pandas as pd\n",
    "import requests\n",
    "from bs4 import BeautifulSoup\n",
    "from selenium import webdriver\n",
    "from selenium.webdriver.chrome.options import Options  \n",
    "chrome_options = Options()  \n",
    "chrome_options.add_argument(\"--headless\")\n",
    "import time"
   ]
  },
  {
   "cell_type": "code",
   "execution_count": 65,
   "metadata": {
    "ExecuteTime": {
     "end_time": "2019-12-26T15:59:07.291895Z",
     "start_time": "2019-12-26T15:59:07.283885Z"
    }
   },
   "outputs": [],
   "source": [
    "urls = [\"https://www.filmweb.pl/ranking/film/Polska/42/\" + str(i) for i in range(2010,2020)]\n",
    "film_names = list()"
   ]
  },
  {
   "cell_type": "code",
   "execution_count": 43,
   "metadata": {
    "ExecuteTime": {
     "end_time": "2019-12-26T15:52:36.222631Z",
     "start_time": "2019-12-26T15:52:36.030135Z"
    }
   },
   "outputs": [],
   "source": [
    "web_page = requests.get(\"https://www.filmweb.pl/ranking/film/Polska/42/2010\")"
   ]
  },
  {
   "cell_type": "code",
   "execution_count": 66,
   "metadata": {
    "ExecuteTime": {
     "end_time": "2019-12-26T15:59:08.840993Z",
     "start_time": "2019-12-26T15:59:08.713774Z"
    }
   },
   "outputs": [],
   "source": [
    "soup = BeautifulSoup(web_page.text, 'html.parser')"
   ]
  },
  {
   "cell_type": "code",
   "execution_count": 67,
   "metadata": {
    "ExecuteTime": {
     "end_time": "2019-12-26T15:59:09.052507Z",
     "start_time": "2019-12-26T15:59:09.028502Z"
    }
   },
   "outputs": [],
   "source": [
    "for link in soup.findAll('a', {'class': 'film__link'}):\n",
    "    try:\n",
    "        film_names.append(\"https://www.filmweb.pl\"+link['href']+\"/cast\")\n",
    "    except:\n",
    "        pass"
   ]
  },
  {
   "cell_type": "code",
   "execution_count": 68,
   "metadata": {
    "ExecuteTime": {
     "end_time": "2019-12-26T15:59:09.679809Z",
     "start_time": "2019-12-26T15:59:09.671795Z"
    }
   },
   "outputs": [
    {
     "data": {
      "text/plain": [
       "['https://www.filmweb.pl/film/Korespondent+Bryan-2010-596324/cast',\n",
       " 'https://www.filmweb.pl/film/Animowana+historia+Polski-2010-569151/cast',\n",
       " 'https://www.filmweb.pl/film/Wyspa+skaza%C5%84c%C3%B3w-2010-478478/cast',\n",
       " 'https://www.filmweb.pl/film/Dr%C5%BC%C4%85ce+tr%C4%85by-2010-619729/cast',\n",
       " 'https://www.filmweb.pl/film/Millhaven-2010-567860/cast',\n",
       " 'https://www.filmweb.pl/film/R%C3%B3%C5%BCyczka-2010-490328/cast',\n",
       " 'https://www.filmweb.pl/film/Niepokonani-2010-496469/cast',\n",
       " 'https://www.filmweb.pl/film/Lincz-2010-577958/cast',\n",
       " 'https://www.filmweb.pl/film/Trzy+minuty.+21%3A37-2010-479730/cast',\n",
       " 'https://www.filmweb.pl/film/Beats+of+Freedom+-+Zew+wolno%C5%9Bci-2010-527751/cast',\n",
       " 'https://www.filmweb.pl/film/Danny+Boy-2010-568933/cast',\n",
       " 'https://www.filmweb.pl/film/Deklaracja+nie%C5%9Bmiertelno%C5%9Bci-2010-568960/cast',\n",
       " 'https://www.filmweb.pl/film/Dziewcz%C4%99ta+z+Auschwitz-2010-641767/cast',\n",
       " 'https://www.filmweb.pl/film/Wenecja-2010-518872/cast',\n",
       " 'https://www.filmweb.pl/film/Paths+of+Hate-2010-348471/cast',\n",
       " 'https://www.filmweb.pl/film/Miasto+ruin-2010-590374/cast',\n",
       " 'https://www.filmweb.pl/film/Joanna-2010-509889/cast',\n",
       " 'https://www.filmweb.pl/film/Argenty%C5%84ska+lekcja-2010-629661/cast',\n",
       " 'https://www.filmweb.pl/film/Chrzest-2010-532942/cast',\n",
       " 'https://www.filmweb.pl/film/Sailor-2010-594374/cast',\n",
       " 'https://www.filmweb.pl/film/New+Poland-2010-599535/cast',\n",
       " 'https://www.filmweb.pl/film/Bry%C5%82y+%C5%BCyciorys%C3%B3w-2010-613307/cast',\n",
       " 'https://www.filmweb.pl/film/Asylum+5D-2010-557735/cast',\n",
       " 'https://www.filmweb.pl/film/Glasgow-2010-614100/cast',\n",
       " 'https://www.filmweb.pl/film/Jutro+b%C4%99dzie+lepiej-2010-470445/cast']"
      ]
     },
     "execution_count": 68,
     "metadata": {},
     "output_type": "execute_result"
    }
   ],
   "source": [
    "film_names"
   ]
  },
  {
   "cell_type": "code",
   "execution_count": 71,
   "metadata": {
    "ExecuteTime": {
     "end_time": "2019-12-26T16:10:15.641241Z",
     "start_time": "2019-12-26T16:10:02.872703Z"
    }
   },
   "outputs": [
    {
     "ename": "NameError",
     "evalue": "name 'browser' is not defined",
     "output_type": "error",
     "traceback": [
      "\u001b[1;31m---------------------------------------------------------------------------\u001b[0m",
      "\u001b[1;31mNameError\u001b[0m                                 Traceback (most recent call last)",
      "\u001b[1;32m<ipython-input-71-1372e980c734>\u001b[0m in \u001b[0;36m<module>\u001b[1;34m\u001b[0m\n\u001b[0;32m      2\u001b[0m \u001b[0mdriver\u001b[0m\u001b[1;33m.\u001b[0m\u001b[0mget\u001b[0m\u001b[1;33m(\u001b[0m\u001b[1;34m\"https://www.filmweb.pl/ranking/film/Polska/42/2011\"\u001b[0m\u001b[1;33m)\u001b[0m\u001b[1;33m\u001b[0m\u001b[1;33m\u001b[0m\u001b[0m\n\u001b[0;32m      3\u001b[0m \u001b[1;33m\u001b[0m\u001b[0m\n\u001b[1;32m----> 4\u001b[1;33m \u001b[0mall_iframes\u001b[0m \u001b[1;33m=\u001b[0m \u001b[0mbrowser\u001b[0m\u001b[1;33m.\u001b[0m\u001b[0mfind_elements_by_tag_name\u001b[0m\u001b[1;33m(\u001b[0m\u001b[1;34m\"iframe\"\u001b[0m\u001b[1;33m)\u001b[0m\u001b[1;33m\u001b[0m\u001b[1;33m\u001b[0m\u001b[0m\n\u001b[0m\u001b[0;32m      5\u001b[0m \u001b[1;32mif\u001b[0m \u001b[0mlen\u001b[0m\u001b[1;33m(\u001b[0m\u001b[0mall_iframes\u001b[0m\u001b[1;33m)\u001b[0m \u001b[1;33m>\u001b[0m \u001b[1;36m0\u001b[0m\u001b[1;33m:\u001b[0m\u001b[1;33m\u001b[0m\u001b[1;33m\u001b[0m\u001b[0m\n\u001b[0;32m      6\u001b[0m     \u001b[0mprint\u001b[0m\u001b[1;33m(\u001b[0m\u001b[1;34m\"Ad Found\\n\"\u001b[0m\u001b[1;33m)\u001b[0m\u001b[1;33m\u001b[0m\u001b[1;33m\u001b[0m\u001b[0m\n",
      "\u001b[1;31mNameError\u001b[0m: name 'browser' is not defined"
     ]
    }
   ],
   "source": [
    "driver = webdriver.Chrome()\n",
    "driver.get(\"https://www.filmweb.pl/ranking/film/Polska/42/2011\")\n",
    "\n",
    "all_iframes = driver.find_elements_by_tag_name(\"iframe\")\n",
    "if len(all_iframes) > 0:\n",
    "    print(\"Ad Found\\n\")\n",
    "    driver.execute_script(\"\"\"\n",
    "        var elems = document.getElementsByTagName(\"iframe\"); \n",
    "        for(var i = 0, max = elems.length; i < max; i++)\n",
    "             {\n",
    "                 elems[i].hidden=true;\n",
    "             }\n",
    "                          \"\"\")\n",
    "    print('Total Ads: ' + str(len(all_iframes)))\n",
    "else:\n",
    "    print('No frames found')\n",
    "\n",
    "# time.sleep(2)\n",
    "# try:\n",
    "#     driver.find_element_by_css_selector(\"button.ws__skipButton\").click()\n",
    "# except:\n",
    "#     pass\n",
    "# driver.find_element_by_css_selector(\"div.rodo__buttons\").click()\n",
    "# driver.execute_script(\"window.scrollTo(0, 1000);\")\n",
    "# time.sleep(0.5)\n",
    "# tmp = driver.find_elements_by_css_selector(\"a.film__link\")"
   ]
  },
  {
   "cell_type": "code",
   "execution_count": 42,
   "metadata": {
    "ExecuteTime": {
     "end_time": "2019-12-26T14:57:35.107434Z",
     "start_time": "2019-12-26T14:57:35.099431Z"
    }
   },
   "outputs": [
    {
     "data": {
      "text/plain": [
       "25"
      ]
     },
     "execution_count": 42,
     "metadata": {},
     "output_type": "execute_result"
    }
   ],
   "source": [
    "len(tmp)"
   ]
  },
  {
   "cell_type": "code",
   "execution_count": null,
   "metadata": {},
   "outputs": [],
   "source": []
  }
 ],
 "metadata": {
  "kernelspec": {
   "display_name": "Python 3",
   "language": "python",
   "name": "python3"
  },
  "language_info": {
   "codemirror_mode": {
    "name": "ipython",
    "version": 3
   },
   "file_extension": ".py",
   "mimetype": "text/x-python",
   "name": "python",
   "nbconvert_exporter": "python",
   "pygments_lexer": "ipython3",
   "version": "3.7.3"
  }
 },
 "nbformat": 4,
 "nbformat_minor": 2
}
