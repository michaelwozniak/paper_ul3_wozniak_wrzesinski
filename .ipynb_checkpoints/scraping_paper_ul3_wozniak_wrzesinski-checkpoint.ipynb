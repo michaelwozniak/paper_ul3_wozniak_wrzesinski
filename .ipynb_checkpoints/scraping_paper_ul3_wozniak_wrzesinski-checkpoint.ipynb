{
 "cells": [
  {
   "cell_type": "code",
   "execution_count": 18,
   "metadata": {
    "ExecuteTime": {
     "end_time": "2019-12-26T16:54:34.323301Z",
     "start_time": "2019-12-26T16:54:34.319321Z"
    }
   },
   "outputs": [],
   "source": [
    "import pandas as pd\n",
    "import requests\n",
    "from bs4 import BeautifulSoup\n",
    "from selenium import webdriver\n",
    "from selenium.webdriver.chrome.options import Options  \n",
    "chrome_options = Options()  \n",
    "chrome_options.add_argument(\"--headless\")\n",
    "import time\n",
    "import xlsxwriter"
   ]
  },
  {
   "cell_type": "code",
   "execution_count": 19,
   "metadata": {
    "ExecuteTime": {
     "end_time": "2019-12-26T16:54:34.543580Z",
     "start_time": "2019-12-26T16:54:34.539582Z"
    }
   },
   "outputs": [],
   "source": [
    "list_of_the_top_films_by_year = list()\n",
    "list_of_actors = list()\n",
    "html_code = list()"
   ]
  },
  {
   "cell_type": "code",
   "execution_count": 22,
   "metadata": {
    "ExecuteTime": {
     "end_time": "2019-12-26T16:56:10.164764Z",
     "start_time": "2019-12-26T16:54:35.263332Z"
    }
   },
   "outputs": [],
   "source": [
    "driver = webdriver.Chrome()\n",
    "\n",
    "for i in range(2010,2020):\n",
    "    driver.get(f\"https://www.filmweb.pl/ranking/film/Polska/42/{i}\")\n",
    "    time.sleep(2)\n",
    "    driver.execute_script(\"window.scrollTo(0, document.body.scrollHeight);\")\n",
    "    time.sleep(2)\n",
    "    html_code.append(driver.page_source)"
   ]
  },
  {
   "cell_type": "code",
   "execution_count": 34,
   "metadata": {
    "ExecuteTime": {
     "end_time": "2019-12-26T17:02:37.207980Z",
     "start_time": "2019-12-26T17:02:35.161955Z"
    }
   },
   "outputs": [],
   "source": [
    "for i in html_code:\n",
    "    soup = BeautifulSoup(i, 'html.parser')\n",
    "    for link in soup.findAll('a', {'class': 'film__link'}):\n",
    "        try:\n",
    "            list_of_the_top_films_by_year.append(\"https://www.filmweb.pl\"+link['href']+\"/cast\")\n",
    "        except:\n",
    "            pass"
   ]
  },
  {
   "cell_type": "code",
   "execution_count": 35,
   "metadata": {
    "ExecuteTime": {
     "end_time": "2019-12-26T17:07:59.879072Z",
     "start_time": "2019-12-26T17:02:37.882300Z"
    }
   },
   "outputs": [],
   "source": [
    "for i in list_of_the_top_films_by_year:\n",
    "    tmp = list()\n",
    "    web_page = requests.get(i)\n",
    "    soup =  BeautifulSoup(web_page.text, 'html.parser')\n",
    "    for j in soup.findAll('a', {'class': 'pImg46'}):\n",
    "        tmp.append(j[\"title\"])\n",
    "    list_of_actors.append(tmp)"
   ]
  },
  {
   "cell_type": "code",
   "execution_count": 45,
   "metadata": {
    "ExecuteTime": {
     "end_time": "2019-12-26T17:12:25.305856Z",
     "start_time": "2019-12-26T17:12:25.300859Z"
    },
    "code_folding": []
   },
   "outputs": [],
   "source": [
    "list_of_actors_cleared = list()\n",
    "\n",
    "for i in list_of_actors:\n",
    "    if(len(i)!=0):\n",
    "        list_of_actors_cleared.append(i)"
   ]
  },
  {
   "cell_type": "code",
   "execution_count": 47,
   "metadata": {
    "ExecuteTime": {
     "end_time": "2019-12-26T17:12:45.618717Z",
     "start_time": "2019-12-26T17:12:45.237327Z"
    }
   },
   "outputs": [],
   "source": [
    "with xlsxwriter.Workbook('datasets/dataset.xlsx') as workbook:\n",
    "    worksheet = workbook.add_worksheet()\n",
    "    for row_num, data in enumerate(list_of_actors_cleared):\n",
    "        worksheet.write_row(row_num, 0, data)"
   ]
  }
 ],
 "metadata": {
  "kernelspec": {
   "display_name": "Python 3",
   "language": "python",
   "name": "python3"
  },
  "language_info": {
   "codemirror_mode": {
    "name": "ipython",
    "version": 3
   },
   "file_extension": ".py",
   "mimetype": "text/x-python",
   "name": "python",
   "nbconvert_exporter": "python",
   "pygments_lexer": "ipython3",
   "version": "3.7.3"
  }
 },
 "nbformat": 4,
 "nbformat_minor": 2
}
